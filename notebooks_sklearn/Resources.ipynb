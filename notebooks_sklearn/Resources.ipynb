{
 "cells": [
  {
   "cell_type": "markdown",
   "metadata": {},
   "source": [
    "# Recursos"
   ]
  },
  {
   "cell_type": "markdown",
   "metadata": {},
   "source": [
    "## Notebooks\n",
    "http://nb.bianp.net/sort/views/ Links to the best IPython and Jupyter Notebooks.\n",
    "\n",
    "## Datasets\n",
    "https://www.kaggle.com/ Competiciones & Datasets\n",
    "\n",
    "http://archive.ics.uci.edu/ml/ UC Irvine Machine Learning Repository\n",
    "\n",
    "\n",
    "## Dive into ML\n",
    "http://datasciencemasters.org/ The open-source curriculum for learning Data Science"
   ]
  },
  {
   "cell_type": "code",
   "execution_count": null,
   "metadata": {
    "collapsed": true
   },
   "outputs": [],
   "source": []
  }
 ],
 "metadata": {
  "anaconda-cloud": {},
  "kernelspec": {
   "display_name": "Python 3",
   "language": "python",
   "name": "python3"
  },
  "language_info": {
   "codemirror_mode": {
    "name": "ipython",
    "version": 3
   },
   "file_extension": ".py",
   "mimetype": "text/x-python",
   "name": "python",
   "nbconvert_exporter": "python",
   "pygments_lexer": "ipython3",
   "version": "3.6.0"
  }
 },
 "nbformat": 4,
 "nbformat_minor": 1
}
