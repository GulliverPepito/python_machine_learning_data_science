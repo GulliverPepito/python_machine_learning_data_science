{
 "cells": [
  {
   "cell_type": "code",
   "execution_count": 1,
   "metadata": {
    "collapsed": false
   },
   "outputs": [
    {
     "name": "stdout",
     "output_type": "stream",
     "text": [
      "[[ 1.  1.]\n",
      " [ 2.  2.]\n",
      " [ 3.  3.]]\n",
      "[['whitefly']\n",
      " ['thrip']\n",
      " ['aphid']]\n"
     ]
    }
   ],
   "source": [
    "import requests\n",
    "from bs4 import BeautifulSoup\n",
    "import numpy as np\n",
    "\n",
    "url = requests.get(\"http://interthing.org/dmls/species.html\");\n",
    "html = url.text\n",
    "soup = BeautifulSoup(html, \"lxml\")\n",
    "table = soup.find(\"table\")\n",
    "\n",
    "headings = [th.get_text() for th in table.find(\"tr\").find_all(\"th\")]\n",
    "\n",
    "datasets = []\n",
    "for row in table.find_all(\"tr\")[1:]:\n",
    "\tdataset = list(zip(headings, (td.get_text() for td in \trow.find_all(\"td\"))))\n",
    "\tdatasets.append(dataset)\n",
    "\n",
    "nd=np.array(datasets)\n",
    "features=nd[:,1:,1].astype('float')\n",
    "targets=(nd[:,0,1:]).astype('str')\n",
    "print(features)\n",
    "print(targets)"
   ]
  }
 ],
 "metadata": {
  "kernelspec": {
   "display_name": "Python 3",
   "language": "python",
   "name": "python3"
  },
  "language_info": {
   "codemirror_mode": {
    "name": "ipython",
    "version": 3
   },
   "file_extension": ".py",
   "mimetype": "text/x-python",
   "name": "python",
   "nbconvert_exporter": "python",
   "pygments_lexer": "ipython3",
   "version": "3.6.0"
  }
 },
 "nbformat": 4,
 "nbformat_minor": 2
}
