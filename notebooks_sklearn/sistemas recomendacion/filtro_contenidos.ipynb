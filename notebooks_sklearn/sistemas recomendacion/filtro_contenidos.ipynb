{
 "cells": [
  {
   "cell_type": "code",
   "execution_count": 1,
   "metadata": {
    "collapsed": true
   },
   "outputs": [],
   "source": [
    "# En este ejemplo, crearemos un sistema de recomendaciones que recomiende películas a los usuarios\n",
    "#Utilizaremos el conjunto de datos Movielens. Un conjunto de datos gratuito que contiene miles de calificaciones de películas por parte de los usuarios."
   ]
  },
  {
   "cell_type": "code",
   "execution_count": 2,
   "metadata": {
    "collapsed": true
   },
   "outputs": [],
   "source": [
    "#Filtro basado en el contenido con el dataset de movielens\n",
    "#Vamos a utilizar las características de las peliculas para dar recomendaciones.\n",
    "#no vamos a tener en cuenta las puntuaciones de otros usuarios a la películas"
   ]
  },
  {
   "cell_type": "code",
   "execution_count": 2,
   "metadata": {
    "collapsed": true,
    "deletable": true,
    "editable": true
   },
   "outputs": [],
   "source": [
    "import pandas as pd"
   ]
  },
  {
   "cell_type": "code",
   "execution_count": 25,
   "metadata": {
    "collapsed": true,
    "deletable": true,
    "editable": true
   },
   "outputs": [],
   "source": [
    "import numpy as np"
   ]
  },
  {
   "cell_type": "code",
   "execution_count": 3,
   "metadata": {
    "collapsed": false,
    "deletable": true,
    "editable": true
   },
   "outputs": [],
   "source": [
    "#Para poder usar la columna movie_genre, tenemos que convertirla en un grupo de campos llamados dummy_variables.\n",
    "\n",
    "#Esta función convierte una variable categórica (por ejemplo, el genéro de la película puede ser Animation,\n",
    "#Comedy, Romance...), en múltiples columnas,uns para cada categoría\n",
    "\n",
    "#Para cada película, éstas columnas dummy tendrán un valor de 0 excepto para aquellos géneros que tenga la película.\n",
    "\n",
    "movies = pd.read_table('movielens/movies.dat', header=None, sep='::', \n",
    "                          names=['movie_id', 'movie_title', 'movie_genre'], engine='python')\n",
    "movies = pd.concat([movies, movies.movie_genre.str.get_dummies(sep='|')], axis=1)"
   ]
  },
  {
   "cell_type": "code",
   "execution_count": 4,
   "metadata": {
    "collapsed": true,
    "deletable": true,
    "editable": true
   },
   "outputs": [],
   "source": [
    "movie_categories = movies.columns[3:].tolist()"
   ]
  },
  {
   "cell_type": "code",
   "execution_count": 5,
   "metadata": {
    "collapsed": false,
    "deletable": true,
    "editable": true
   },
   "outputs": [
    {
     "data": {
      "text/html": [
       "<div>\n",
       "<table border=\"1\" class=\"dataframe\">\n",
       "  <thead>\n",
       "    <tr style=\"text-align: right;\">\n",
       "      <th></th>\n",
       "      <th>movie_id</th>\n",
       "      <th>movie_title</th>\n",
       "      <th>movie_genre</th>\n",
       "      <th>Action</th>\n",
       "      <th>Adventure</th>\n",
       "      <th>Animation</th>\n",
       "      <th>Children's</th>\n",
       "      <th>Comedy</th>\n",
       "      <th>Crime</th>\n",
       "      <th>Documentary</th>\n",
       "      <th>...</th>\n",
       "      <th>Fantasy</th>\n",
       "      <th>Film-Noir</th>\n",
       "      <th>Horror</th>\n",
       "      <th>Musical</th>\n",
       "      <th>Mystery</th>\n",
       "      <th>Romance</th>\n",
       "      <th>Sci-Fi</th>\n",
       "      <th>Thriller</th>\n",
       "      <th>War</th>\n",
       "      <th>Western</th>\n",
       "    </tr>\n",
       "  </thead>\n",
       "  <tbody>\n",
       "    <tr>\n",
       "      <th>0</th>\n",
       "      <td>1</td>\n",
       "      <td>Toy Story (1995)</td>\n",
       "      <td>Animation|Children's|Comedy</td>\n",
       "      <td>0</td>\n",
       "      <td>0</td>\n",
       "      <td>1</td>\n",
       "      <td>1</td>\n",
       "      <td>1</td>\n",
       "      <td>0</td>\n",
       "      <td>0</td>\n",
       "      <td>...</td>\n",
       "      <td>0</td>\n",
       "      <td>0</td>\n",
       "      <td>0</td>\n",
       "      <td>0</td>\n",
       "      <td>0</td>\n",
       "      <td>0</td>\n",
       "      <td>0</td>\n",
       "      <td>0</td>\n",
       "      <td>0</td>\n",
       "      <td>0</td>\n",
       "    </tr>\n",
       "    <tr>\n",
       "      <th>1</th>\n",
       "      <td>2</td>\n",
       "      <td>Jumanji (1995)</td>\n",
       "      <td>Adventure|Children's|Fantasy</td>\n",
       "      <td>0</td>\n",
       "      <td>1</td>\n",
       "      <td>0</td>\n",
       "      <td>1</td>\n",
       "      <td>0</td>\n",
       "      <td>0</td>\n",
       "      <td>0</td>\n",
       "      <td>...</td>\n",
       "      <td>1</td>\n",
       "      <td>0</td>\n",
       "      <td>0</td>\n",
       "      <td>0</td>\n",
       "      <td>0</td>\n",
       "      <td>0</td>\n",
       "      <td>0</td>\n",
       "      <td>0</td>\n",
       "      <td>0</td>\n",
       "      <td>0</td>\n",
       "    </tr>\n",
       "    <tr>\n",
       "      <th>2</th>\n",
       "      <td>3</td>\n",
       "      <td>Grumpier Old Men (1995)</td>\n",
       "      <td>Comedy|Romance</td>\n",
       "      <td>0</td>\n",
       "      <td>0</td>\n",
       "      <td>0</td>\n",
       "      <td>0</td>\n",
       "      <td>1</td>\n",
       "      <td>0</td>\n",
       "      <td>0</td>\n",
       "      <td>...</td>\n",
       "      <td>0</td>\n",
       "      <td>0</td>\n",
       "      <td>0</td>\n",
       "      <td>0</td>\n",
       "      <td>0</td>\n",
       "      <td>1</td>\n",
       "      <td>0</td>\n",
       "      <td>0</td>\n",
       "      <td>0</td>\n",
       "      <td>0</td>\n",
       "    </tr>\n",
       "    <tr>\n",
       "      <th>3</th>\n",
       "      <td>4</td>\n",
       "      <td>Waiting to Exhale (1995)</td>\n",
       "      <td>Comedy|Drama</td>\n",
       "      <td>0</td>\n",
       "      <td>0</td>\n",
       "      <td>0</td>\n",
       "      <td>0</td>\n",
       "      <td>1</td>\n",
       "      <td>0</td>\n",
       "      <td>0</td>\n",
       "      <td>...</td>\n",
       "      <td>0</td>\n",
       "      <td>0</td>\n",
       "      <td>0</td>\n",
       "      <td>0</td>\n",
       "      <td>0</td>\n",
       "      <td>0</td>\n",
       "      <td>0</td>\n",
       "      <td>0</td>\n",
       "      <td>0</td>\n",
       "      <td>0</td>\n",
       "    </tr>\n",
       "    <tr>\n",
       "      <th>4</th>\n",
       "      <td>5</td>\n",
       "      <td>Father of the Bride Part II (1995)</td>\n",
       "      <td>Comedy</td>\n",
       "      <td>0</td>\n",
       "      <td>0</td>\n",
       "      <td>0</td>\n",
       "      <td>0</td>\n",
       "      <td>1</td>\n",
       "      <td>0</td>\n",
       "      <td>0</td>\n",
       "      <td>...</td>\n",
       "      <td>0</td>\n",
       "      <td>0</td>\n",
       "      <td>0</td>\n",
       "      <td>0</td>\n",
       "      <td>0</td>\n",
       "      <td>0</td>\n",
       "      <td>0</td>\n",
       "      <td>0</td>\n",
       "      <td>0</td>\n",
       "      <td>0</td>\n",
       "    </tr>\n",
       "  </tbody>\n",
       "</table>\n",
       "<p>5 rows × 21 columns</p>\n",
       "</div>"
      ],
      "text/plain": [
       "   movie_id                         movie_title                   movie_genre  \\\n",
       "0         1                    Toy Story (1995)   Animation|Children's|Comedy   \n",
       "1         2                      Jumanji (1995)  Adventure|Children's|Fantasy   \n",
       "2         3             Grumpier Old Men (1995)                Comedy|Romance   \n",
       "3         4            Waiting to Exhale (1995)                  Comedy|Drama   \n",
       "4         5  Father of the Bride Part II (1995)                        Comedy   \n",
       "\n",
       "   Action  Adventure  Animation  Children's  Comedy  Crime  Documentary  \\\n",
       "0       0          0          1           1       1      0            0   \n",
       "1       0          1          0           1       0      0            0   \n",
       "2       0          0          0           0       1      0            0   \n",
       "3       0          0          0           0       1      0            0   \n",
       "4       0          0          0           0       1      0            0   \n",
       "\n",
       "    ...     Fantasy  Film-Noir  Horror  Musical  Mystery  Romance  Sci-Fi  \\\n",
       "0   ...           0          0       0        0        0        0       0   \n",
       "1   ...           1          0       0        0        0        0       0   \n",
       "2   ...           0          0       0        0        0        1       0   \n",
       "3   ...           0          0       0        0        0        0       0   \n",
       "4   ...           0          0       0        0        0        0       0   \n",
       "\n",
       "   Thriller  War  Western  \n",
       "0         0    0        0  \n",
       "1         0    0        0  \n",
       "2         0    0        0  \n",
       "3         0    0        0  \n",
       "4         0    0        0  \n",
       "\n",
       "[5 rows x 21 columns]"
      ]
     },
     "execution_count": 5,
     "metadata": {},
     "output_type": "execute_result"
    }
   ],
   "source": [
    "movies.head()"
   ]
  },
  {
   "cell_type": "code",
   "execution_count": 8,
   "metadata": {
    "collapsed": false
   },
   "outputs": [
    {
     "data": {
      "text/plain": [
       "movie_id                                  2\n",
       "movie_title                  Jumanji (1995)\n",
       "movie_genre    Adventure|Children's|Fantasy\n",
       "Action                                    0\n",
       "Adventure                                 1\n",
       "Animation                                 0\n",
       "Children's                                1\n",
       "Comedy                                    0\n",
       "Crime                                     0\n",
       "Documentary                               0\n",
       "Drama                                     0\n",
       "Fantasy                                   1\n",
       "Film-Noir                                 0\n",
       "Horror                                    0\n",
       "Musical                                   0\n",
       "Mystery                                   0\n",
       "Romance                                   0\n",
       "Sci-Fi                                    0\n",
       "Thriller                                  0\n",
       "War                                       0\n",
       "Western                                   0\n",
       "Name: 1, dtype: object"
      ]
     },
     "execution_count": 8,
     "metadata": {},
     "output_type": "execute_result"
    }
   ],
   "source": [
    "#la película con una id de 2, Jumanji, pertenece a los géneros Adventure, Children's y Fantasy\n",
    "\n",
    "movies.loc[1]"
   ]
  },
  {
   "cell_type": "code",
   "execution_count": 17,
   "metadata": {
    "collapsed": false,
    "deletable": true,
    "editable": true
   },
   "outputs": [
    {
     "data": {
      "text/plain": [
       "['Action',\n",
       " 'Adventure',\n",
       " 'Animation',\n",
       " \"Children's\",\n",
       " 'Comedy',\n",
       " 'Crime',\n",
       " 'Documentary',\n",
       " 'Drama',\n",
       " 'Fantasy',\n",
       " 'Film-Noir',\n",
       " 'Horror',\n",
       " 'Musical',\n",
       " 'Mystery',\n",
       " 'Romance',\n",
       " 'Sci-Fi',\n",
       " 'Thriller',\n",
       " 'War',\n",
       " 'Western']"
      ]
     },
     "execution_count": 17,
     "metadata": {},
     "output_type": "execute_result"
    }
   ],
   "source": [
    "movie_categories"
   ]
  },
  {
   "cell_type": "code",
   "execution_count": 18,
   "metadata": {
    "collapsed": false,
    "deletable": true,
    "editable": true
   },
   "outputs": [
    {
     "data": {
      "text/html": [
       "<div>\n",
       "<table border=\"1\" class=\"dataframe\">\n",
       "  <thead>\n",
       "    <tr style=\"text-align: right;\">\n",
       "      <th></th>\n",
       "      <th>movie_id</th>\n",
       "      <th>movie_title</th>\n",
       "      <th>movie_genre</th>\n",
       "      <th>Action</th>\n",
       "      <th>Adventure</th>\n",
       "      <th>Animation</th>\n",
       "      <th>Children's</th>\n",
       "      <th>Comedy</th>\n",
       "      <th>Crime</th>\n",
       "      <th>Documentary</th>\n",
       "      <th>...</th>\n",
       "      <th>Fantasy</th>\n",
       "      <th>Film-Noir</th>\n",
       "      <th>Horror</th>\n",
       "      <th>Musical</th>\n",
       "      <th>Mystery</th>\n",
       "      <th>Romance</th>\n",
       "      <th>Sci-Fi</th>\n",
       "      <th>Thriller</th>\n",
       "      <th>War</th>\n",
       "      <th>Western</th>\n",
       "    </tr>\n",
       "  </thead>\n",
       "  <tbody>\n",
       "    <tr>\n",
       "      <th>3878</th>\n",
       "      <td>3948</td>\n",
       "      <td>Meet the Parents (2000)</td>\n",
       "      <td>Comedy</td>\n",
       "      <td>0</td>\n",
       "      <td>0</td>\n",
       "      <td>0</td>\n",
       "      <td>0</td>\n",
       "      <td>1</td>\n",
       "      <td>0</td>\n",
       "      <td>0</td>\n",
       "      <td>...</td>\n",
       "      <td>0</td>\n",
       "      <td>0</td>\n",
       "      <td>0</td>\n",
       "      <td>0</td>\n",
       "      <td>0</td>\n",
       "      <td>0</td>\n",
       "      <td>0</td>\n",
       "      <td>0</td>\n",
       "      <td>0</td>\n",
       "      <td>0</td>\n",
       "    </tr>\n",
       "    <tr>\n",
       "      <th>3879</th>\n",
       "      <td>3949</td>\n",
       "      <td>Requiem for a Dream (2000)</td>\n",
       "      <td>Drama</td>\n",
       "      <td>0</td>\n",
       "      <td>0</td>\n",
       "      <td>0</td>\n",
       "      <td>0</td>\n",
       "      <td>0</td>\n",
       "      <td>0</td>\n",
       "      <td>0</td>\n",
       "      <td>...</td>\n",
       "      <td>0</td>\n",
       "      <td>0</td>\n",
       "      <td>0</td>\n",
       "      <td>0</td>\n",
       "      <td>0</td>\n",
       "      <td>0</td>\n",
       "      <td>0</td>\n",
       "      <td>0</td>\n",
       "      <td>0</td>\n",
       "      <td>0</td>\n",
       "    </tr>\n",
       "    <tr>\n",
       "      <th>3880</th>\n",
       "      <td>3950</td>\n",
       "      <td>Tigerland (2000)</td>\n",
       "      <td>Drama</td>\n",
       "      <td>0</td>\n",
       "      <td>0</td>\n",
       "      <td>0</td>\n",
       "      <td>0</td>\n",
       "      <td>0</td>\n",
       "      <td>0</td>\n",
       "      <td>0</td>\n",
       "      <td>...</td>\n",
       "      <td>0</td>\n",
       "      <td>0</td>\n",
       "      <td>0</td>\n",
       "      <td>0</td>\n",
       "      <td>0</td>\n",
       "      <td>0</td>\n",
       "      <td>0</td>\n",
       "      <td>0</td>\n",
       "      <td>0</td>\n",
       "      <td>0</td>\n",
       "    </tr>\n",
       "    <tr>\n",
       "      <th>3881</th>\n",
       "      <td>3951</td>\n",
       "      <td>Two Family House (2000)</td>\n",
       "      <td>Drama</td>\n",
       "      <td>0</td>\n",
       "      <td>0</td>\n",
       "      <td>0</td>\n",
       "      <td>0</td>\n",
       "      <td>0</td>\n",
       "      <td>0</td>\n",
       "      <td>0</td>\n",
       "      <td>...</td>\n",
       "      <td>0</td>\n",
       "      <td>0</td>\n",
       "      <td>0</td>\n",
       "      <td>0</td>\n",
       "      <td>0</td>\n",
       "      <td>0</td>\n",
       "      <td>0</td>\n",
       "      <td>0</td>\n",
       "      <td>0</td>\n",
       "      <td>0</td>\n",
       "    </tr>\n",
       "    <tr>\n",
       "      <th>3882</th>\n",
       "      <td>3952</td>\n",
       "      <td>Contender, The (2000)</td>\n",
       "      <td>Drama|Thriller</td>\n",
       "      <td>0</td>\n",
       "      <td>0</td>\n",
       "      <td>0</td>\n",
       "      <td>0</td>\n",
       "      <td>0</td>\n",
       "      <td>0</td>\n",
       "      <td>0</td>\n",
       "      <td>...</td>\n",
       "      <td>0</td>\n",
       "      <td>0</td>\n",
       "      <td>0</td>\n",
       "      <td>0</td>\n",
       "      <td>0</td>\n",
       "      <td>0</td>\n",
       "      <td>0</td>\n",
       "      <td>1</td>\n",
       "      <td>0</td>\n",
       "      <td>0</td>\n",
       "    </tr>\n",
       "  </tbody>\n",
       "</table>\n",
       "<p>5 rows × 21 columns</p>\n",
       "</div>"
      ],
      "text/plain": [
       "      movie_id                 movie_title     movie_genre  Action  Adventure  \\\n",
       "3878      3948     Meet the Parents (2000)          Comedy       0          0   \n",
       "3879      3949  Requiem for a Dream (2000)           Drama       0          0   \n",
       "3880      3950            Tigerland (2000)           Drama       0          0   \n",
       "3881      3951     Two Family House (2000)           Drama       0          0   \n",
       "3882      3952       Contender, The (2000)  Drama|Thriller       0          0   \n",
       "\n",
       "      Animation  Children's  Comedy  Crime  Documentary   ...     Fantasy  \\\n",
       "3878          0           0       1      0            0   ...           0   \n",
       "3879          0           0       0      0            0   ...           0   \n",
       "3880          0           0       0      0            0   ...           0   \n",
       "3881          0           0       0      0            0   ...           0   \n",
       "3882          0           0       0      0            0   ...           0   \n",
       "\n",
       "      Film-Noir  Horror  Musical  Mystery  Romance  Sci-Fi  Thriller  War  \\\n",
       "3878          0       0        0        0        0       0         0    0   \n",
       "3879          0       0        0        0        0       0         0    0   \n",
       "3880          0       0        0        0        0       0         0    0   \n",
       "3881          0       0        0        0        0       0         0    0   \n",
       "3882          0       0        0        0        0       0         1    0   \n",
       "\n",
       "      Western  \n",
       "3878        0  \n",
       "3879        0  \n",
       "3880        0  \n",
       "3881        0  \n",
       "3882        0  \n",
       "\n",
       "[5 rows x 21 columns]"
      ]
     },
     "execution_count": 18,
     "metadata": {},
     "output_type": "execute_result"
    }
   ],
   "source": [
    "movies.tail()"
   ]
  },
  {
   "cell_type": "code",
   "execution_count": 19,
   "metadata": {
    "collapsed": true
   },
   "outputs": [],
   "source": [
    "def get_user_preferences(user_movies):\n",
    "    user_features = movies[movies.movie_title.isin(user_movies)].ix[:,3:].T\n",
    "    user_features = user_features.mean(axis=1).reset_index()\n",
    "    print(user_features)\n",
    "    return user_features.ix[:,1].tolist()"
   ]
  },
  {
   "cell_type": "code",
   "execution_count": 20,
   "metadata": {
    "collapsed": false
   },
   "outputs": [
    {
     "data": {
      "text/html": [
       "<div>\n",
       "<table border=\"1\" class=\"dataframe\">\n",
       "  <thead>\n",
       "    <tr style=\"text-align: right;\">\n",
       "      <th></th>\n",
       "      <th>user_id</th>\n",
       "      <th>movie_title</th>\n",
       "      <th>movie_id</th>\n",
       "      <th>rating</th>\n",
       "      <th>movie_genre</th>\n",
       "    </tr>\n",
       "  </thead>\n",
       "  <tbody>\n",
       "    <tr>\n",
       "      <th>1000204</th>\n",
       "      <td>5949</td>\n",
       "      <td>Modulations (1998)</td>\n",
       "      <td>2198</td>\n",
       "      <td>5</td>\n",
       "      <td>Documentary</td>\n",
       "    </tr>\n",
       "    <tr>\n",
       "      <th>1000205</th>\n",
       "      <td>5675</td>\n",
       "      <td>Broken Vessels (1998)</td>\n",
       "      <td>2703</td>\n",
       "      <td>3</td>\n",
       "      <td>Drama</td>\n",
       "    </tr>\n",
       "    <tr>\n",
       "      <th>1000206</th>\n",
       "      <td>5780</td>\n",
       "      <td>White Boys (1999)</td>\n",
       "      <td>2845</td>\n",
       "      <td>1</td>\n",
       "      <td>Drama</td>\n",
       "    </tr>\n",
       "    <tr>\n",
       "      <th>1000207</th>\n",
       "      <td>5851</td>\n",
       "      <td>One Little Indian (1973)</td>\n",
       "      <td>3607</td>\n",
       "      <td>5</td>\n",
       "      <td>Comedy|Drama|Western</td>\n",
       "    </tr>\n",
       "    <tr>\n",
       "      <th>1000208</th>\n",
       "      <td>5938</td>\n",
       "      <td>Five Wives, Three Secretaries and Me (1998)</td>\n",
       "      <td>2909</td>\n",
       "      <td>4</td>\n",
       "      <td>Documentary</td>\n",
       "    </tr>\n",
       "  </tbody>\n",
       "</table>\n",
       "</div>"
      ],
      "text/plain": [
       "         user_id                                  movie_title  movie_id  \\\n",
       "1000204     5949                           Modulations (1998)      2198   \n",
       "1000205     5675                        Broken Vessels (1998)      2703   \n",
       "1000206     5780                            White Boys (1999)      2845   \n",
       "1000207     5851                     One Little Indian (1973)      3607   \n",
       "1000208     5938  Five Wives, Three Secretaries and Me (1998)      2909   \n",
       "\n",
       "         rating           movie_genre  \n",
       "1000204       5           Documentary  \n",
       "1000205       3                 Drama  \n",
       "1000206       1                 Drama  \n",
       "1000207       5  Comedy|Drama|Western  \n",
       "1000208       4           Documentary  "
      ]
     },
     "execution_count": 20,
     "metadata": {},
     "output_type": "execute_result"
    }
   ],
   "source": [
    "ratings = pd.read_table('movielens/ratings.dat', header=None, sep='::', \n",
    "                          names=['user_id', 'movie_id', 'rating', 'timestamp'], engine='python')\n",
    "\n",
    "#añadir el título de la película haciendo un join entre el movie_id de la tabla ratings y el movie_id de la tabla movies\n",
    "ratings = pd.merge(ratings, movies, on='movie_id')[['user_id', 'movie_title', 'movie_id','rating', 'movie_genre']]\n",
    "\n",
    "ratings.tail()"
   ]
  },
  {
   "cell_type": "code",
   "execution_count": 21,
   "metadata": {
    "collapsed": false
   },
   "outputs": [
    {
     "data": {
      "text/plain": [
       "['Airplane! (1980)',\n",
       " 'Mission: Impossible (1996)',\n",
       " 'Gladiator (2000)',\n",
       " \"Breakfast at Tiffany's (1961)\",\n",
       " 'Lost World: Jurassic Park, The (1997)',\n",
       " 'American Beauty (1999)',\n",
       " 'Children of a Lesser God (1986)',\n",
       " 'Jurassic Park (1993)',\n",
       " 'Donnie Brasco (1997)',\n",
       " 'X-Men (2000)',\n",
       " 'Final Destination (2000)',\n",
       " \"But I'm a Cheerleader (1999)\",\n",
       " 'Gone in 60 Seconds (2000)',\n",
       " 'Legends of the Fall (1994)',\n",
       " 'Where the Heart Is (2000)',\n",
       " 'Anna and the King (1999)',\n",
       " 'Rudy (1993)',\n",
       " 'Frequency (2000)',\n",
       " 'Chicken Run (2000)',\n",
       " 'Perfect Storm, The (2000)',\n",
       " 'Doctor Dolittle (1967)',\n",
       " 'Fantasia (1940)',\n",
       " 'From Russia with Love (1963)',\n",
       " 'Scary Movie (2000)',\n",
       " \"Big Momma's House (2000)\",\n",
       " 'Cell, The (2000)',\n",
       " 'Center Stage (2000)',\n",
       " \"Rosemary's Baby (1968)\",\n",
       " 'I Still Know What You Did Last Summer (1998)',\n",
       " 'Class (1983)',\n",
       " 'Virgin Suicides, The (1999)',\n",
       " \"She's the One (1996)\",\n",
       " 'Brothers McMullen, The (1995)',\n",
       " 'Nutty Professor II: The Klumps (2000)',\n",
       " 'Return to Me (2000)',\n",
       " \"She's So Lovely (1997)\",\n",
       " 'Road to El Dorado, The (2000)',\n",
       " 'Replacements, The (2000)',\n",
       " 'Black and White (1999)',\n",
       " 'Shanghai Surprise (1986)',\n",
       " 'Loser (2000)',\n",
       " 'Assassins (1995)',\n",
       " 'Polish Wedding (1998)']"
      ]
     },
     "execution_count": 21,
     "metadata": {},
     "output_type": "execute_result"
    }
   ],
   "source": [
    "#obtenemos las recomendaciones para un usuario,\n",
    "\n",
    "#obtener las peliculas puntuadas por un determinado usuario\n",
    "id_user = 50\n",
    "user_movies = ratings[ratings.user_id==id_user].movie_title.tolist() \n",
    "user_movies"
   ]
  },
  {
   "cell_type": "code",
   "execution_count": 22,
   "metadata": {
    "collapsed": false
   },
   "outputs": [
    {
     "name": "stdout",
     "output_type": "stream",
     "text": [
      "          index         0\n",
      "0        Action  0.186047\n",
      "1     Adventure  0.139535\n",
      "2     Animation  0.069767\n",
      "3    Children's  0.069767\n",
      "4        Comedy  0.348837\n",
      "5         Crime  0.046512\n",
      "6   Documentary  0.000000\n",
      "7         Drama  0.372093\n",
      "8       Fantasy  0.000000\n",
      "9     Film-Noir  0.000000\n",
      "10       Horror  0.069767\n",
      "11      Musical  0.046512\n",
      "12      Mystery  0.046512\n",
      "13      Romance  0.162791\n",
      "14       Sci-Fi  0.093023\n",
      "15     Thriller  0.186047\n",
      "16          War  0.023256\n",
      "17      Western  0.023256\n"
     ]
    }
   ],
   "source": [
    "user_preferences_list = get_user_preferences(user_movies)"
   ]
  },
  {
   "cell_type": "code",
   "execution_count": 23,
   "metadata": {
    "collapsed": true
   },
   "outputs": [],
   "source": [
    "def get_predicted_movie_score(movie_name, user_preferences): \n",
    "    movie_slice = movies[movies.movie_title==movie_name].iloc[0]\n",
    "    movie_features = movie_slice[movie_categories]\n",
    "    return np.dot(movie_features, user_preferences)"
   ]
  },
  {
   "cell_type": "code",
   "execution_count": 26,
   "metadata": {
    "collapsed": false
   },
   "outputs": [
    {
     "data": {
      "text/plain": [
       "0.60465116279069764"
      ]
     },
     "execution_count": 26,
     "metadata": {},
     "output_type": "execute_result"
    }
   ],
   "source": [
    "#Action +Sci-Fi + Thriller\n",
    "get_predicted_movie_score('Armageddon (1998)', user_preferences_list)\n",
    "\n"
   ]
  },
  {
   "cell_type": "code",
   "execution_count": 27,
   "metadata": {
    "collapsed": false
   },
   "outputs": [
    {
     "data": {
      "text/html": [
       "<div>\n",
       "<table border=\"1\" class=\"dataframe\">\n",
       "  <thead>\n",
       "    <tr style=\"text-align: right;\">\n",
       "      <th></th>\n",
       "      <th>movie_title</th>\n",
       "      <th>movie_genre</th>\n",
       "      <th>score</th>\n",
       "    </tr>\n",
       "  </thead>\n",
       "  <tbody>\n",
       "    <tr>\n",
       "      <th>1445</th>\n",
       "      <td>Best Men (1997)</td>\n",
       "      <td>Action|Comedy|Crime|Drama</td>\n",
       "      <td>0.953488</td>\n",
       "    </tr>\n",
       "    <tr>\n",
       "      <th>1931</th>\n",
       "      <td>Lethal Weapon (1987)</td>\n",
       "      <td>Action|Comedy|Crime|Drama</td>\n",
       "      <td>0.953488</td>\n",
       "    </tr>\n",
       "    <tr>\n",
       "      <th>1932</th>\n",
       "      <td>Lethal Weapon 2 (1989)</td>\n",
       "      <td>Action|Comedy|Crime|Drama</td>\n",
       "      <td>0.953488</td>\n",
       "    </tr>\n",
       "    <tr>\n",
       "      <th>1849</th>\n",
       "      <td>Lethal Weapon 4 (1998)</td>\n",
       "      <td>Action|Comedy|Crime|Drama</td>\n",
       "      <td>0.953488</td>\n",
       "    </tr>\n",
       "    <tr>\n",
       "      <th>1244</th>\n",
       "      <td>Diva (1981)</td>\n",
       "      <td>Action|Drama|Mystery|Romance|Thriller</td>\n",
       "      <td>0.953488</td>\n",
       "    </tr>\n",
       "    <tr>\n",
       "      <th>1933</th>\n",
       "      <td>Lethal Weapon 3 (1992)</td>\n",
       "      <td>Action|Comedy|Crime|Drama</td>\n",
       "      <td>0.953488</td>\n",
       "    </tr>\n",
       "    <tr>\n",
       "      <th>3197</th>\n",
       "      <td>Man Bites Dog (C'est arriv� pr�s de chez vous)...</td>\n",
       "      <td>Action|Comedy|Crime|Drama</td>\n",
       "      <td>0.953488</td>\n",
       "    </tr>\n",
       "    <tr>\n",
       "      <th>3115</th>\n",
       "      <td>Montana (1998)</td>\n",
       "      <td>Action|Comedy|Crime|Drama</td>\n",
       "      <td>0.953488</td>\n",
       "    </tr>\n",
       "    <tr>\n",
       "      <th>1847</th>\n",
       "      <td>Buffalo 66 (1998)</td>\n",
       "      <td>Action|Comedy|Drama</td>\n",
       "      <td>0.906977</td>\n",
       "    </tr>\n",
       "    <tr>\n",
       "      <th>386</th>\n",
       "      <td>Faster Pussycat! Kill! Kill! (1965)</td>\n",
       "      <td>Action|Comedy|Drama</td>\n",
       "      <td>0.906977</td>\n",
       "    </tr>\n",
       "  </tbody>\n",
       "</table>\n",
       "</div>"
      ],
      "text/plain": [
       "                                            movie_title  \\\n",
       "1445                                    Best Men (1997)   \n",
       "1931                               Lethal Weapon (1987)   \n",
       "1932                             Lethal Weapon 2 (1989)   \n",
       "1849                             Lethal Weapon 4 (1998)   \n",
       "1244                                        Diva (1981)   \n",
       "1933                             Lethal Weapon 3 (1992)   \n",
       "3197  Man Bites Dog (C'est arriv� pr�s de chez vous)...   \n",
       "3115                                     Montana (1998)   \n",
       "1847                                  Buffalo 66 (1998)   \n",
       "386                 Faster Pussycat! Kill! Kill! (1965)   \n",
       "\n",
       "                                movie_genre     score  \n",
       "1445              Action|Comedy|Crime|Drama  0.953488  \n",
       "1931              Action|Comedy|Crime|Drama  0.953488  \n",
       "1932              Action|Comedy|Crime|Drama  0.953488  \n",
       "1849              Action|Comedy|Crime|Drama  0.953488  \n",
       "1244  Action|Drama|Mystery|Romance|Thriller  0.953488  \n",
       "1933              Action|Comedy|Crime|Drama  0.953488  \n",
       "3197              Action|Comedy|Crime|Drama  0.953488  \n",
       "3115              Action|Comedy|Crime|Drama  0.953488  \n",
       "1847                    Action|Comedy|Drama  0.906977  \n",
       "386                     Action|Comedy|Drama  0.906977  "
      ]
     },
     "execution_count": 27,
     "metadata": {},
     "output_type": "execute_result"
    }
   ],
   "source": [
    "def get_movie_recommendations(user_preferences, number_recommendations):  \n",
    "    movies['score'] = movies.movie_title.apply(get_predicted_movie_score, args=([user_preferences]))\n",
    "    movies.sort_values(by=['score'], ascending=False, inplace=True)\n",
    "    return movies[['movie_title','movie_genre','score']].head(number_recommendations)\n",
    "\n",
    "get_movie_recommendations(user_preferences_list, 10)"
   ]
  },
  {
   "cell_type": "code",
   "execution_count": 28,
   "metadata": {
    "collapsed": true
   },
   "outputs": [],
   "source": [
    "#obtener recomendaciones a partir de los gustos del usuario\n",
    "\n",
    "from collections import OrderedDict\n",
    "\n",
    "user_preferences = OrderedDict(zip(movie_categories, []))\n",
    "\n",
    "user_preferences['Action'] = 1  \n",
    "user_preferences['Adventure'] = 1  \n",
    "user_preferences['Animation'] = 5  \n",
    "user_preferences[\"Children's\"] = 1  \n",
    "user_preferences[\"Comedy\"] = 1  \n",
    "user_preferences['Crime'] = 1  \n",
    "user_preferences['Documentary'] = 1  \n",
    "user_preferences['Drama'] = 1  \n",
    "user_preferences['Fantasy'] = 1  \n",
    "user_preferences['Film-Noir'] = 1  \n",
    "user_preferences['Horror'] = 1  \n",
    "user_preferences['Musical'] = 1  \n",
    "user_preferences['Mystery'] = 1  \n",
    "user_preferences['Romance'] = 1  \n",
    "user_preferences['Sci-Fi'] = 5  \n",
    "user_preferences['War'] = 1  \n",
    "user_preferences['Thriller'] = 1  \n",
    "user_preferences['Western'] =1  \n",
    "\n",
    "user_preferences_list = list(user_preferences.values())"
   ]
  },
  {
   "cell_type": "code",
   "execution_count": 29,
   "metadata": {
    "collapsed": false
   },
   "outputs": [
    {
     "data": {
      "text/html": [
       "<div>\n",
       "<table border=\"1\" class=\"dataframe\">\n",
       "  <thead>\n",
       "    <tr style=\"text-align: right;\">\n",
       "      <th></th>\n",
       "      <th>movie_title</th>\n",
       "      <th>movie_genre</th>\n",
       "      <th>score</th>\n",
       "    </tr>\n",
       "  </thead>\n",
       "  <tbody>\n",
       "    <tr>\n",
       "      <th>1187</th>\n",
       "      <td>Transformers: The Movie, The (1986)</td>\n",
       "      <td>Action|Animation|Children's|Sci-Fi|Thriller|War</td>\n",
       "      <td>14</td>\n",
       "    </tr>\n",
       "    <tr>\n",
       "      <th>606</th>\n",
       "      <td>Heavy Metal (1981)</td>\n",
       "      <td>Action|Adventure|Animation|Horror|Sci-Fi</td>\n",
       "      <td>13</td>\n",
       "    </tr>\n",
       "    <tr>\n",
       "      <th>1254</th>\n",
       "      <td>Akira (1988)</td>\n",
       "      <td>Adventure|Animation|Sci-Fi|Thriller</td>\n",
       "      <td>12</td>\n",
       "    </tr>\n",
       "    <tr>\n",
       "      <th>2047</th>\n",
       "      <td>Lord of the Rings, The (1978)</td>\n",
       "      <td>Adventure|Animation|Children's|Sci-Fi</td>\n",
       "      <td>12</td>\n",
       "    </tr>\n",
       "    <tr>\n",
       "      <th>3676</th>\n",
       "      <td>Titan A.E. (2000)</td>\n",
       "      <td>Adventure|Animation|Sci-Fi</td>\n",
       "      <td>11</td>\n",
       "    </tr>\n",
       "    <tr>\n",
       "      <th>731</th>\n",
       "      <td>Ghost in the Shell (Kokaku kidotai) (1995)</td>\n",
       "      <td>Animation|Sci-Fi</td>\n",
       "      <td>10</td>\n",
       "    </tr>\n",
       "    <tr>\n",
       "      <th>2426</th>\n",
       "      <td>Fantastic Planet, The (La Plan�te sauvage) (1973)</td>\n",
       "      <td>Animation|Sci-Fi</td>\n",
       "      <td>10</td>\n",
       "    </tr>\n",
       "    <tr>\n",
       "      <th>3523</th>\n",
       "      <td>Time Masters (Les Ma�tres du Temps) (1982)</td>\n",
       "      <td>Animation|Sci-Fi</td>\n",
       "      <td>10</td>\n",
       "    </tr>\n",
       "    <tr>\n",
       "      <th>2012</th>\n",
       "      <td>Little Mermaid, The (1989)</td>\n",
       "      <td>Animation|Children's|Comedy|Musical|Romance</td>\n",
       "      <td>9</td>\n",
       "    </tr>\n",
       "    <tr>\n",
       "      <th>2011</th>\n",
       "      <td>Lady and the Tramp (1955)</td>\n",
       "      <td>Animation|Children's|Comedy|Musical|Romance</td>\n",
       "      <td>9</td>\n",
       "    </tr>\n",
       "  </tbody>\n",
       "</table>\n",
       "</div>"
      ],
      "text/plain": [
       "                                            movie_title  \\\n",
       "1187                Transformers: The Movie, The (1986)   \n",
       "606                                  Heavy Metal (1981)   \n",
       "1254                                       Akira (1988)   \n",
       "2047                      Lord of the Rings, The (1978)   \n",
       "3676                                  Titan A.E. (2000)   \n",
       "731          Ghost in the Shell (Kokaku kidotai) (1995)   \n",
       "2426  Fantastic Planet, The (La Plan�te sauvage) (1973)   \n",
       "3523         Time Masters (Les Ma�tres du Temps) (1982)   \n",
       "2012                         Little Mermaid, The (1989)   \n",
       "2011                          Lady and the Tramp (1955)   \n",
       "\n",
       "                                          movie_genre  score  \n",
       "1187  Action|Animation|Children's|Sci-Fi|Thriller|War     14  \n",
       "606          Action|Adventure|Animation|Horror|Sci-Fi     13  \n",
       "1254              Adventure|Animation|Sci-Fi|Thriller     12  \n",
       "2047            Adventure|Animation|Children's|Sci-Fi     12  \n",
       "3676                       Adventure|Animation|Sci-Fi     11  \n",
       "731                                  Animation|Sci-Fi     10  \n",
       "2426                                 Animation|Sci-Fi     10  \n",
       "3523                                 Animation|Sci-Fi     10  \n",
       "2012      Animation|Children's|Comedy|Musical|Romance      9  \n",
       "2011      Animation|Children's|Comedy|Musical|Romance      9  "
      ]
     },
     "execution_count": 29,
     "metadata": {},
     "output_type": "execute_result"
    }
   ],
   "source": [
    "get_movie_recommendations(user_preferences_list, 10)"
   ]
  },
  {
   "cell_type": "code",
   "execution_count": 30,
   "metadata": {
    "collapsed": false
   },
   "outputs": [
    {
     "data": {
      "text/plain": [
       "Action         0\n",
       "Adventure      1\n",
       "Animation      0\n",
       "Children's     1\n",
       "Comedy         0\n",
       "Crime          0\n",
       "Documentary    0\n",
       "Drama          0\n",
       "Fantasy        1\n",
       "Film-Noir      0\n",
       "Horror         0\n",
       "Musical        0\n",
       "Mystery        0\n",
       "Romance        0\n",
       "Sci-Fi         0\n",
       "Thriller       0\n",
       "War            0\n",
       "Western        0\n",
       "Name: 1, dtype: object"
      ]
     },
     "execution_count": 30,
     "metadata": {},
     "output_type": "execute_result"
    }
   ],
   "source": [
    "jumanji_features = movies.loc[1][movie_categories]\n",
    "jumanji_features"
   ]
  },
  {
   "cell_type": "code",
   "execution_count": 31,
   "metadata": {
    "collapsed": false
   },
   "outputs": [
    {
     "data": {
      "text/plain": [
       "3"
      ]
     },
     "execution_count": 31,
     "metadata": {},
     "output_type": "execute_result"
    }
   ],
   "source": [
    "jumanji_predicted_score = get_predicted_movie_score('Jumanji (1995)', user_preferences_list)\n",
    "jumanji_predicted_score"
   ]
  },
  {
   "cell_type": "code",
   "execution_count": 33,
   "metadata": {
    "collapsed": false
   },
   "outputs": [
    {
     "data": {
      "text/plain": [
       "12"
      ]
     },
     "execution_count": 33,
     "metadata": {},
     "output_type": "execute_result"
    }
   ],
   "source": [
    "rings_predicted_score = get_predicted_movie_score('Lord of the Rings, The (1978)', user_preferences_list)\n",
    "rings_predicted_score"
   ]
  }
 ],
 "metadata": {
  "kernelspec": {
   "display_name": "Python 3",
   "language": "python",
   "name": "python3"
  },
  "language_info": {
   "codemirror_mode": {
    "name": "ipython",
    "version": 3
   },
   "file_extension": ".py",
   "mimetype": "text/x-python",
   "name": "python",
   "nbconvert_exporter": "python",
   "pygments_lexer": "ipython3",
   "version": "3.6.0"
  }
 },
 "nbformat": 4,
 "nbformat_minor": 2
}
