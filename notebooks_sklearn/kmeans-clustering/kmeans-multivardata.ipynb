{
 "cells": [
  {
   "cell_type": "code",
   "execution_count": 1,
   "metadata": {
    "collapsed": true
   },
   "outputs": [],
   "source": [
    "%matplotlib inline\n",
    "import numpy as np\n",
    "import matplotlib.pyplot as plt\n",
    "from sklearn import metrics\n",
    "from sklearn.cluster import KMeans"
   ]
  },
  {
   "cell_type": "code",
   "execution_count": 2,
   "metadata": {
    "collapsed": true
   },
   "outputs": [],
   "source": [
    "#Cargar datos a partir de fichero de entrada\n",
    "def load_data(input_file):\n",
    "    X = []\n",
    "    with open(input_file, 'r') as f:\n",
    "        for line in f.readlines():\n",
    "            data = [float(x) for x in line.split(',')]\n",
    "            X.append(data)\n",
    "\n",
    "    return np.array(X)"
   ]
  },
  {
   "cell_type": "code",
   "execution_count": 3,
   "metadata": {
    "collapsed": false
   },
   "outputs": [
    {
     "name": "stdout",
     "output_type": "stream",
     "text": [
      "[[ 5.35  4.48  0.  ]\n",
      " [ 6.72  5.37  0.  ]\n",
      " [ 3.57  5.25  0.  ]\n",
      " [ 4.77  7.65  1.  ]\n",
      " [ 2.25  4.07  1.  ]\n",
      " [ 6.08  3.01  1.  ]\n",
      " [ 4.91  5.52  0.  ]\n",
      " [ 5.79  4.09  0.  ]\n",
      " [ 5.03  5.92  0.  ]\n",
      " [ 5.51  7.32  1.  ]\n",
      " [ 3.49  4.08  1.  ]\n",
      " [ 7.32  2.71  1.  ]\n",
      " [ 4.5   4.76  0.  ]\n",
      " [ 5.35  4.94  0.  ]\n",
      " [ 5.18  4.91  0.  ]\n",
      " [ 4.77  9.15  1.  ]\n",
      " [ 2.5   4.35  1.  ]\n",
      " [ 7.94  2.91  1.  ]\n",
      " [ 5.5   4.64  0.  ]\n",
      " [ 5.62  3.42  0.  ]\n",
      " [ 4.15  5.95  0.  ]\n",
      " [ 5.04  8.56  1.  ]\n",
      " [ 2.22  4.78  1.  ]\n",
      " [ 7.77  4.21  1.  ]\n",
      " [ 5.36  4.24  0.  ]\n",
      " [ 4.82  5.52  0.  ]\n",
      " [ 4.23  5.83  0.  ]\n",
      " [ 3.74  8.74  1.  ]\n",
      " [ 1.7   4.53  1.  ]\n",
      " [ 7.    2.86  1.  ]\n",
      " [ 4.73  4.12  0.  ]\n",
      " [ 6.4   4.21  0.  ]\n",
      " [ 4.4   6.27  0.  ]\n",
      " [ 5.72  8.75  1.  ]\n",
      " [ 3.    3.56  1.  ]\n",
      " [ 6.48  3.14  1.  ]\n",
      " [ 4.33  4.09  0.  ]\n",
      " [ 5.16  4.34  0.  ]\n",
      " [ 5.67  5.67  0.  ]\n",
      " [ 3.88  7.5   1.  ]\n",
      " [ 3.41  4.62  1.  ]\n",
      " [ 6.76  3.71  1.  ]\n",
      " [ 4.02  5.46  0.  ]\n",
      " [ 6.18  5.67  0.  ]\n",
      " [ 4.9   5.3   0.  ]\n",
      " [ 5.82  9.13  1.  ]\n",
      " [ 2.43  2.87  1.  ]\n",
      " [ 6.12  3.68  1.  ]\n",
      " [ 5.61  3.98  0.  ]\n",
      " [ 5.76  5.96  0.  ]\n",
      " [ 4.82  5.41  0.  ]\n",
      " [ 4.59  7.28  1.  ]\n",
      " [ 2.51  2.99  1.  ]\n",
      " [ 6.92  2.62  1.  ]\n",
      " [ 4.47  5.88  0.  ]\n",
      " [ 6.01  5.51  0.  ]\n",
      " [ 3.65  6.05  0.  ]\n",
      " [ 5.13  7.98  1.  ]\n",
      " [ 2.43  4.81  1.  ]\n",
      " [ 6.68  2.32  1.  ]\n",
      " [ 5.6   4.7   0.  ]\n",
      " [ 6.01  5.51  0.  ]\n",
      " [ 4.97  5.89  0.  ]\n",
      " [ 5.15  7.59  1.  ]\n",
      " [ 3.1   3.83  1.  ]\n",
      " [ 6.83  3.8   1.  ]\n",
      " [ 4.87  5.65  0.  ]\n",
      " [ 6.63  5.24  0.  ]\n",
      " [ 3.93  5.2   0.  ]\n",
      " [ 4.88  8.49  1.  ]\n",
      " [ 1.    4.36  1.  ]\n",
      " [ 6.82  2.77  1.  ]\n",
      " [ 4.45  4.57  0.  ]\n",
      " [ 4.36  4.85  0.  ]\n",
      " [ 5.45  5.62  0.  ]\n",
      " [ 5.    8.02  1.  ]\n",
      " [ 2.16  4.23  1.  ]\n",
      " [ 8.02  3.3   1.  ]\n",
      " [ 5.31  5.46  0.  ]\n",
      " [ 6.03  5.47  0.  ]\n",
      " [ 4.57  4.2   0.  ]\n",
      " [ 4.22  8.34  1.  ]\n",
      " [ 1.8   3.69  1.  ]\n",
      " [ 7.49  2.87  1.  ]\n",
      " [ 5.99  5.15  0.  ]\n",
      " [ 5.86  4.67  0.  ]\n",
      " [ 5.71  5.63  0.  ]\n",
      " [ 5.05  7.84  1.  ]\n",
      " [ 3.1   3.02  1.  ]\n",
      " [ 6.46  2.71  1.  ]\n",
      " [ 4.9   4.71  0.  ]\n",
      " [ 5.95  4.45  0.  ]\n",
      " [ 4.17  5.91  0.  ]\n",
      " [ 5.33  7.41  1.  ]\n",
      " [ 3.26  3.86  1.  ]\n",
      " [ 7.59  3.27  1.  ]\n",
      " [ 5.39  6.14  0.  ]\n",
      " [ 4.86  4.99  0.  ]\n",
      " [ 5.01  6.54  0.  ]\n",
      " [ 4.12  8.27  1.  ]\n",
      " [ 1.74  6.65  1.  ]\n",
      " [ 6.61  2.62  1.  ]\n",
      " [ 5.08  4.85  0.  ]\n",
      " [ 6.08  4.47  0.  ]\n",
      " [ 4.31  6.89  0.  ]\n",
      " [ 5.12  6.69  1.  ]\n",
      " [ 2.64  4.62  1.  ]\n",
      " [ 6.71  3.43  1.  ]\n",
      " [ 5.31  6.93  0.  ]\n",
      " [ 5.89  5.53  0.  ]\n",
      " [ 4.25  6.34  0.  ]\n",
      " [ 5.32  8.82  1.  ]\n",
      " [ 3.36  4.69  1.  ]\n",
      " [ 7.04  2.77  1.  ]\n",
      " [ 6.08  5.5   0.  ]\n",
      " [ 5.71  4.76  0.  ]\n",
      " [ 4.93  4.77  0.  ]\n",
      " [ 4.91  6.46  1.  ]\n",
      " [ 3.3   3.92  1.  ]\n",
      " [ 5.89  2.2   1.  ]\n",
      " [ 4.6   6.67  0.  ]\n",
      " [ 5.81  4.58  0.  ]\n",
      " [ 5.52  6.    0.  ]\n",
      " [ 5.34  6.91  1.  ]\n",
      " [ 2.68  3.65  1.  ]\n",
      " [ 6.93  4.01  1.  ]\n",
      " [ 4.97  5.46  0.  ]\n",
      " [ 4.68  4.49  0.  ]\n",
      " [ 5.27  5.23  0.  ]\n",
      " [ 4.36  7.91  1.  ]\n",
      " [ 3.32  3.68  1.  ]\n",
      " [ 6.61  3.35  1.  ]\n",
      " [ 4.2   5.43  0.  ]\n",
      " [ 4.94  5.94  0.  ]\n",
      " [ 5.19  5.85  0.  ]\n",
      " [ 5.43  9.2   1.  ]\n",
      " [ 1.37  4.77  1.  ]\n",
      " [ 5.99  4.41  1.  ]\n",
      " [ 5.13  5.88  0.  ]\n",
      " [ 7.53  3.77  0.  ]\n",
      " [ 4.78  6.04  0.  ]\n",
      " [ 4.54  9.24  1.  ]\n",
      " [ 3.59  4.94  1.  ]\n",
      " [ 5.5   3.24  1.  ]\n",
      " [ 3.88  5.42  0.  ]\n",
      " [ 4.95  5.04  0.  ]\n",
      " [ 5.52  5.43  0.  ]\n",
      " [ 5.29  8.61  1.  ]\n",
      " [ 2.75  4.86  1.  ]\n",
      " [ 6.74  3.77  1.  ]\n",
      " [ 3.85  5.23  0.  ]\n",
      " [ 6.29  4.87  0.  ]\n",
      " [ 4.65  5.22  0.  ]\n",
      " [ 5.14  8.14  1.  ]\n",
      " [ 3.1   3.89  1.  ]\n",
      " [ 7.2   2.93  1.  ]\n",
      " [ 5.44  4.57  0.  ]\n",
      " [ 5.41  4.79  0.  ]\n",
      " [ 3.76  5.03  0.  ]\n",
      " [ 5.14  8.09  1.  ]\n",
      " [ 1.69  4.37  1.  ]\n",
      " [ 7.94  3.33  1.  ]\n",
      " [ 5.62  3.92  0.  ]\n",
      " [ 5.45  4.29  0.  ]\n",
      " [ 5.86  4.73  0.  ]\n",
      " [ 5.31  7.79  1.  ]\n",
      " [ 3.47  4.09  1.  ]\n",
      " [ 7.24  2.83  1.  ]\n",
      " [ 4.34  4.89  0.  ]\n",
      " [ 5.67  5.54  0.  ]\n",
      " [ 4.67  6.11  0.  ]\n",
      " [ 4.26  8.28  1.  ]\n",
      " [ 3.91  2.55  1.  ]\n",
      " [ 6.6   3.94  1.  ]\n",
      " [ 5.22  4.52  0.  ]\n",
      " [ 5.19  4.75  0.  ]\n",
      " [ 4.57  5.29  0.  ]\n",
      " [ 4.34  7.11  1.  ]\n",
      " [ 1.6   4.96  1.  ]\n",
      " [ 6.53  2.48  1.  ]\n",
      " [ 5.13  4.84  0.  ]\n",
      " [ 5.74  4.98  0.  ]\n",
      " [ 5.65  4.36  0.  ]\n",
      " [ 4.87  8.14  1.  ]\n",
      " [ 1.85  1.94  1.  ]\n",
      " [ 7.14  2.15  1.  ]\n",
      " [ 5.23  4.19  0.  ]\n",
      " [ 4.67  3.44  0.  ]\n",
      " [ 5.21  5.97  0.  ]\n",
      " [ 5.85  8.11  1.  ]\n",
      " [ 2.28  4.06  1.  ]\n",
      " [ 8.13  3.    1.  ]\n",
      " [ 4.42  4.59  0.  ]\n",
      " [ 6.8   6.22  0.  ]\n",
      " [ 4.51  4.75  0.  ]\n",
      " [ 6.07  9.27  1.  ]\n",
      " [ 1.61  4.72  1.  ]\n",
      " [ 7.57  3.6   1.  ]\n",
      " [ 4.1   4.22  0.  ]\n",
      " [ 5.06  5.06  0.  ]\n",
      " [ 4.79  4.44  0.  ]\n",
      " [ 4.55  7.86  1.  ]\n",
      " [ 4.23  4.02  1.  ]\n",
      " [ 6.78  3.97  1.  ]\n",
      " [ 5.36  5.5   0.  ]\n",
      " [ 4.26  5.45  0.  ]\n",
      " [ 5.42  5.91  0.  ]\n",
      " [ 5.04  6.63  1.  ]\n",
      " [ 1.9   3.9   1.  ]\n",
      " [ 6.49  3.44  1.  ]\n",
      " [ 4.82  5.5   0.  ]\n",
      " [ 4.63  5.81  0.  ]\n",
      " [ 4.61  5.83  0.  ]\n",
      " [ 3.48  8.51  1.  ]\n",
      " [ 2.5   3.4   1.  ]\n",
      " [ 9.08  3.6   1.  ]\n",
      " [ 3.66  4.79  0.  ]\n",
      " [ 5.75  5.18  0.  ]\n",
      " [ 4.98  5.88  0.  ]\n",
      " [ 4.97  8.14  1.  ]\n",
      " [ 3.43  3.76  1.  ]\n",
      " [ 7.68  1.68  1.  ]\n",
      " [ 4.36  4.51  0.  ]\n",
      " [ 5.75  3.53  0.  ]\n",
      " [ 4.19  7.12  0.  ]\n",
      " [ 4.63  7.92  1.  ]\n",
      " [ 3.05  3.18  1.  ]\n",
      " [ 7.15  3.57  1.  ]\n",
      " [ 5.09  5.33  0.  ]\n",
      " [ 6.38  5.72  0.  ]\n",
      " [ 5.33  4.11  0.  ]\n",
      " [ 4.04  7.74  1.  ]\n",
      " [ 2.94  4.11  1.  ]\n",
      " [ 7.85  3.28  1.  ]\n",
      " [ 4.86  5.34  0.  ]\n",
      " [ 5.62  5.49  0.  ]\n",
      " [ 4.36  5.98  0.  ]\n",
      " [ 5.55  7.76  1.  ]\n",
      " [ 1.78  4.1   1.  ]\n",
      " [ 6.46  3.08  1.  ]\n",
      " [ 3.69  4.58  0.  ]\n",
      " [ 4.69  4.47  0.  ]\n",
      " [ 5.99  5.42  0.  ]\n",
      " [ 4.16  6.91  1.  ]\n",
      " [ 2.66  4.41  1.  ]\n",
      " [ 7.33  2.29  1.  ]\n",
      " [ 4.82  5.4   0.  ]\n",
      " [ 5.79  4.5   0.  ]\n",
      " [ 4.74  5.34  0.  ]\n",
      " [ 5.44  7.57  1.  ]\n",
      " [ 1.75  4.89  1.  ]\n",
      " [ 6.36  3.08  1.  ]\n",
      " [ 4.65  4.63  0.  ]\n",
      " [ 5.62  5.    0.  ]\n",
      " [ 4.63  5.71  0.  ]\n",
      " [ 5.1   7.09  1.  ]\n",
      " [ 0.74  3.85  1.  ]\n",
      " [ 7.56  3.07  1.  ]\n",
      " [ 5.16  5.58  0.  ]\n",
      " [ 4.62  4.56  0.  ]\n",
      " [ 4.58  5.61  0.  ]\n",
      " [ 5.02  7.74  1.  ]\n",
      " [ 2.5   4.2   1.  ]\n",
      " [ 6.52  2.86  1.  ]\n",
      " [ 5.04  4.87  0.  ]\n",
      " [ 5.86  5.25  0.  ]\n",
      " [ 5.57  5.08  0.  ]\n",
      " [ 4.35  8.51  1.  ]\n",
      " [ 2.64  3.11  1.  ]\n",
      " [ 6.92  2.87  1.  ]\n",
      " [ 5.04  5.73  0.  ]\n",
      " [ 5.91  5.52  0.  ]\n",
      " [ 4.59  5.66  0.  ]\n",
      " [ 4.51  8.37  1.  ]\n",
      " [ 1.51  3.92  1.  ]\n",
      " [ 6.99  2.29  1.  ]\n",
      " [ 6.33  4.35  0.  ]\n",
      " [ 5.69  5.07  0.  ]\n",
      " [ 4.57  4.85  0.  ]\n",
      " [ 5.09  7.95  1.  ]\n",
      " [ 1.59  4.34  1.  ]\n",
      " [ 6.7   1.66  1.  ]\n",
      " [ 5.26  5.59  0.  ]\n",
      " [ 4.98  6.17  0.  ]\n",
      " [ 4.36  7.11  0.  ]\n",
      " [ 5.05  7.91  1.  ]\n",
      " [ 3.31  3.92  1.  ]\n",
      " [ 7.63  1.86  1.  ]\n",
      " [ 5.46  5.2   0.  ]\n",
      " [ 5.32  5.76  0.  ]\n",
      " [ 5.12  5.43  0.  ]\n",
      " [ 4.45  7.6   1.  ]\n",
      " [ 2.67  3.39  1.  ]\n",
      " [ 9.66  2.51  1.  ]\n",
      " [ 6.36  3.76  0.  ]\n",
      " [ 5.24  4.92  0.  ]\n",
      " [ 5.14  5.14  0.  ]\n",
      " [ 5.28  8.66  1.  ]\n",
      " [ 2.68  2.49  1.  ]\n",
      " [ 7.28  2.63  1.  ]]\n"
     ]
    }
   ],
   "source": [
    "# Cargar los datos\n",
    "data = load_data('data_multivar.txt')\n",
    "num_clusters = 4\n",
    "print(data)"
   ]
  },
  {
   "cell_type": "code",
   "execution_count": 4,
   "metadata": {
    "collapsed": false
   },
   "outputs": [
    {
     "data": {
      "text/plain": [
       "<matplotlib.figure.Figure at 0x9fd6518>"
      ]
     },
     "execution_count": 4,
     "metadata": {},
     "output_type": "execute_result"
    },
    {
     "data": {
      "image/png": "[encoded data removed]",
      "text/plain": [
       "<matplotlib.figure.Figure at 0x9f770f0>"
      ]
     },
     "metadata": {},
     "output_type": "display_data"
    },
    {
     "data": {
      "text/plain": [
       "<matplotlib.figure.Figure at 0x9fd6518>"
      ]
     },
     "metadata": {},
     "output_type": "display_data"
    }
   ],
   "source": [
    "#Pintar los puntos\n",
    "plt.scatter(data[:,0], data[:,1], marker='o',\n",
    "        facecolors='none', edgecolors='k', s=30)\n",
    "x_min, x_max = min(data[:, 0]) - 1, max(data[:, 0]) + 1\n",
    "y_min, y_max = min(data[:, 1]) - 1, max(data[:, 1]) + 1\n",
    "plt.title('Input data')\n",
    "plt.xlim(x_min, x_max)\n",
    "plt.ylim(y_min, y_max)\n",
    "plt.xticks(())\n",
    "plt.yticks(())\n",
    "plt.figure()"
   ]
  },
  {
   "cell_type": "code",
   "execution_count": 5,
   "metadata": {
    "collapsed": false
   },
   "outputs": [
    {
     "data": {
      "text/plain": [
       "KMeans(algorithm='auto', copy_x=True, init='k-means++', max_iter=300,\n",
       "    n_clusters=4, n_init=10, n_jobs=1, precompute_distances='auto',\n",
       "    random_state=None, tol=0.0001, verbose=0)"
      ]
     },
     "execution_count": 5,
     "metadata": {},
     "output_type": "execute_result"
    }
   ],
   "source": [
    "# Entrenar el modelo\n",
    "kmeans = KMeans(init='k-means++', n_clusters=num_clusters, n_init=10)\n",
    "kmeans.fit(data)"
   ]
  },
  {
   "cell_type": "code",
   "execution_count": 6,
   "metadata": {
    "collapsed": true
   },
   "outputs": [],
   "source": [
    "# Tamano de la malla\n",
    "step_size = 0.01\n",
    "\n",
    "# Dibujar los limites\n",
    "x_min, x_max = min(data[:, 0]) - 1, max(data[:, 0]) + 1\n",
    "y_min, y_max = min(data[:, 1]) - 1, max(data[:, 1]) + 1\n",
    "x_values, y_values = np.meshgrid(np.arange(x_min, x_max, step_size), np.arange(y_min, y_max, step_size))"
   ]
  },
  {
   "cell_type": "code",
   "execution_count": 7,
   "metadata": {
    "collapsed": false
   },
   "outputs": [
    {
     "data": {
      "image/png": "[encoded data removed]",
      "text/plain": [
       "<matplotlib.figure.Figure at 0xa061668>"
      ]
     },
     "metadata": {},
     "output_type": "display_data"
    }
   ],
   "source": [
    "plt.scatter(data[:,0], data[:,1], marker='o',\n",
    "        facecolors='none', edgecolors='k', s=30)\n",
    "\n",
    "centroids = kmeans.cluster_centers_\n",
    "plt.scatter(centroids[:,0], centroids[:,1], marker='o', s=200, linewidths=3,\n",
    "        color='k', zorder=10, facecolors='black')\n",
    "x_min, x_max = min(data[:, 0]) - 1, max(data[:, 0]) + 1\n",
    "y_min, y_max = min(data[:, 1]) - 1, max(data[:, 1]) + 1\n",
    "plt.title('Centoides y límites usando KMeans')\n",
    "plt.xlim(x_min, x_max)\n",
    "plt.ylim(y_min, y_max)\n",
    "plt.xticks(())\n",
    "plt.yticks(())\n",
    "\n",
    "plt.show()"
   ]
  },
  {
   "cell_type": "markdown",
   "metadata": {},
   "source": [
    "### Performance"
   ]
  },
  {
   "cell_type": "code",
   "execution_count": 8,
   "metadata": {
    "collapsed": false
   },
   "outputs": [
    {
     "name": "stdout",
     "output_type": "stream",
     "text": [
      "\n",
      "Number of clusters = 2\n",
      "Silhouette score = 0.365475672471\n",
      "\n",
      "Number of clusters = 3\n",
      "Silhouette score = 0.45183548643\n",
      "\n",
      "Number of clusters = 4\n",
      "Silhouette score = 0.54536418687\n",
      "\n",
      "Number of clusters = 5\n",
      "Silhouette score = 0.431922591615\n",
      "\n",
      "Number of clusters = 6\n",
      "Silhouette score = 0.429211019083\n",
      "\n",
      "Number of clusters = 7\n",
      "Silhouette score = 0.414208864831\n",
      "\n",
      "Number of clusters = 8\n",
      "Silhouette score = 0.402734165867\n",
      "\n",
      "Number of clusters = 9\n",
      "Silhouette score = 0.333699718345\n"
     ]
    },
    {
     "data": {
      "text/plain": [
       "<matplotlib.text.Text at 0xa883940>"
      ]
     },
     "execution_count": 8,
     "metadata": {},
     "output_type": "execute_result"
    },
    {
     "data": {
      "image/png": "[encoded data removed]",
      "text/plain": [
       "<matplotlib.figure.Figure at 0x9f734e0>"
      ]
     },
     "metadata": {},
     "output_type": "display_data"
    }
   ],
   "source": [
    "scores = []\n",
    "range_values = np.arange(2, 10)\n",
    "\n",
    "for i in range_values:\n",
    "    # Train the model\n",
    "    kmeans = KMeans(init='k-means++', n_clusters=i, n_init=10)\n",
    "    kmeans.fit(data)\n",
    "    score = metrics.silhouette_score(data, kmeans.labels_,\n",
    "                metric='euclidean', sample_size=len(data))\n",
    "\n",
    "    print('\\nNumber of clusters =', i)\n",
    "    print('Silhouette score =', score)\n",
    "\n",
    "    scores.append(score)\n",
    "\n",
    "# Plot scores\n",
    "plt.figure()\n",
    "plt.bar(range_values, scores, width=0.6, color='k', align='center')\n",
    "plt.title('Silhouette score vs number of clusters')"
   ]
  }
 ],
 "metadata": {
  "kernelspec": {
   "display_name": "Python 3",
   "language": "python",
   "name": "python3"
  },
  "language_info": {
   "codemirror_mode": {
    "name": "ipython",
    "version": 3
   },
   "file_extension": ".py",
   "mimetype": "text/x-python",
   "name": "python",
   "nbconvert_exporter": "python",
   "pygments_lexer": "ipython3",
   "version": "3.6.0"
  }
 },
 "nbformat": 4,
 "nbformat_minor": 2
}
