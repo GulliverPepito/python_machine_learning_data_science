{
 "cells": [
  {
   "cell_type": "markdown",
   "metadata": {},
   "source": [
    "## IPython"
   ]
  },
  {
   "cell_type": "markdown",
   "metadata": {},
   "source": [
    "[IPython](http://ipython.org/) promueve un ambiente de trabajo de *ejecutar-explorar* en contraposición al tradicional modelo de desarrollo de software de *editar-compilar-ejecutar*. Es decir, que el problema computacional a resolver es más visto como todo un proceso de ejecucion de tareas, en lugar del tradicional modelo de producir una respuesta(`output`) a una pregunta(`input`).  [IPython](http://ipython.org/) también provee una estrecha integración con nuestro sistema operativo, permitiendo acceder fácilmente a todos nuestros archivos desde la misma herramienta.\n",
    "\n",
    "Algunas de las características sobresalientes de [IPython](http://ipython.org/) son:\n",
    "\n",
    "* Su poderoso <a href='http://es.wikipedia.org/wiki/Shell_(inform%C3%A1tica)' target='_blank'>shell</a> interactivo.\n",
    "* [Notebook](http://ipython.org/notebook.html), su interfase web con soporte para código, texto, expresiones matemáticas, gráficos en línea y multimedia.\n",
    "* Su soporte para poder realizar visualizaciones de datos en forma interactiva. [IPython](http://ipython.org/) esta totalmente integrado con [matplotlib](http://matplotlib.org/).\n",
    "* Su simple y flexible interfase para trabajar con la [computación paralela](http://es.wikipedia.org/wiki/Computaci%C3%B3n_paralela).\n",
    "\n",
    "[IPython](http://ipython.org/) es mucho más que una librería, es todo un ambiente de trabajo que nos facilita enormemente trabajar con  [Python](http://python.org/)."
   ]
  },
  {
   "cell_type": "markdown",
   "metadata": {},
   "source": [
    "# Python - Librerías esenciales para el analisis de datos"
   ]
  },
  {
   "cell_type": "markdown",
   "metadata": {},
   "source": [
    "\n",
    "Una de las grandes ventajas que ofrece [Python](http://python.org/) sobre otros lenguajes de programación, además de que es que es mucho más fácil de aprender; es lo grande y prolifera que es la comunidad de desarrolladores que lo rodean; comunidad que ha contribuido con una gran variedad de librerías de primer nivel que extienden la funcionalidades del lenguaje. Vamos a poder encontrar una librería en [Python](http://python.org/) para prácticamente cualquier cosa que se nos ocurra.\n",
    "\n",
    "Algunas de las librerías que se han vuelto esenciales y ya forman casi parte del lenguaje en sí mismo son las siguientes:"
   ]
  },
  {
   "cell_type": "markdown",
   "metadata": {},
   "source": [
    "## Numpy"
   ]
  },
  {
   "cell_type": "markdown",
   "metadata": {},
   "source": [
    "[Numpy](http://www.numpy.org/), abreviatura de Numerical [Python](http://python.org/) , es el paquete fundamental para la computación científica en [Python](http://python.org/). Dispone, entre otras cosas de:\n",
    "\n",
    "* Un objeto <a href='http://es.wikipedia.org/wiki/Matriz_(matem%C3%A1ticas)' target='_blank'>matriz</a> multidimensional *ndarray*,rápido y eficiente.\n",
    "* Funciones para realizar cálculos elemento a elemento u otras operaciones matemáticas con <a href='http://es.wikipedia.org/wiki/Matriz_(matem%C3%A1ticas)' target='_blank'>matrices</a>. \n",
    "* Herramientas para la lectura y escritura de los conjuntos de datos basados <a href='http://es.wikipedia.org/wiki/Matriz_(matem%C3%A1ticas)' target='_blank'>matrices</a>.\n",
    "* Operaciones de [álgebra lineal](http://es.wikipedia.org/wiki/%C3%81lgebra_lineal), [transformaciones de Fourier](http://es.wikipedia.org/wiki/Transformada_de_Fourier), y generación de números aleatorios.\n",
    "* Herramientas de integración para conectar [C](http://es.wikipedia.org/wiki/C_(lenguaje_de_programaci%C3%B3n), [C++](http://es.wikipedia.org/wiki/C%2B%2B) y [Fortran](http://es.wikipedia.org/wiki/Fortran) con [Python](http://python.org/)\n",
    "\n",
    "Más allá de las capacidades de procesamiento rápido de <a href='http://es.wikipedia.org/wiki/Matriz_(matem%C3%A1ticas)' target='_blank'>matrices</a> que [Numpy](http://www.numpy.org/) añade a [Python](http://python.org/), uno de sus\n",
    "propósitos principales con respecto al análisis de datos es la utilización de sus [estructuras de datos](http://es.wikipedia.org/wiki/Estructura_de_datos) como contenedores para transmitir los datos entre diferentes algoritmos. Para datos numéricos , las <a href='http://es.wikipedia.org/wiki/Matriz_(matem%C3%A1ticas)' target='_blank'>matrices</a> de [Numpy](http://www.numpy.org/) son una forma mucho más eficiente de almacenar y manipular datos que cualquier otra de las [estructuras de datos](http://es.wikipedia.org/wiki/Estructura_de_datos) estándar incorporadas en [Python](http://python.org/). Asimismo, librerías escritas en un lenguaje de bajo nivel, como [C](http://es.wikipedia.org/wiki/C_(lenguaje_de_programaci%C3%B3n) o [Fortran](http://es.wikipedia.org/wiki/Fortran), pueden operar en los datos almacenados en <a href='http://es.wikipedia.org/wiki/Matriz_(matem%C3%A1ticas)' target='_blank'>matrices</a> de [Numpy](http://www.numpy.org/) sin necesidad de copiar o modificar ningún dato.\n",
    "\n",
    "Como nomenclatura general, cuando importamos la librería [Numpy](http://www.numpy.org/) en nuestro programa [Python](http://python.org/) se suele utilizar la siguiente:"
   ]
  },
  {
   "cell_type": "code",
   "execution_count": 4,
   "metadata": {
    "collapsed": false
   },
   "outputs": [],
   "source": [
    "import numpy as np\n",
    "# from numpy import *"
   ]
  },
  {
   "cell_type": "markdown",
   "metadata": {},
   "source": [
    "### Creando matrices en Numpy"
   ]
  },
  {
   "cell_type": "markdown",
   "metadata": {},
   "source": [
    "Existen varias maneras de crear matrices en Numpy, por ejemplo desde:\n",
    "\n",
    "* Una *lista* o *tuple* de [Python](http://python.org/)\n",
    "* Funciones específicas para crear matrices como `arange`, `linspace`, etc.\n",
    "* Archivos planos con datos, como por ejemplo archivos .csv\n",
    "\n",
    "En [Numpy](http://www.numpy.org/) tanto los vectores como las matrices se crean utilizando el objeto `ndarray`"
   ]
  },
  {
   "cell_type": "code",
   "execution_count": 7,
   "metadata": {
    "collapsed": false
   },
   "outputs": [
    {
     "data": {
      "text/plain": [
       "array([1, 2, 3, 4])"
      ]
     },
     "execution_count": 7,
     "metadata": {},
     "output_type": "execute_result"
    }
   ],
   "source": [
    "#Creando un vector desde una lista de Python\n",
    "vector = np.array([1, 2, 3, 4])\n",
    "\n",
    "vector"
   ]
  },
  {
   "cell_type": "code",
   "execution_count": 8,
   "metadata": {
    "collapsed": false
   },
   "outputs": [
    {
     "data": {
      "text/plain": [
       "array([[1, 2],\n",
       "       [3, 4]])"
      ]
     },
     "execution_count": 8,
     "metadata": {},
     "output_type": "execute_result"
    }
   ],
   "source": [
    "#Para crear una matriz, simplemente le pasamos una lista anidada al objeto array de Numpy\n",
    "matriz = np.array([[1, 2],\n",
    "                   [3, 4]])\n",
    "\n",
    "matriz"
   ]
  },
  {
   "cell_type": "code",
   "execution_count": 9,
   "metadata": {
    "collapsed": false
   },
   "outputs": [
    {
     "data": {
      "text/plain": [
       "(numpy.ndarray, numpy.ndarray)"
      ]
     },
     "execution_count": 9,
     "metadata": {},
     "output_type": "execute_result"
    }
   ],
   "source": [
    "#El tipo de objeto de tanto de los vectores como de las matrices es ndarray\n",
    "type(vector), type(matriz)"
   ]
  },
  {
   "cell_type": "code",
   "execution_count": 12,
   "metadata": {
    "collapsed": false
   },
   "outputs": [
    {
     "data": {
      "text/plain": [
       "(dtype('int64'), dtype('int64'))"
      ]
     },
     "execution_count": 12,
     "metadata": {},
     "output_type": "execute_result"
    }
   ],
   "source": [
    "#obtener el tipo de los elementos que contiene\n",
    "vector.dtype,matriz.dtype"
   ]
  },
  {
   "cell_type": "code",
   "execution_count": 14,
   "metadata": {
    "collapsed": false
   },
   "outputs": [
    {
     "name": "stdout",
     "output_type": "stream",
     "text": [
      "(4,) 4\n",
      "(2, 2) 4\n"
     ]
    }
   ],
   "source": [
    "#Los objetos ndarray de Numpy cuentan con las propiedades shape y size que nos muestran sus dimensiones.\n",
    "print(vector.shape, vector.size)\n",
    "\n",
    "print(matriz.shape, matriz.size)"
   ]
  },
  {
   "cell_type": "markdown",
   "metadata": {},
   "source": [
    "#### Utilizando funciones para crear listas y matrices"
   ]
  },
  {
   "cell_type": "code",
   "execution_count": 4,
   "metadata": {
    "collapsed": false
   },
   "outputs": [
    {
     "data": {
      "text/plain": [
       "array([ 0,  1,  2,  3,  4,  5,  6,  7,  8,  9, 10, 11, 12, 13, 14])"
      ]
     },
     "execution_count": 4,
     "metadata": {},
     "output_type": "execute_result"
    }
   ],
   "source": [
    "#arange\n",
    "#La funcion arange nos facilita la creación de matrices\n",
    "np.arange(15)"
   ]
  },
  {
   "cell_type": "code",
   "execution_count": 15,
   "metadata": {
    "collapsed": false
   },
   "outputs": [
    {
     "data": {
      "text/plain": [
       "array([1, 3, 5, 7, 9])"
      ]
     },
     "execution_count": 15,
     "metadata": {},
     "output_type": "execute_result"
    }
   ],
   "source": [
    "#también posible indicar un paso\n",
    "x = np.arange(1, 11, 2) # argumentos: start, stop, step\n",
    "x"
   ]
  },
  {
   "cell_type": "code",
   "execution_count": 16,
   "metadata": {
    "collapsed": false
   },
   "outputs": [
    {
     "data": {
      "text/plain": [
       "array([  1.,   2.,   3.,   4.,   5.,   6.,   7.,   8.,   9.,  10.,  11.,\n",
       "        12.,  13.,  14.,  15.,  16.,  17.,  18.,  19.,  20.,  21.,  22.,\n",
       "        23.,  24.,  25.])"
      ]
     },
     "execution_count": 16,
     "metadata": {},
     "output_type": "execute_result"
    }
   ],
   "source": [
    "#linspace\n",
    "#linspace nos devuelve un vector con la cantidad de muestras que le ingresemos y separados uniformamente entre sí.\n",
    "np.linspace(1, 25, 25)  # argumentos: start, stop, samples"
   ]
  },
  {
   "cell_type": "code",
   "execution_count": 17,
   "metadata": {
    "collapsed": false
   },
   "outputs": [
    {
     "data": {
      "text/plain": [
       "array([[0, 0, 0, 0, 0],\n",
       "       [1, 1, 1, 1, 1],\n",
       "       [2, 2, 2, 2, 2],\n",
       "       [3, 3, 3, 3, 3],\n",
       "       [4, 4, 4, 4, 4]])"
      ]
     },
     "execution_count": 17,
     "metadata": {},
     "output_type": "execute_result"
    }
   ],
   "source": [
    "#mgrid\n",
    "#Con mgrid podemos crear arrays multimensionales.\n",
    "x, y = np.mgrid[0:5, 0:5] \n",
    "\n",
    "x"
   ]
  },
  {
   "cell_type": "code",
   "execution_count": 18,
   "metadata": {
    "collapsed": false
   },
   "outputs": [
    {
     "data": {
      "text/plain": [
       "array([[0, 1, 2, 3, 4],\n",
       "       [0, 1, 2, 3, 4],\n",
       "       [0, 1, 2, 3, 4],\n",
       "       [0, 1, 2, 3, 4],\n",
       "       [0, 1, 2, 3, 4]])"
      ]
     },
     "execution_count": 18,
     "metadata": {},
     "output_type": "execute_result"
    }
   ],
   "source": [
    "y"
   ]
  },
  {
   "cell_type": "code",
   "execution_count": 19,
   "metadata": {
    "collapsed": false
   },
   "outputs": [
    {
     "data": {
      "text/plain": [
       "array([[ 0,  1,  2,  3,  4],\n",
       "       [ 5,  6,  7,  8,  9],\n",
       "       [10, 11, 12, 13, 14]])"
      ]
     },
     "execution_count": 19,
     "metadata": {},
     "output_type": "execute_result"
    }
   ],
   "source": [
    "#otra forma de crear arrays multidimensionales\n",
    "np.arange(15).reshape(3,5)"
   ]
  },
  {
   "cell_type": "code",
   "execution_count": 45,
   "metadata": {
    "collapsed": false
   },
   "outputs": [
    {
     "data": {
      "text/plain": [
       "array([[[ 0,  1],\n",
       "        [ 2,  3],\n",
       "        [ 4,  5],\n",
       "        [ 6,  7]],\n",
       "\n",
       "       [[ 8,  9],\n",
       "        [10, 11],\n",
       "        [12, 13],\n",
       "        [14, 15]]])"
      ]
     },
     "execution_count": 45,
     "metadata": {},
     "output_type": "execute_result"
    }
   ],
   "source": [
    "array = np.arange(16).reshape(2,4,2)\n",
    "array"
   ]
  },
  {
   "cell_type": "code",
   "execution_count": 46,
   "metadata": {
    "collapsed": false
   },
   "outputs": [
    {
     "data": {
      "text/plain": [
       "3"
      ]
     },
     "execution_count": 46,
     "metadata": {},
     "output_type": "execute_result"
    }
   ],
   "source": [
    "#obtener número de dimensiones de un array\n",
    "array.ndim"
   ]
  },
  {
   "cell_type": "code",
   "execution_count": 48,
   "metadata": {
    "collapsed": false
   },
   "outputs": [
    {
     "data": {
      "text/plain": [
       "(2, 4, 2)"
      ]
     },
     "execution_count": 48,
     "metadata": {},
     "output_type": "execute_result"
    }
   ],
   "source": [
    "#obtener tamaño de cada dimensión\n",
    "array.shape"
   ]
  },
  {
   "cell_type": "code",
   "execution_count": 49,
   "metadata": {
    "collapsed": false
   },
   "outputs": [
    {
     "data": {
      "text/plain": [
       "array([[ 0.,  0.,  0.],\n",
       "       [ 0.,  0.,  0.],\n",
       "       [ 0.,  0.,  0.]])"
      ]
     },
     "execution_count": 49,
     "metadata": {},
     "output_type": "execute_result"
    }
   ],
   "source": [
    "#zeros y ones\n",
    "#Estas funciones nos permiten crear matrices de ceros o de unos.\n",
    "np.zeros((3,3))"
   ]
  },
  {
   "cell_type": "code",
   "execution_count": 50,
   "metadata": {
    "collapsed": false
   },
   "outputs": [
    {
     "data": {
      "text/plain": [
       "array([[ 1.,  1.,  1.],\n",
       "       [ 1.,  1.,  1.],\n",
       "       [ 1.,  1.,  1.]])"
      ]
     },
     "execution_count": 50,
     "metadata": {},
     "output_type": "execute_result"
    }
   ],
   "source": [
    "np.ones((3,3))"
   ]
  },
  {
   "cell_type": "code",
   "execution_count": 52,
   "metadata": {
    "collapsed": false
   },
   "outputs": [
    {
     "data": {
      "text/plain": [
       "array([[ 0.86022809,  0.44217811, -0.11779737,  0.1894454 ,  0.02418936],\n",
       "       [ 0.74691915,  0.42171383,  0.05023118, -0.78001164, -0.29544713],\n",
       "       [ 1.27880345, -1.21904946, -1.43969682,  1.05017509,  0.89821251],\n",
       "       [ 0.60556352, -1.28403787, -1.34424771,  0.78675786, -0.06410215],\n",
       "       [ 1.40224858,  0.5471697 , -1.40420732, -0.61960103,  0.05949483]])"
      ]
     },
     "execution_count": 52,
     "metadata": {},
     "output_type": "execute_result"
    }
   ],
   "source": [
    "#random.randn\n",
    "#Esta funcion nos permite generar una matriz con una distribución estándar de números.\n",
    "np.random.randn(5,5)"
   ]
  },
  {
   "cell_type": "code",
   "execution_count": 53,
   "metadata": {
    "collapsed": false
   },
   "outputs": [
    {
     "data": {
      "text/plain": [
       "array([[1, 0, 0],\n",
       "       [0, 1, 0],\n",
       "       [0, 0, 1]])"
      ]
     },
     "execution_count": 53,
     "metadata": {},
     "output_type": "execute_result"
    }
   ],
   "source": [
    "#diag\n",
    "#Nos permite crear una matriz con la diagonal de números que le ingresemos.\n",
    "np.diag([1,1,1])"
   ]
  },
  {
   "cell_type": "code",
   "execution_count": 73,
   "metadata": {
    "collapsed": false
   },
   "outputs": [
    {
     "data": {
      "text/plain": [
       "array([0, 1, 2, 3])"
      ]
     },
     "execution_count": 73,
     "metadata": {},
     "output_type": "execute_result"
    }
   ],
   "source": [
    "#operaciones basicas\n",
    "a = np.array([20,30,40,50])\n",
    "b = np.arange(4)\n",
    "b"
   ]
  },
  {
   "cell_type": "code",
   "execution_count": 60,
   "metadata": {
    "collapsed": false
   },
   "outputs": [
    {
     "data": {
      "text/plain": [
       "array([20, 29, 38, 47])"
      ]
     },
     "execution_count": 60,
     "metadata": {},
     "output_type": "execute_result"
    }
   ],
   "source": [
    "a-b"
   ]
  },
  {
   "cell_type": "code",
   "execution_count": 61,
   "metadata": {
    "collapsed": false
   },
   "outputs": [
    {
     "data": {
      "text/plain": [
       "array([  0,  30,  80, 150])"
      ]
     },
     "execution_count": 61,
     "metadata": {},
     "output_type": "execute_result"
    }
   ],
   "source": [
    "a*b"
   ]
  },
  {
   "cell_type": "code",
   "execution_count": 64,
   "metadata": {
    "collapsed": false
   },
   "outputs": [
    {
     "data": {
      "text/plain": [
       "260"
      ]
     },
     "execution_count": 64,
     "metadata": {},
     "output_type": "execute_result"
    }
   ],
   "source": [
    "#producto escalar\n",
    "np.dot(a,b)"
   ]
  },
  {
   "cell_type": "code",
   "execution_count": 65,
   "metadata": {
    "collapsed": false
   },
   "outputs": [
    {
     "data": {
      "text/plain": [
       "array([ 60,  90, 120, 150])"
      ]
     },
     "execution_count": 65,
     "metadata": {},
     "output_type": "execute_result"
    }
   ],
   "source": [
    "a*3"
   ]
  },
  {
   "cell_type": "code",
   "execution_count": 74,
   "metadata": {
    "collapsed": false
   },
   "outputs": [
    {
     "data": {
      "text/plain": [
       "array([6, 7, 8, 9])"
      ]
     },
     "execution_count": 74,
     "metadata": {},
     "output_type": "execute_result"
    }
   ],
   "source": [
    "b+6"
   ]
  },
  {
   "cell_type": "code",
   "execution_count": 75,
   "metadata": {
    "collapsed": false
   },
   "outputs": [
    {
     "data": {
      "text/plain": [
       "6"
      ]
     },
     "execution_count": 75,
     "metadata": {},
     "output_type": "execute_result"
    }
   ],
   "source": [
    "#obtener la suma de los elementos de un array\n",
    "b.sum()"
   ]
  },
  {
   "cell_type": "code",
   "execution_count": 82,
   "metadata": {
    "collapsed": false
   },
   "outputs": [
    {
     "data": {
      "text/plain": [
       "array([[ 0,  1,  2,  3,  4],\n",
       "       [ 5,  6,  7,  8,  9],\n",
       "       [10, 11, 12, 13, 14]])"
      ]
     },
     "execution_count": 82,
     "metadata": {},
     "output_type": "execute_result"
    }
   ],
   "source": [
    "c = np.arange(15).reshape(3,5)\n",
    "c"
   ]
  },
  {
   "cell_type": "code",
   "execution_count": 83,
   "metadata": {
    "collapsed": false
   },
   "outputs": [
    {
     "data": {
      "text/plain": [
       "105"
      ]
     },
     "execution_count": 83,
     "metadata": {},
     "output_type": "execute_result"
    }
   ],
   "source": [
    "c.sum()"
   ]
  },
  {
   "cell_type": "code",
   "execution_count": 86,
   "metadata": {
    "collapsed": false
   },
   "outputs": [
    {
     "data": {
      "text/plain": [
       "0"
      ]
     },
     "execution_count": 86,
     "metadata": {},
     "output_type": "execute_result"
    }
   ],
   "source": [
    "#obtener el mínimo y el máximo de un array\n",
    "c.min()"
   ]
  },
  {
   "cell_type": "code",
   "execution_count": 87,
   "metadata": {
    "collapsed": false
   },
   "outputs": [
    {
     "data": {
      "text/plain": [
       "14"
      ]
     },
     "execution_count": 87,
     "metadata": {},
     "output_type": "execute_result"
    }
   ],
   "source": [
    "c.max()"
   ]
  },
  {
   "cell_type": "markdown",
   "metadata": {},
   "source": [
    "## Pandas"
   ]
  },
  {
   "cell_type": "markdown",
   "metadata": {},
   "source": [
    "[Pandas](http://pandas.pydata.org/) es una librería [open source](http://es.wikipedia.org/wiki/C%C3%B3digo_abierto) que aporta a [Python](http://python.org/) unas estructuras de datos fáciles de user y de alta performance, junto con un gran número de funciones esenciales para el análisis de datos. Con la ayuda de [Pandas](http://pandas.pydata.org/) podemos trabajar con *datos estructurados* de una forma más rápida y expresiva.\n",
    "\n",
    "Algunas de las cosas sobresalientes que nos aporta [Pandas](http://pandas.pydata.org/) son:\n",
    "\n",
    "* Un rápido y eficiente objeto **`DataFrame`** para manipular datos con indexación integrada;\n",
    "* herramientas para la **lectura y escritura de datos** entre estructuras de datos rápidas y eficientes manejadas en memoria, como el `DataFrame`, con la mayoría de los formatos conocidos para el manejo de datos, como ser: CSV y archivos de texto, archivos Microsoft Excel, bases de datos [SQL](http://es.wikipedia.org/wiki/SQL), y el formato científico HDF5.\n",
    "* Proporciona una **alineación inteligente de datos** y un manejo integrado de los datos faltantes; con estas funciones podemos obtener una ganancia de performace en los cálculos entre `DataFrames` y una fácil manipulación y ordenamiento de los datos de nuestro `data set`;\n",
    "* Flexibilidad para **manipular y redimensionar** nuestro `data set`, facilidad para construir [tablas pivote](http://es.wikipedia.org/wiki/Tabla_pivote);\n",
    "* La posibilidad de **filtrar los datos, agregar o eliminar columnas** de una forma sumamente expresiva;\n",
    "* Operaciones de ***merge* y *join*** altamente eficientes sobre nuestros conjuntos de datos;\n",
    "* **Indexación jerárquica** que proporciona una forma intuitiva de trabajar con datos de alta dimensión en una estructura de datos de menor dimensión ;\n",
    "* Posibilidad de realizar cálculos agregados o transformaciones de datos con el poderoso motor **`group by`** que nos permite dividir-aplicar-combinar nuestros conjuntos de datos;\n",
    "* combina las **características de las matrices de alto rendimiento de [Numpy](http://www.numpy.org/) con las flexibles capacidades de manipulación de datos de las hojas de cálculo** y bases de datos relacionales (tales como [SQL](http://es.wikipedia.org/wiki/SQL));\n",
    "* Gran número de funcionalidades para el manejo de **[series de tiempo](http://es.wikipedia.org/wiki/Serie_temporal)** ideales para el análisis financiero;\n",
    "* Todas sus funciones y estructuras de datos están **optimizadas para el alto rendimiento**, con las partes críticas del código escritas en [Cython](http://www.cython.org/) o [C](http://es.wikipedia.org/wiki/C_(lenguaje_de_programaci%C3%B3n);"
   ]
  },
  {
   "cell_type": "markdown",
   "metadata": {},
   "source": [
    "### Estructuras de datos de Pandas"
   ]
  },
  {
   "cell_type": "code",
   "execution_count": 1,
   "metadata": {
    "collapsed": false
   },
   "outputs": [],
   "source": [
    "# Importando pandas\n",
    "import pandas as pd"
   ]
  },
  {
   "cell_type": "markdown",
   "metadata": {},
   "source": [
    "#### Series"
   ]
  },
  {
   "cell_type": "code",
   "execution_count": 2,
   "metadata": {
    "collapsed": false
   },
   "outputs": [
    {
     "data": {
      "text/plain": [
       "0    2\n",
       "1    4\n",
       "2   -8\n",
       "3    3\n",
       "dtype: int64"
      ]
     },
     "execution_count": 2,
     "metadata": {},
     "output_type": "execute_result"
    }
   ],
   "source": [
    "# Las series son matrices de una sola dimension similares a los vectores, pero con su propio indice.\n",
    "# Creando una Serie\n",
    "serie = pd.Series([2, 4, -8, 3])\n",
    "serie"
   ]
  },
  {
   "cell_type": "code",
   "execution_count": 5,
   "metadata": {
    "collapsed": false
   },
   "outputs": [
    {
     "data": {
      "text/plain": [
       "0    1.0\n",
       "1    3.0\n",
       "2    5.0\n",
       "3    NaN\n",
       "4    6.0\n",
       "5    8.0\n",
       "dtype: float64"
      ]
     },
     "execution_count": 5,
     "metadata": {},
     "output_type": "execute_result"
    }
   ],
   "source": [
    "import pandas as pd\n",
    "pd.Series([1,3,5,np.nan,6,8])"
   ]
  },
  {
   "cell_type": "code",
   "execution_count": 7,
   "metadata": {
    "collapsed": false
   },
   "outputs": [
    {
     "name": "stdout",
     "output_type": "stream",
     "text": [
      "[ 2  4 -8  3]\n",
      "RangeIndex(start=0, stop=4, step=1)\n"
     ]
    }
   ],
   "source": [
    "# podemos ver tantos los índices como los valores de las Series.\n",
    "print(serie.values)\n",
    "print(serie.index)"
   ]
  },
  {
   "cell_type": "code",
   "execution_count": 8,
   "metadata": {
    "collapsed": false
   },
   "outputs": [
    {
     "data": {
      "text/plain": [
       "d    2\n",
       "b    4\n",
       "a   -8\n",
       "c    3\n",
       "dtype: int64"
      ]
     },
     "execution_count": 8,
     "metadata": {},
     "output_type": "execute_result"
    }
   ],
   "source": [
    "# Creando Series con nuestros propios índices.\n",
    "serie2 = pd.Series([2, 4, -8, 3], index=['d', 'b', 'a', 'c'])\n",
    "serie2"
   ]
  },
  {
   "cell_type": "code",
   "execution_count": 10,
   "metadata": {
    "collapsed": false
   },
   "outputs": [
    {
     "name": "stdout",
     "output_type": "stream",
     "text": [
      "-8\n",
      "b    4\n",
      "c    3\n",
      "d    2\n",
      "dtype: int64\n",
      "d    2\n",
      "b    4\n",
      "c    3\n",
      "dtype: int64\n"
     ]
    }
   ],
   "source": [
    "# Accediendo a los datos a través de los índices\n",
    "print(serie2['a'])\n",
    "print(serie2[['b', 'c', 'd']])\n",
    "print(serie2[serie2 > 0])"
   ]
  },
  {
   "cell_type": "code",
   "execution_count": 11,
   "metadata": {
    "collapsed": false
   },
   "outputs": [
    {
     "data": {
      "text/plain": [
       "a    5.2\n",
       "c    1.1\n",
       "d    NaN\n",
       "e    0.0\n",
       "f    NaN\n",
       "g    NaN\n",
       "dtype: float64"
      ]
     },
     "execution_count": 11,
     "metadata": {},
     "output_type": "execute_result"
    }
   ],
   "source": [
    "s1 = pd.Series([7.3, -2.5, 3.4, 1.5], index=['a', 'c', 'd', 'e'])\n",
    "s2 = pd.Series([-2.1, 3.6, -1.5, 4, 3.1], index=['a', 'c', 'e', 'f', 'g'])\n",
    "s1 + s2"
   ]
  },
  {
   "cell_type": "markdown",
   "metadata": {},
   "source": [
    "#### DataFrame"
   ]
  },
  {
   "cell_type": "code",
   "execution_count": 13,
   "metadata": {
    "collapsed": false
   },
   "outputs": [
    {
     "data": {
      "text/html": [
       "<div>\n",
       "<table border=\"1\" class=\"dataframe\">\n",
       "  <thead>\n",
       "    <tr style=\"text-align: right;\">\n",
       "      <th></th>\n",
       "      <th>city</th>\n",
       "      <th>country</th>\n",
       "    </tr>\n",
       "  </thead>\n",
       "  <tbody>\n",
       "    <tr>\n",
       "      <th>0</th>\n",
       "      <td>Barcelona</td>\n",
       "      <td>Spain</td>\n",
       "    </tr>\n",
       "    <tr>\n",
       "      <th>1</th>\n",
       "      <td>Sevilla</td>\n",
       "      <td>Spain</td>\n",
       "    </tr>\n",
       "    <tr>\n",
       "      <th>2</th>\n",
       "      <td>Milan</td>\n",
       "      <td>Italy</td>\n",
       "    </tr>\n",
       "    <tr>\n",
       "      <th>3</th>\n",
       "      <td>Lisboa</td>\n",
       "      <td>Portugal</td>\n",
       "    </tr>\n",
       "    <tr>\n",
       "      <th>4</th>\n",
       "      <td>Paris</td>\n",
       "      <td>France</td>\n",
       "    </tr>\n",
       "  </tbody>\n",
       "</table>\n",
       "</div>"
      ],
      "text/plain": [
       "        city   country\n",
       "0  Barcelona     Spain\n",
       "1    Sevilla     Spain\n",
       "2      Milan     Italy\n",
       "3     Lisboa  Portugal\n",
       "4      Paris    France"
      ]
     },
     "execution_count": 13,
     "metadata": {},
     "output_type": "execute_result"
    }
   ],
   "source": [
    "# El DataFrame es una estructura de datos tabular similar a las hojas de cálculo de Excel.\n",
    "# Posee tanto indices de columnas como de filas.\n",
    "\n",
    "# Creando un DataFrame.\n",
    "data = {'country': ['Spain', 'Spain', 'Italy', 'Portugal', 'France'],\n",
    "        'city' : ['Barcelona', 'Sevilla', 'Milan', 'Lisboa', 'Paris'],}\n",
    "frame = pd.DataFrame(data) # Creando un DataFrame desde un diccionario\n",
    "frame"
   ]
  },
  {
   "cell_type": "code",
   "execution_count": 15,
   "metadata": {
    "collapsed": false
   },
   "outputs": [
    {
     "data": {
      "text/plain": [
       "0    Barcelona\n",
       "1      Sevilla\n",
       "2        Milan\n",
       "3       Lisboa\n",
       "4        Paris\n",
       "Name: city, dtype: object"
      ]
     },
     "execution_count": 15,
     "metadata": {},
     "output_type": "execute_result"
    }
   ],
   "source": [
    "# Seleccionando una columna como una Serie\n",
    "frame['city']"
   ]
  },
  {
   "cell_type": "code",
   "execution_count": 16,
   "metadata": {
    "collapsed": false
   },
   "outputs": [
    {
     "data": {
      "text/plain": [
       "city       Sevilla\n",
       "country      Spain\n",
       "Name: 1, dtype: object"
      ]
     },
     "execution_count": 16,
     "metadata": {},
     "output_type": "execute_result"
    }
   ],
   "source": [
    "# Seleccionando una línea como una Serie.\n",
    "frame.ix[1]"
   ]
  },
  {
   "cell_type": "code",
   "execution_count": 19,
   "metadata": {
    "collapsed": false
   },
   "outputs": [
    {
     "data": {
      "text/plain": [
       "Index(['city', 'country'], dtype='object')"
      ]
     },
     "execution_count": 19,
     "metadata": {},
     "output_type": "execute_result"
    }
   ],
   "source": [
    "# Verificando las columnas\n",
    "frame.columns"
   ]
  },
  {
   "cell_type": "code",
   "execution_count": 20,
   "metadata": {
    "collapsed": false
   },
   "outputs": [
    {
     "data": {
      "text/plain": [
       "RangeIndex(start=0, stop=5, step=1)"
      ]
     },
     "execution_count": 20,
     "metadata": {},
     "output_type": "execute_result"
    }
   ],
   "source": [
    "# Verificando los índices.\n",
    "frame.index"
   ]
  },
  {
   "cell_type": "code",
   "execution_count": 21,
   "metadata": {
    "collapsed": false
   },
   "outputs": [
    {
     "data": {
      "text/html": [
       "<div>\n",
       "<table border=\"1\" class=\"dataframe\">\n",
       "  <thead>\n",
       "    <tr style=\"text-align: right;\">\n",
       "      <th></th>\n",
       "      <th>A</th>\n",
       "      <th>B</th>\n",
       "      <th>C</th>\n",
       "      <th>D</th>\n",
       "    </tr>\n",
       "  </thead>\n",
       "  <tbody>\n",
       "    <tr>\n",
       "      <th>2017-01-01</th>\n",
       "      <td>0.635066</td>\n",
       "      <td>0.700570</td>\n",
       "      <td>0.419204</td>\n",
       "      <td>-0.788648</td>\n",
       "    </tr>\n",
       "    <tr>\n",
       "      <th>2017-01-02</th>\n",
       "      <td>-0.907664</td>\n",
       "      <td>0.342053</td>\n",
       "      <td>-0.952971</td>\n",
       "      <td>-0.637560</td>\n",
       "    </tr>\n",
       "    <tr>\n",
       "      <th>2017-01-03</th>\n",
       "      <td>-1.695253</td>\n",
       "      <td>-1.683443</td>\n",
       "      <td>-0.015519</td>\n",
       "      <td>-0.341689</td>\n",
       "    </tr>\n",
       "    <tr>\n",
       "      <th>2017-01-04</th>\n",
       "      <td>0.848971</td>\n",
       "      <td>-1.301252</td>\n",
       "      <td>0.814031</td>\n",
       "      <td>0.168977</td>\n",
       "    </tr>\n",
       "    <tr>\n",
       "      <th>2017-01-05</th>\n",
       "      <td>-1.544396</td>\n",
       "      <td>1.972132</td>\n",
       "      <td>-1.981215</td>\n",
       "      <td>-0.932095</td>\n",
       "    </tr>\n",
       "    <tr>\n",
       "      <th>2017-01-06</th>\n",
       "      <td>1.145683</td>\n",
       "      <td>0.158411</td>\n",
       "      <td>1.269949</td>\n",
       "      <td>-1.178829</td>\n",
       "    </tr>\n",
       "  </tbody>\n",
       "</table>\n",
       "</div>"
      ],
      "text/plain": [
       "                   A         B         C         D\n",
       "2017-01-01  0.635066  0.700570  0.419204 -0.788648\n",
       "2017-01-02 -0.907664  0.342053 -0.952971 -0.637560\n",
       "2017-01-03 -1.695253 -1.683443 -0.015519 -0.341689\n",
       "2017-01-04  0.848971 -1.301252  0.814031  0.168977\n",
       "2017-01-05 -1.544396  1.972132 -1.981215 -0.932095\n",
       "2017-01-06  1.145683  0.158411  1.269949 -1.178829"
      ]
     },
     "execution_count": 21,
     "metadata": {},
     "output_type": "execute_result"
    }
   ],
   "source": [
    "#períodos de fechas\n",
    "dates = pd.date_range('20170101',periods=6)\n",
    "pd.DataFrame(np.random.randn(6,4),index=dates,columns=list('ABCD'))"
   ]
  },
  {
   "cell_type": "code",
   "execution_count": 23,
   "metadata": {
    "collapsed": false
   },
   "outputs": [
    {
     "name": "stdout",
     "output_type": "stream",
     "text": [
      "      row.names pclass  survived  \\\n",
      "0             1    1st         1   \n",
      "1             2    1st         0   \n",
      "2             3    1st         0   \n",
      "3             4    1st         0   \n",
      "4             5    1st         1   \n",
      "5             6    1st         1   \n",
      "6             7    1st         1   \n",
      "7             8    1st         0   \n",
      "8             9    1st         1   \n",
      "9            10    1st         0   \n",
      "10           11    1st         0   \n",
      "11           12    1st         1   \n",
      "12           13    1st         1   \n",
      "13           14    1st         1   \n",
      "14           15    1st         0   \n",
      "15           16    1st         1   \n",
      "16           17    1st         0   \n",
      "17           18    1st         0   \n",
      "18           19    1st         1   \n",
      "19           20    1st         1   \n",
      "20           21    1st         1   \n",
      "21           22    1st         0   \n",
      "22           23    1st         1   \n",
      "23           24    1st         1   \n",
      "24           25    1st         1   \n",
      "25           26    1st         0   \n",
      "26           27    1st         1   \n",
      "27           28    1st         1   \n",
      "28           29    1st         1   \n",
      "29           30    1st         0   \n",
      "...         ...    ...       ...   \n",
      "1283       1284    3rd         0   \n",
      "1284       1285    3rd         0   \n",
      "1285       1286    3rd         0   \n",
      "1286       1287    3rd         0   \n",
      "1287       1288    3rd         0   \n",
      "1288       1289    3rd         0   \n",
      "1289       1290    3rd         1   \n",
      "1290       1291    3rd         0   \n",
      "1291       1292    3rd         0   \n",
      "1292       1293    3rd         0   \n",
      "1293       1294    3rd         1   \n",
      "1294       1295    3rd         0   \n",
      "1295       1296    3rd         0   \n",
      "1296       1297    3rd         0   \n",
      "1297       1298    3rd         0   \n",
      "1298       1299    3rd         0   \n",
      "1299       1300    3rd         0   \n",
      "1300       1301    3rd         0   \n",
      "1301       1302    3rd         0   \n",
      "1302       1303    3rd         1   \n",
      "1303       1304    3rd         0   \n",
      "1304       1305    3rd         1   \n",
      "1305       1306    3rd         0   \n",
      "1306       1307    3rd         0   \n",
      "1307       1308    3rd         0   \n",
      "1308       1309    3rd         0   \n",
      "1309       1310    3rd         0   \n",
      "1310       1311    3rd         0   \n",
      "1311       1312    3rd         0   \n",
      "1312       1313    3rd         0   \n",
      "\n",
      "                                                  name      age     embarked  \\\n",
      "0                         Allen, Miss Elisabeth Walton  29.0000  Southampton   \n",
      "1                          Allison, Miss Helen Loraine   2.0000  Southampton   \n",
      "2                  Allison, Mr Hudson Joshua Creighton  30.0000  Southampton   \n",
      "3      Allison, Mrs Hudson J.C. (Bessie Waldo Daniels)  25.0000  Southampton   \n",
      "4                        Allison, Master Hudson Trevor   0.9167  Southampton   \n",
      "5                                   Anderson, Mr Harry  47.0000  Southampton   \n",
      "6                     Andrews, Miss Kornelia Theodosia  63.0000  Southampton   \n",
      "7                               Andrews, Mr Thomas, jr  39.0000  Southampton   \n",
      "8         Appleton, Mrs Edward Dale (Charlotte Lamson)  58.0000  Southampton   \n",
      "9                               Artagaveytia, Mr Ramon  71.0000    Cherbourg   \n",
      "10                           Astor, Colonel John Jacob  47.0000    Cherbourg   \n",
      "11    Astor, Mrs John Jacob (Madeleine Talmadge Force)  19.0000    Cherbourg   \n",
      "12                        Aubert, Mrs Leontine Pauline      NaN    Cherbourg   \n",
      "13                           Barkworth, Mr Algernon H.      NaN  Southampton   \n",
      "14                                 Baumann, Mr John D.      NaN  Southampton   \n",
      "15      Baxter, Mrs James (Helene DeLaudeniere Chaput)  50.0000    Cherbourg   \n",
      "16                             Baxter, Mr Quigg Edmond  24.0000    Cherbourg   \n",
      "17                                 Beattie, Mr Thomson  36.0000    Cherbourg   \n",
      "18                        Beckwith, Mr Richard Leonard  37.0000  Southampton   \n",
      "19     Beckwith, Mrs Richard Leonard (Sallie Monypeny)  47.0000  Southampton   \n",
      "20                                Behr, Mr Karl Howell  26.0000    Cherbourg   \n",
      "21                                  Birnbaum, Mr Jakob  25.0000    Cherbourg   \n",
      "22                             Bishop, Mr Dickinson H.  25.0000    Cherbourg   \n",
      "23             Bishop, Mrs Dickinson H. (Helen Walton)  19.0000    Cherbourg   \n",
      "24             Bjornstrm-Steffansson, Mr Mauritz Hakan  28.0000  Southampton   \n",
      "25                         Blackwell, Mr Stephen Weart  45.0000  Southampton   \n",
      "26                                     Blank, Mr Henry  39.0000    Cherbourg   \n",
      "27                              Bonnell, Miss Caroline  30.0000  Southampton   \n",
      "28                             Bonnell, Miss Elizabeth  58.0000  Southampton   \n",
      "29                             Borebank, Mr John James      NaN  Southampton   \n",
      "...                                                ...      ...          ...   \n",
      "1283               Vestrom, Miss Hulda Amanda Adolfina      NaN          NaN   \n",
      "1284                                    Vonk, Mr Jenko      NaN          NaN   \n",
      "1285                                Ware, Mr Frederick      NaN          NaN   \n",
      "1286                        Warren, Mr Charles William      NaN          NaN   \n",
      "1287                                  Wazli, Mr Yousif      NaN          NaN   \n",
      "1288                                  Webber, Mr James      NaN          NaN   \n",
      "1289                     Wennerstrom, Mr August Edvard      NaN          NaN   \n",
      "1290                                Wenzel, Mr Linhart      NaN          NaN   \n",
      "1291                        Widegren, Mr Charles Peter      NaN          NaN   \n",
      "1292                          Wiklund, Mr Jacob Alfred      NaN          NaN   \n",
      "1293                                 Wilkes, Mrs Ellen      NaN          NaN   \n",
      "1294                                  Willer, Mr Aaron      NaN          NaN   \n",
      "1295                                 Willey, Mr Edward      NaN          NaN   \n",
      "1296                          Williams, Mr Howard Hugh      NaN          NaN   \n",
      "1297                               Williams, Mr Leslie      NaN          NaN   \n",
      "1298                                Windelov, Mr Einar      NaN          NaN   \n",
      "1299                                   Wirz, Mr Albert      NaN          NaN   \n",
      "1300                             Wiseman, Mr Phillippe      NaN          NaN   \n",
      "1301                           Wittevrongel, Mr Camiel      NaN          NaN   \n",
      "1302                                 Yalsevac, Mr Ivan      NaN          NaN   \n",
      "1303                                Yasbeck, Mr Antoni      NaN          NaN   \n",
      "1304                               Yasbeck, Mrs Antoni      NaN          NaN   \n",
      "1305                                Youssef, Mr Gerios      NaN          NaN   \n",
      "1306                               Zabour, Miss Hileni      NaN          NaN   \n",
      "1307                               Zabour, Miss Tamini      NaN          NaN   \n",
      "1308                                Zakarian, Mr Artun      NaN          NaN   \n",
      "1309                            Zakarian, Mr Maprieder      NaN          NaN   \n",
      "1310                                   Zenn, Mr Philip      NaN          NaN   \n",
      "1311                                     Zievens, Rene      NaN          NaN   \n",
      "1312                                    Zimmerman, Leo      NaN          NaN   \n",
      "\n",
      "                               home.dest     room             ticket   boat  \\\n",
      "0                           St Louis, MO      B-5         24160 L221      2   \n",
      "1        Montreal, PQ / Chesterville, ON      C26                NaN    NaN   \n",
      "2        Montreal, PQ / Chesterville, ON      C26                NaN  (135)   \n",
      "3        Montreal, PQ / Chesterville, ON      C26                NaN    NaN   \n",
      "4        Montreal, PQ / Chesterville, ON      C22                NaN     11   \n",
      "5                           New York, NY     E-12                NaN      3   \n",
      "6                             Hudson, NY      D-7          13502 L77     10   \n",
      "7                            Belfast, NI     A-36                NaN    NaN   \n",
      "8                    Bayside, Queens, NY    C-101                NaN      2   \n",
      "9                    Montevideo, Uruguay      NaN                NaN   (22)   \n",
      "10                          New York, NY      NaN  17754 L224 10s 6d  (124)   \n",
      "11                          New York, NY      NaN  17754 L224 10s 6d      4   \n",
      "12                         Paris, France     B-35       17477 L69 6s      9   \n",
      "13                         Hessle, Yorks     A-23                NaN      B   \n",
      "14                          New York, NY      NaN                NaN    NaN   \n",
      "15                          Montreal, PQ  B-58/60                NaN      6   \n",
      "16                          Montreal, PQ  B-58/60                NaN    NaN   \n",
      "17                          Winnipeg, MN      C-6                NaN    NaN   \n",
      "18                          New York, NY     D-35                NaN      5   \n",
      "19                          New York, NY     D-35                NaN      5   \n",
      "20                          New York, NY    C-148                NaN      5   \n",
      "21                     San Francisco, CA      NaN                NaN  (148)   \n",
      "22                          Dowagiac, MI     B-49                NaN      7   \n",
      "23                          Dowagiac, MI     B-49                NaN      7   \n",
      "24    Stockholm, Sweden / Washington, DC      NaN                         D   \n",
      "25                           Trenton, NJ      NaN                NaN  (241)   \n",
      "26                        Glen Ridge, NJ     A-31                NaN      7   \n",
      "27                        Youngstown, OH      C-7                NaN      8   \n",
      "28     Birkdale, England Cleveland, Ohio    C-103                NaN      8   \n",
      "29                 London / Winnipeg, MB   D-21/2                NaN    NaN   \n",
      "...                                  ...      ...                ...    ...   \n",
      "1283                                 NaN      NaN                NaN    NaN   \n",
      "1284                                 NaN      NaN                NaN    NaN   \n",
      "1285                                 NaN      NaN                NaN    NaN   \n",
      "1286                                 NaN      NaN                NaN    NaN   \n",
      "1287                                 NaN      NaN                NaN    NaN   \n",
      "1288                                 NaN      NaN                NaN    NaN   \n",
      "1289                                 NaN      NaN                NaN    NaN   \n",
      "1290                                 NaN      NaN                NaN    NaN   \n",
      "1291                                 NaN      NaN                NaN    NaN   \n",
      "1292                                 NaN      NaN                NaN    NaN   \n",
      "1293                                 NaN      NaN                NaN    NaN   \n",
      "1294                                 NaN      NaN                NaN    NaN   \n",
      "1295                                 NaN      NaN                NaN    NaN   \n",
      "1296                                 NaN      NaN                NaN    NaN   \n",
      "1297                                 NaN      NaN                NaN    NaN   \n",
      "1298                                 NaN      NaN                NaN    NaN   \n",
      "1299                                 NaN      NaN                NaN    NaN   \n",
      "1300                                 NaN      NaN                NaN    NaN   \n",
      "1301                                 NaN      NaN                NaN    NaN   \n",
      "1302                                 NaN      NaN                NaN    NaN   \n",
      "1303                                 NaN      NaN                NaN    NaN   \n",
      "1304                                 NaN      NaN                NaN    NaN   \n",
      "1305                                 NaN      NaN                NaN    NaN   \n",
      "1306                                 NaN      NaN                NaN    NaN   \n",
      "1307                                 NaN      NaN                NaN    NaN   \n",
      "1308                                 NaN      NaN                NaN    NaN   \n",
      "1309                                 NaN      NaN                NaN    NaN   \n",
      "1310                                 NaN      NaN                NaN    NaN   \n",
      "1311                                 NaN      NaN                NaN    NaN   \n",
      "1312                                 NaN      NaN                NaN    NaN   \n",
      "\n",
      "         sex  \n",
      "0     female  \n",
      "1     female  \n",
      "2       male  \n",
      "3     female  \n",
      "4       male  \n",
      "5       male  \n",
      "6     female  \n",
      "7       male  \n",
      "8     female  \n",
      "9       male  \n",
      "10      male  \n",
      "11    female  \n",
      "12    female  \n",
      "13      male  \n",
      "14      male  \n",
      "15    female  \n",
      "16      male  \n",
      "17      male  \n",
      "18      male  \n",
      "19    female  \n",
      "20      male  \n",
      "21      male  \n",
      "22      male  \n",
      "23    female  \n",
      "24      male  \n",
      "25      male  \n",
      "26      male  \n",
      "27    female  \n",
      "28    female  \n",
      "29      male  \n",
      "...      ...  \n",
      "1283  female  \n",
      "1284    male  \n",
      "1285    male  \n",
      "1286    male  \n",
      "1287    male  \n",
      "1288    male  \n",
      "1289    male  \n",
      "1290    male  \n",
      "1291    male  \n",
      "1292    male  \n",
      "1293  female  \n",
      "1294    male  \n",
      "1295    male  \n",
      "1296    male  \n",
      "1297    male  \n",
      "1298    male  \n",
      "1299    male  \n",
      "1300    male  \n",
      "1301    male  \n",
      "1302    male  \n",
      "1303    male  \n",
      "1304  female  \n",
      "1305    male  \n",
      "1306  female  \n",
      "1307  female  \n",
      "1308    male  \n",
      "1309    male  \n",
      "1310    male  \n",
      "1311  female  \n",
      "1312    male  \n",
      "\n",
      "[1313 rows x 11 columns]\n"
     ]
    }
   ],
   "source": [
    "# Creando un DataFrame desde un archivo csv.\n",
    "file = r'titanic.csv'\n",
    "df = pd.read_csv(file)\n",
    "print(df)"
   ]
  },
  {
   "cell_type": "code",
   "execution_count": 24,
   "metadata": {
    "collapsed": false
   },
   "outputs": [
    {
     "name": "stdout",
     "output_type": "stream",
     "text": [
      "Max Age 71.0\n",
      "Min Age 0.1667\n"
     ]
    }
   ],
   "source": [
    "print('Max Age', df['age'].max())\n",
    "print('Min Age', df['age'].min())"
   ]
  },
  {
   "cell_type": "code",
   "execution_count": 25,
   "metadata": {
    "collapsed": false
   },
   "outputs": [
    {
     "name": "stdout",
     "output_type": "stream",
     "text": [
      "0                           Allen, Miss Elisabeth Walton\n",
      "1                            Allison, Miss Helen Loraine\n",
      "2                    Allison, Mr Hudson Joshua Creighton\n",
      "3        Allison, Mrs Hudson J.C. (Bessie Waldo Daniels)\n",
      "4                          Allison, Master Hudson Trevor\n",
      "5                                     Anderson, Mr Harry\n",
      "6                       Andrews, Miss Kornelia Theodosia\n",
      "7                                 Andrews, Mr Thomas, jr\n",
      "8           Appleton, Mrs Edward Dale (Charlotte Lamson)\n",
      "9                                 Artagaveytia, Mr Ramon\n",
      "10                             Astor, Colonel John Jacob\n",
      "11      Astor, Mrs John Jacob (Madeleine Talmadge Force)\n",
      "12                          Aubert, Mrs Leontine Pauline\n",
      "13                             Barkworth, Mr Algernon H.\n",
      "14                                   Baumann, Mr John D.\n",
      "15        Baxter, Mrs James (Helene DeLaudeniere Chaput)\n",
      "16                               Baxter, Mr Quigg Edmond\n",
      "17                                   Beattie, Mr Thomson\n",
      "18                          Beckwith, Mr Richard Leonard\n",
      "19       Beckwith, Mrs Richard Leonard (Sallie Monypeny)\n",
      "20                                  Behr, Mr Karl Howell\n",
      "21                                    Birnbaum, Mr Jakob\n",
      "22                               Bishop, Mr Dickinson H.\n",
      "23               Bishop, Mrs Dickinson H. (Helen Walton)\n",
      "24               Bjornstrm-Steffansson, Mr Mauritz Hakan\n",
      "25                           Blackwell, Mr Stephen Weart\n",
      "26                                       Blank, Mr Henry\n",
      "27                                Bonnell, Miss Caroline\n",
      "28                               Bonnell, Miss Elizabeth\n",
      "29                               Borebank, Mr John James\n",
      "                              ...                       \n",
      "1283                 Vestrom, Miss Hulda Amanda Adolfina\n",
      "1284                                      Vonk, Mr Jenko\n",
      "1285                                  Ware, Mr Frederick\n",
      "1286                          Warren, Mr Charles William\n",
      "1287                                    Wazli, Mr Yousif\n",
      "1288                                    Webber, Mr James\n",
      "1289                       Wennerstrom, Mr August Edvard\n",
      "1290                                  Wenzel, Mr Linhart\n",
      "1291                          Widegren, Mr Charles Peter\n",
      "1292                            Wiklund, Mr Jacob Alfred\n",
      "1293                                   Wilkes, Mrs Ellen\n",
      "1294                                    Willer, Mr Aaron\n",
      "1295                                   Willey, Mr Edward\n",
      "1296                            Williams, Mr Howard Hugh\n",
      "1297                                 Williams, Mr Leslie\n",
      "1298                                  Windelov, Mr Einar\n",
      "1299                                     Wirz, Mr Albert\n",
      "1300                               Wiseman, Mr Phillippe\n",
      "1301                             Wittevrongel, Mr Camiel\n",
      "1302                                   Yalsevac, Mr Ivan\n",
      "1303                                  Yasbeck, Mr Antoni\n",
      "1304                                 Yasbeck, Mrs Antoni\n",
      "1305                                  Youssef, Mr Gerios\n",
      "1306                                 Zabour, Miss Hileni\n",
      "1307                                 Zabour, Miss Tamini\n",
      "1308                                  Zakarian, Mr Artun\n",
      "1309                              Zakarian, Mr Maprieder\n",
      "1310                                     Zenn, Mr Philip\n",
      "1311                                       Zievens, Rene\n",
      "1312                                      Zimmerman, Leo\n",
      "Name: name, dtype: object\n"
     ]
    }
   ],
   "source": [
    "print(df['name'])"
   ]
  },
  {
   "cell_type": "code",
   "execution_count": 26,
   "metadata": {
    "collapsed": false
   },
   "outputs": [
    {
     "name": "stdout",
     "output_type": "stream",
     "text": [
      "titanicPassengers: \n",
      "0                           Allen, Miss Elisabeth Walton\n",
      "1                            Allison, Miss Helen Loraine\n",
      "2                    Allison, Mr Hudson Joshua Creighton\n",
      "3        Allison, Mrs Hudson J.C. (Bessie Waldo Daniels)\n",
      "4                          Allison, Master Hudson Trevor\n",
      "5                                     Anderson, Mr Harry\n",
      "6                       Andrews, Miss Kornelia Theodosia\n",
      "7                                 Andrews, Mr Thomas, jr\n",
      "8           Appleton, Mrs Edward Dale (Charlotte Lamson)\n",
      "9                                 Artagaveytia, Mr Ramon\n",
      "10                             Astor, Colonel John Jacob\n",
      "11      Astor, Mrs John Jacob (Madeleine Talmadge Force)\n",
      "12                          Aubert, Mrs Leontine Pauline\n",
      "13                             Barkworth, Mr Algernon H.\n",
      "14                                   Baumann, Mr John D.\n",
      "15        Baxter, Mrs James (Helene DeLaudeniere Chaput)\n",
      "16                               Baxter, Mr Quigg Edmond\n",
      "17                                   Beattie, Mr Thomson\n",
      "18                          Beckwith, Mr Richard Leonard\n",
      "19       Beckwith, Mrs Richard Leonard (Sallie Monypeny)\n",
      "20                                  Behr, Mr Karl Howell\n",
      "21                                    Birnbaum, Mr Jakob\n",
      "22                               Bishop, Mr Dickinson H.\n",
      "23               Bishop, Mrs Dickinson H. (Helen Walton)\n",
      "24               Bjornstrm-Steffansson, Mr Mauritz Hakan\n",
      "25                           Blackwell, Mr Stephen Weart\n",
      "26                                       Blank, Mr Henry\n",
      "27                                Bonnell, Miss Caroline\n",
      "28                               Bonnell, Miss Elizabeth\n",
      "29                               Borebank, Mr John James\n",
      "                              ...                       \n",
      "1283                 Vestrom, Miss Hulda Amanda Adolfina\n",
      "1284                                      Vonk, Mr Jenko\n",
      "1285                                  Ware, Mr Frederick\n",
      "1286                          Warren, Mr Charles William\n",
      "1287                                    Wazli, Mr Yousif\n",
      "1288                                    Webber, Mr James\n",
      "1289                       Wennerstrom, Mr August Edvard\n",
      "1290                                  Wenzel, Mr Linhart\n",
      "1291                          Widegren, Mr Charles Peter\n",
      "1292                            Wiklund, Mr Jacob Alfred\n",
      "1293                                   Wilkes, Mrs Ellen\n",
      "1294                                    Willer, Mr Aaron\n",
      "1295                                   Willey, Mr Edward\n",
      "1296                            Williams, Mr Howard Hugh\n",
      "1297                                 Williams, Mr Leslie\n",
      "1298                                  Windelov, Mr Einar\n",
      "1299                                     Wirz, Mr Albert\n",
      "1300                               Wiseman, Mr Phillippe\n",
      "1301                             Wittevrongel, Mr Camiel\n",
      "1302                                   Yalsevac, Mr Ivan\n",
      "1303                                  Yasbeck, Mr Antoni\n",
      "1304                                 Yasbeck, Mrs Antoni\n",
      "1305                                  Youssef, Mr Gerios\n",
      "1306                                 Zabour, Miss Hileni\n",
      "1307                                 Zabour, Miss Tamini\n",
      "1308                                  Zakarian, Mr Artun\n",
      "1309                              Zakarian, Mr Maprieder\n",
      "1310                                     Zenn, Mr Philip\n",
      "1311                                       Zievens, Rene\n",
      "1312                                      Zimmerman, Leo\n",
      "Name: name, dtype: object\n"
     ]
    }
   ],
   "source": [
    "titanicPassengers = pd.Series(df['name'])\n",
    "print(\"titanicPassengers: \\n%s\" % titanicPassengers)"
   ]
  },
  {
   "cell_type": "code",
   "execution_count": 25,
   "metadata": {
    "collapsed": false
   },
   "outputs": [
    {
     "data": {
      "text/html": [
       "<div>\n",
       "<table border=\"1\" class=\"dataframe\">\n",
       "  <thead>\n",
       "    <tr style=\"text-align: right;\">\n",
       "      <th></th>\n",
       "      <th>GBP</th>\n",
       "      <th>USD</th>\n",
       "      <th>EUR</th>\n",
       "    </tr>\n",
       "  </thead>\n",
       "  <tbody>\n",
       "    <tr>\n",
       "      <th>a</th>\n",
       "      <td>0</td>\n",
       "      <td>1</td>\n",
       "      <td>2</td>\n",
       "    </tr>\n",
       "    <tr>\n",
       "      <th>c</th>\n",
       "      <td>3</td>\n",
       "      <td>4</td>\n",
       "      <td>5</td>\n",
       "    </tr>\n",
       "    <tr>\n",
       "      <th>d</th>\n",
       "      <td>6</td>\n",
       "      <td>7</td>\n",
       "      <td>8</td>\n",
       "    </tr>\n",
       "  </tbody>\n",
       "</table>\n",
       "</div>"
      ],
      "text/plain": [
       "   GBP  USD  EUR\n",
       "a    0    1    2\n",
       "c    3    4    5\n",
       "d    6    7    8"
      ]
     },
     "execution_count": 25,
     "metadata": {},
     "output_type": "execute_result"
    }
   ],
   "source": [
    "#Indexing#\n",
    "index = ['a', 'c', 'd']\n",
    "columns = ['GBP', 'USD', 'EUR']\n",
    "data = np.arange(9).reshape((3, 3))      # reshape 9x1 to 3x3\n",
    "pd.DataFrame(data, index=index, columns=columns)"
   ]
  },
  {
   "cell_type": "code",
   "execution_count": 29,
   "metadata": {
    "collapsed": false
   },
   "outputs": [
    {
     "name": "stdout",
     "output_type": "stream",
     "text": [
      "   key  lval\n",
      "0  foo     1\n",
      "1  foo     2\n"
     ]
    }
   ],
   "source": [
    "#Merge#\n",
    "key = ['foo', 'foo']\n",
    "left = pd.DataFrame({'key': key, 'lval': [1, 2]})\n",
    "print(left)"
   ]
  },
  {
   "cell_type": "code",
   "execution_count": 33,
   "metadata": {
    "collapsed": false
   },
   "outputs": [
    {
     "name": "stdout",
     "output_type": "stream",
     "text": [
      "   key  rval\n",
      "0  foo     4\n",
      "1  foo     5\n"
     ]
    },
    {
     "data": {
      "text/html": [
       "<div>\n",
       "<table border=\"1\" class=\"dataframe\">\n",
       "  <thead>\n",
       "    <tr style=\"text-align: right;\">\n",
       "      <th></th>\n",
       "      <th>key</th>\n",
       "      <th>lval</th>\n",
       "      <th>rval</th>\n",
       "    </tr>\n",
       "  </thead>\n",
       "  <tbody>\n",
       "    <tr>\n",
       "      <th>0</th>\n",
       "      <td>foo</td>\n",
       "      <td>1.0</td>\n",
       "      <td>NaN</td>\n",
       "    </tr>\n",
       "    <tr>\n",
       "      <th>1</th>\n",
       "      <td>foo</td>\n",
       "      <td>2.0</td>\n",
       "      <td>NaN</td>\n",
       "    </tr>\n",
       "    <tr>\n",
       "      <th>0</th>\n",
       "      <td>foo</td>\n",
       "      <td>NaN</td>\n",
       "      <td>4.0</td>\n",
       "    </tr>\n",
       "    <tr>\n",
       "      <th>1</th>\n",
       "      <td>foo</td>\n",
       "      <td>NaN</td>\n",
       "      <td>5.0</td>\n",
       "    </tr>\n",
       "  </tbody>\n",
       "</table>\n",
       "</div>"
      ],
      "text/plain": [
       "   key  lval  rval\n",
       "0  foo   1.0   NaN\n",
       "1  foo   2.0   NaN\n",
       "0  foo   NaN   4.0\n",
       "1  foo   NaN   5.0"
      ]
     },
     "execution_count": 33,
     "metadata": {},
     "output_type": "execute_result"
    }
   ],
   "source": [
    "right = pd.DataFrame({'key': key, 'rval': [4, 5]})\n",
    "print(right)\n",
    "pd.concat([left,right])"
   ]
  },
  {
   "cell_type": "code",
   "execution_count": 34,
   "metadata": {
    "collapsed": false
   },
   "outputs": [
    {
     "data": {
      "text/html": [
       "<div>\n",
       "<table border=\"1\" class=\"dataframe\">\n",
       "  <thead>\n",
       "    <tr style=\"text-align: right;\">\n",
       "      <th></th>\n",
       "      <th>key</th>\n",
       "      <th>lval</th>\n",
       "      <th>rval</th>\n",
       "    </tr>\n",
       "  </thead>\n",
       "  <tbody>\n",
       "    <tr>\n",
       "      <th>0</th>\n",
       "      <td>foo</td>\n",
       "      <td>1</td>\n",
       "      <td>4</td>\n",
       "    </tr>\n",
       "    <tr>\n",
       "      <th>1</th>\n",
       "      <td>foo</td>\n",
       "      <td>1</td>\n",
       "      <td>5</td>\n",
       "    </tr>\n",
       "    <tr>\n",
       "      <th>2</th>\n",
       "      <td>foo</td>\n",
       "      <td>2</td>\n",
       "      <td>4</td>\n",
       "    </tr>\n",
       "    <tr>\n",
       "      <th>3</th>\n",
       "      <td>foo</td>\n",
       "      <td>2</td>\n",
       "      <td>5</td>\n",
       "    </tr>\n",
       "  </tbody>\n",
       "</table>\n",
       "</div>"
      ],
      "text/plain": [
       "   key  lval  rval\n",
       "0  foo     1     4\n",
       "1  foo     1     5\n",
       "2  foo     2     4\n",
       "3  foo     2     5"
      ]
     },
     "execution_count": 34,
     "metadata": {},
     "output_type": "execute_result"
    }
   ],
   "source": [
    "pd.merge(left, right, on='key')"
   ]
  },
  {
   "cell_type": "markdown",
   "metadata": {},
   "source": [
    "## Otras librerías"
   ]
  },
  {
   "cell_type": "markdown",
   "metadata": {},
   "source": [
    "Otras librerías que también son muy importantes para el análisis de datos con [Python](http://python.org/) son:"
   ]
  },
  {
   "cell_type": "markdown",
   "metadata": {},
   "source": [
    "### SciPy"
   ]
  },
  {
   "cell_type": "markdown",
   "metadata": {},
   "source": [
    "[SciPy](http://www.scipy.org/) es un conjunto de paquetes donde cada uno ellos ataca un problema distinto dentro de la computación científica y el análisis numérico. Algunos de los paquetes que incluye, son:\n",
    "\n",
    "* **`scipy.integrate`**: que proporciona diferentes funciones para resolver problemas de integración numérica.\n",
    "* **`scipy.linalg`**: que proporciona funciones para resolver problemas de álgebra lineal.\n",
    "* **`scipy.optimize`**: para los problemas de optimización y minimización.\n",
    "* **`scipy.signal`**: para el análisis y procesamiento de señales.\n",
    "* **`scipy.sparse`**: para matrices dispersas y solucionar sistemas lineales dispersos\n",
    "* **`scipy.stats`**: para el análisis de estadística y probabilidades.\n"
   ]
  },
  {
   "cell_type": "markdown",
   "metadata": {},
   "source": [
    "### Scikit-learn"
   ]
  },
  {
   "cell_type": "markdown",
   "metadata": {},
   "source": [
    "[Scikit-learn](http://scikit-learn.org/stable/) es una librería especializada en algoritmos para [data mining](http://es.wikipedia.org/wiki/Miner%C3%ADa_de_datos) y [machine learning](http://es.wikipedia.org/wiki/Machine_learning).  \n",
    "\n",
    "Algunos de los problemas que podemos resolver utilizando las herramientas de [Scikit-learn](http://scikit-learn.org/stable/), son:\n",
    "\n",
    "* <a href='http://scikit-learn.org/stable/supervised_learning.html#supervised-learning' target='_blank'>Clasificaciones</a>: Identificar las categorías a que cada observación del conjunto de datos pertenece.\n",
    "* <a href='http://scikit-learn.org/stable/supervised_learning.html#supervised-learning' target='_blank'>Regresiones</a>: Predecire el valor continuo para cada nuevo ejemplo.\n",
    "* <a href='http://scikit-learn.org/stable/modules/clustering.html#clustering' target='_blank'>Agrupaciones</a>: Agrupación automática de objetos similares en un conjunto.\n",
    "* <a href='http://scikit-learn.org/stable/modules/decomposition.html#decompositions' target='_blank'>Reducción de dimensiones</a>: Reducir el número de variables aleatorias a considerar.\n",
    "* <a href='http://scikit-learn.org/stable/model_selection.html#model-selection' target='_blank'>Selección de Modelos</a>: Comparar, validar y elegir parámetros y modelos.\n",
    "* <a href='http://scikit-learn.org/stable/modules/preprocessing.html#preprocessing' target='_blank'>Preprocesamiento</a>: Extracción de características a analizar y normalización de datos."
   ]
  }
 ],
 "metadata": {
  "kernelspec": {
   "display_name": "Python 3",
   "language": "python",
   "name": "python3"
  },
  "language_info": {
   "codemirror_mode": {
    "name": "ipython",
    "version": 3
   },
   "file_extension": ".py",
   "mimetype": "text/x-python",
   "name": "python",
   "nbconvert_exporter": "python",
   "pygments_lexer": "ipython3",
   "version": "3.6.0"
  }
 },
 "nbformat": 4,
 "nbformat_minor": 0
}
