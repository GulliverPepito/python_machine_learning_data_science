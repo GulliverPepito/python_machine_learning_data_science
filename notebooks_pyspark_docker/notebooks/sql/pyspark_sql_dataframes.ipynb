{
 "cells": [
  {
   "cell_type": "markdown",
   "metadata": {
    "collapsed": true,
    "deletable": true,
    "editable": true
   },
   "source": [
    "# Trabajando con Spark SQL y dataframes"
   ]
  },
  {
   "cell_type": "code",
   "execution_count": 1,
   "metadata": {
    "collapsed": true,
    "deletable": true,
    "editable": true
   },
   "outputs": [],
   "source": [
    "from pyspark.sql import SparkSession"
   ]
  },
  {
   "cell_type": "code",
   "execution_count": 2,
   "metadata": {
    "collapsed": false,
    "deletable": true,
    "editable": true
   },
   "outputs": [],
   "source": [
    "spark= SparkSession.builder.appName(\"Trabajando con Spark SQL\").getOrCreate()"
   ]
  },
  {
   "cell_type": "markdown",
   "metadata": {
    "deletable": true,
    "editable": true
   },
   "source": [
    "Lo primero que vamos a leer va a ser un fichero json que representa la tabla periodica de los elementos y lo vamos a almacenar en un dataframe sobre el que vamos a ir realizando diferentes acciones como si se tratara de un RDD.\n",
    "\n",
    "\n",
    "Nota: el formato json en spark SQL es un formato por línea , como si fuera un CSV, por lo tanto, hay que transformar el listado de objetos en un una fila por cada objeto."
   ]
  },
  {
   "cell_type": "code",
   "execution_count": 3,
   "metadata": {
    "collapsed": false,
    "deletable": true,
    "editable": true
   },
   "outputs": [],
   "source": [
    "df = spark.read.json(\"PeriodicTable.json\")"
   ]
  },
  {
   "cell_type": "code",
   "execution_count": 4,
   "metadata": {
    "collapsed": false,
    "deletable": true,
    "editable": true
   },
   "outputs": [
    {
     "data": {
      "text/plain": [
       "[Row(appearance=u'colorless gas', atomic_mass=1.008, boil=20.271, category=u'diatomic nonmetal', color=None, density=0.08988, discovered_by=u'Henry Cavendish', melt=13.99, molar_heat=28.836, name=u'Hydrogen', named_by=u'Antoine Lavoisier', number=u'1', period=1, phase=u'Gas', source=u'https://en.wikipedia.org/wiki/Hydrogen', spectral_img=u'https://en.wikipedia.org/wiki/File:Hydrogen_Spectra.jpg', summary=u'Hydrogen is a chemical element with chemical symbol H and atomic number 1. With an atomic weight of 1.00794 u, hydrogen is the lightest element on the periodic table. Its monatomic form (H) is the most abundant chemical substance in the Universe, constituting roughly 75% of all baryonic mass.', symbol=u'H', xpos=1, ypos=1),\n",
       " Row(appearance=u'colorless gas, exhibiting a red-orange glow when placed in a high-voltage electric field', atomic_mass=4.0026022, boil=4.222, category=u'noble gas', color=None, density=0.1786, discovered_by=u'Pierre Janssen', melt=0.95, molar_heat=None, name=u'Helium', named_by=None, number=u'2', period=1, phase=u'Gas', source=u'https://en.wikipedia.org/wiki/Helium', spectral_img=u'https://en.wikipedia.org/wiki/File:Helium_spectrum.jpg', summary=u'Helium is a chemical element with symbol He and atomic number 2. It is a colorless, odorless, tasteless, non-toxic, inert, monatomic gas that heads the noble gas group in the periodic table. Its boiling and melting points are the lowest among all the elements.', symbol=u'He', xpos=18, ypos=1),\n",
       " Row(appearance=u'silvery-white', atomic_mass=6.94, boil=1603.0, category=u'alkali metal', color=None, density=0.534, discovered_by=u'Johan August Arfwedson', melt=453.65, molar_heat=24.86, name=u'Lithium', named_by=None, number=u'3', period=2, phase=u'Solid', source=u'https://en.wikipedia.org/wiki/Lithium', spectral_img=None, summary=u'Lithium (from Greek:\\u03bb\\u03af\\u03b8\\u03bf\\u03c2 lithos, \"stone\") is a chemical element with the symbol Li and atomic number 3. It is a soft, silver-white metal belonging to the alkali metal group of chemical elements. Under standard conditions it is the lightest metal and the least dense solid element.', symbol=u'Li', xpos=1, ypos=2),\n",
       " Row(appearance=u'white-gray metallic', atomic_mass=9.01218315, boil=2742.0, category=u'alkaline earth metal', color=None, density=1.85, discovered_by=u'Louis Nicolas Vauquelin', melt=1560.0, molar_heat=16.443, name=u'Beryllium', named_by=None, number=u'4', period=2, phase=u'Solid', source=u'https://en.wikipedia.org/wiki/Beryllium', spectral_img=None, summary=u'Beryllium is a chemical element with symbol Be and atomic number 4. It is created through stellar nucleosynthesis and is a relatively rare element in the universe. It is a divalent element which occurs naturally only in combination with other elements in minerals.', symbol=u'Be', xpos=2, ypos=2),\n",
       " Row(appearance=u'black-brown', atomic_mass=10.81, boil=4200.0, category=u'metalloid', color=None, density=2.08, discovered_by=u'Joseph Louis Gay-Lussac', melt=2349.0, molar_heat=11.087, name=u'Boron', named_by=None, number=u'5', period=2, phase=u'Solid', source=u'https://en.wikipedia.org/wiki/Boron', spectral_img=None, summary=u\"Boron is a metalloid chemical element with symbol B and atomic number 5. Produced entirely by cosmic ray spallation and supernovae and not by stellar nucleosynthesis, it is a low-abundance element in both the Solar system and the Earth's crust. Boron is concentrated on Earth by the water-solubility of its more common naturally occurring compounds, the borate minerals.\", symbol=u'B', xpos=13, ypos=2),\n",
       " Row(appearance=None, atomic_mass=12.011, boil=None, category=u'polyatomic nonmetal', color=None, density=1.821, discovered_by=u'Ancient Egypt', melt=None, molar_heat=8.517, name=u'Carbon', named_by=None, number=u'6', period=2, phase=u'Solid', source=u'https://en.wikipedia.org/wiki/Carbon', spectral_img=u'https://en.wikipedia.org/wiki/File:Carbon_Spectra.jpg', summary=u'Carbon (from Latin:carbo \"coal\") is a chemical element with symbol C and atomic number 6. On the periodic table, it is the first (row 2) of six elements in column (group) 14, which have in common the composition of their outer electron shell. It is nonmetallic and tetravalent\\u2014making four electrons available to form covalent chemical bonds.', symbol=u'C', xpos=14, ypos=2),\n",
       " Row(appearance=u'colorless gas, liquid or solid', atomic_mass=14.007, boil=77.355, category=u'diatomic nonmetal', color=None, density=1.251, discovered_by=u'Daniel Rutherford', melt=63.15, molar_heat=None, name=u'Nitrogen', named_by=u'Jean-Antoine Chaptal', number=u'7', period=2, phase=u'Gas', source=u'https://en.wikipedia.org/wiki/Nitrogen', spectral_img=u'https://en.wikipedia.org/wiki/File:Nitrogen_Spectra.jpg', summary=u'Nitrogen is a chemical element with symbol N and atomic number 7. It is the lightest pnictogen and at room temperature, it is a transparent, odorless diatomic gas. Nitrogen is a common element in the universe, estimated at about seventh in total abundance in the Milky Way and the Solar System.', symbol=u'N', xpos=15, ypos=2),\n",
       " Row(appearance=None, atomic_mass=15.999, boil=90.188, category=u'diatomic nonmetal', color=None, density=1.429, discovered_by=u'Carl Wilhelm Scheele', melt=54.36, molar_heat=None, name=u'Oxygen', named_by=u'Antoine Lavoisier', number=u'8', period=2, phase=u'Gas', source=u'https://en.wikipedia.org/wiki/Oxygen', spectral_img=u'https://en.wikipedia.org/wiki/File:Oxygen_spectre.jpg', summary=u'Oxygen is a chemical element with symbol O and atomic number 8. It is a member of the chalcogen group on the periodic table and is a highly reactive nonmetal and oxidizing agent that readily forms compounds (notably oxides) with most elements. By mass, oxygen is the third-most abundant element in the universe, after hydrogen and helium.', symbol=u'O', xpos=16, ypos=2),\n",
       " Row(appearance=None, atomic_mass=18.9984031636, boil=85.03, category=u'diatomic nonmetal', color=None, density=1.696, discovered_by=u'Andr\\xe9-Marie Amp\\xe8re', melt=53.48, molar_heat=None, name=u'Fluorine', named_by=u'Humphry Davy', number=u'9', period=2, phase=u'Gas', source=u'https://en.wikipedia.org/wiki/Fluorine', spectral_img=None, summary=u'Fluorine is a chemical element with symbol F and atomic number 9. It is the lightest halogen and exists as a highly toxic pale yellow diatomic gas at standard conditions. As the most electronegative element, it is extremely reactive:almost all other elements, including some noble gases, form compounds with fluorine.', symbol=u'F', xpos=17, ypos=2),\n",
       " Row(appearance=u'colorless gas exhibiting an orange-red glow when placed in a high voltage electric field', atomic_mass=20.17976, boil=27.104, category=u'noble gas', color=None, density=0.9002, discovered_by=u'Morris Travers', melt=24.56, molar_heat=None, name=u'Neon', named_by=None, number=u'10', period=2, phase=u'Gas', source=u'https://en.wikipedia.org/wiki/Neon', spectral_img=u'https://en.wikipedia.org/wiki/File:Neon_spectra.jpg', summary=u'Neon is a chemical element with symbol Ne and atomic number 10. It is in group 18 (noble gases) of the periodic table. Neon is a colorless, odorless, inert monatomic gas under standard conditions, with about two-thirds the density of air.', symbol=u'Ne', xpos=18, ypos=2),\n",
       " Row(appearance=u'silvery white metallic', atomic_mass=22.989769282, boil=1156.09, category=u'alkali metal', color=None, density=0.968, discovered_by=u'Humphry Davy', melt=370.944, molar_heat=28.23, name=u'Sodium', named_by=None, number=u'11', period=3, phase=u'Solid', source=u'https://en.wikipedia.org/wiki/Sodium', spectral_img=u'https://en.wikipedia.org/wiki/File:Sodium_Spectra.jpg', summary=u'Sodium /\\u02c8so\\u028adi\\u0259m/ is a chemical element with symbol Na (from Ancient Greek \\u039d\\u03ac\\u03c4\\u03c1\\u03b9\\u03bf) and atomic number 11. It is a soft, silver-white, highly reactive metal. In the Periodic table it is in column 1 (alkali metals), and shares with the other six elements in that column that it has a single electron in its outer shell, which it readily donates, creating a positively charged atom - a cation.', symbol=u'Na', xpos=1, ypos=3),\n",
       " Row(appearance=u'shiny grey solid', atomic_mass=24.305, boil=1363.0, category=u'alkaline earth metal', color=None, density=1.738, discovered_by=u'Joseph Black', melt=923.0, molar_heat=24.869, name=u'Magnesium', named_by=None, number=u'12', period=3, phase=u'Solid', source=u'https://en.wikipedia.org/wiki/Magnesium', spectral_img=u'https://en.wikipedia.org/wiki/File:Magnesium_Spectra.jpg', summary=u'Magnesium is a chemical element with symbol Mg and atomic number 12. It is a shiny gray solid which bears a close physical resemblance to the other five elements in the second column (Group 2, or alkaline earth metals) of the periodic table:they each have the same electron configuration in their outer electron shell producing a similar crystal structure. Magnesium is the ninth most abundant element in the universe.', symbol=u'Mg', xpos=2, ypos=3),\n",
       " Row(appearance=u'silvery gray metallic', atomic_mass=26.98153857, boil=2743.0, category=u'post-transition metal', color=None, density=2.7, discovered_by=None, melt=933.47, molar_heat=24.2, name=u'Aluminium', named_by=u'Humphry Davy', number=u'13', period=3, phase=u'Solid', source=u'https://en.wikipedia.org/wiki/Aluminium', spectral_img=None, summary=u\"Aluminium (or aluminum; see different endings) is a chemical element in the boron group with symbol Al and atomic number 13. It is a silvery-white, soft, nonmagnetic, ductile metal. Aluminium is the third most abundant element (after oxygen and silicon), and the most abundant metal, in the Earth's crust.\", symbol=u'Al', xpos=13, ypos=3),\n",
       " Row(appearance=u'crystalline, reflective with bluish-tinged faces', atomic_mass=28.085, boil=3538.0, category=u'metalloid', color=None, density=2.329, discovered_by=u'J\\xf6ns Jacob Berzelius', melt=1687.0, molar_heat=19.789, name=u'Silicon', named_by=u'Thomas Thomson (chemist)', number=u'14', period=3, phase=u'Solid', source=u'https://en.wikipedia.org/wiki/Silicon', spectral_img=u'https://en.wikipedia.org/wiki/File:Silicon_Spectra.jpg', summary=u\"Silicon is a chemical element with symbol Si and atomic number 14. It is a tetravalent metalloid, more reactive than germanium, the metalloid directly below it in the table. Controversy about silicon's character dates to its discovery.\", symbol=u'Si', xpos=14, ypos=3),\n",
       " Row(appearance=u'colourless, waxy white, yellow, scarlet, red, violet, black', atomic_mass=30.9737619985, boil=None, category=u'polyatomic nonmetal', color=None, density=None, discovered_by=u'Hennig Brand', melt=None, molar_heat=23.824, name=u'Phosphorus', named_by=None, number=u'15', period=3, phase=u'Solid', source=u'https://en.wikipedia.org/wiki/Phosphorus', spectral_img=None, summary=u'Phosphorus is a chemical element with symbol P and atomic number 15. As an element, phosphorus exists in two major forms\\u2014white phosphorus and red phosphorus\\u2014but due to its high reactivity, phosphorus is never found as a free element on Earth. Instead phosphorus-containing minerals are almost always present in their maximally oxidised state, as inorganic phosphate rocks.', symbol=u'P', xpos=15, ypos=3),\n",
       " Row(appearance=u'lemon yellow sintered microcrystals', atomic_mass=32.06, boil=717.8, category=u'polyatomic nonmetal', color=None, density=2.07, discovered_by=u'Ancient china', melt=388.36, molar_heat=22.75, name=u'Sulfur', named_by=None, number=u'16', period=3, phase=u'Solid', source=u'https://en.wikipedia.org/wiki/Sulfur', spectral_img=u'https://en.wikipedia.org/wiki/File:Sulfur_Spectrum.jpg', summary=u'Sulfur or sulphur (see spelling differences) is a chemical element with symbol S and atomic number 16. It is an abundant, multivalent non-metal. Under normal conditions, sulfur atoms form cyclic octatomic molecules with chemical formula S8.', symbol=u'S', xpos=16, ypos=3),\n",
       " Row(appearance=u'pale yellow-green gas', atomic_mass=35.45, boil=239.11, category=u'diatomic nonmetal', color=None, density=3.2, discovered_by=u'Carl Wilhelm Scheele', melt=171.6, molar_heat=None, name=u'Chlorine', named_by=None, number=u'17', period=3, phase=u'Gas', source=u'https://en.wikipedia.org/wiki/Chlorine', spectral_img=u'https://en.wikipedia.org/wiki/File:Chlorine_spectrum_visible.png', summary=u'Chlorine is a chemical element with symbol Cl and atomic number 17. It also has a relative atomic mass of 35.5. Chlorine is in the halogen group (17) and is the second lightest halogen following fluorine.', symbol=u'Cl', xpos=17, ypos=3),\n",
       " Row(appearance=u'colorless gas exhibiting a lilac/violet glow when placed in a high voltage electric field', atomic_mass=39.9481, boil=87.302, category=u'noble gas', color=None, density=1.784, discovered_by=u'Lord Rayleigh', melt=83.81, molar_heat=None, name=u'Argon', named_by=None, number=u'18', period=3, phase=u'Gas', source=u'https://en.wikipedia.org/wiki/Argon', spectral_img=u'https://en.wikipedia.org/wiki/File:Argon_Spectrum.png', summary=u\"Argon is a chemical element with symbol Ar and atomic number 18. It is in group 18 of the periodic table and is a noble gas. Argon is the third most common gas in the Earth's atmosphere, at 0.934% (9,340 ppmv), making it over twice as abundant as the next most common atmospheric gas, water vapor (which averages about 4000 ppmv, but varies greatly), and 23 times as abundant as the next most common non-condensing atmospheric gas, carbon dioxide (400 ppmv), and more than 500 times as abundant as the next most common noble gas, neon (18 ppmv).\", symbol=u'Ar', xpos=18, ypos=3),\n",
       " Row(appearance=u'silvery gray', atomic_mass=39.09831, boil=1032.0, category=u'alkali metal', color=None, density=0.862, discovered_by=u'Humphry Davy', melt=336.7, molar_heat=29.6, name=u'Potassium', named_by=None, number=u'19', period=4, phase=u'Solid', source=u'https://en.wikipedia.org/wiki/Potassium', spectral_img=u'https://en.wikipedia.org/wiki/File:Potassium_Spectrum.jpg', summary=u'Potassium is a chemical element with symbol K (derived from Neo-Latin, kalium) and atomic number 19. It was first isolated from potash, the ashes of plants, from which its name is derived. In the Periodic table, potassium is one of seven elements in column (group) 1 (alkali metals):they all have a single valence electron in their outer electron shell, which they readily give up to create an atom with a positive charge - a cation, and combine with anions to form salts.', symbol=u'K', xpos=1, ypos=4),\n",
       " Row(appearance=None, atomic_mass=40.0784, boil=1757.0, category=u'alkaline earth metal', color=None, density=1.55, discovered_by=u'Humphry Davy', melt=1115.0, molar_heat=25.929, name=u'Calcium', named_by=None, number=u'20', period=4, phase=u'Solid', source=u'https://en.wikipedia.org/wiki/Calcium', spectral_img=u'https://en.wikipedia.org/wiki/File:Calcium_Spectrum.png', summary=u\"Calcium is a chemical element with symbol Ca and atomic number 20. Calcium is a soft gray alkaline earth metal, fifth-most-abundant element by mass in the Earth's crust. The ion Ca2+ is also the fifth-most-abundant dissolved ion in seawater by both molarity and mass, after sodium, chloride, magnesium, and sulfate.\", symbol=u'Ca', xpos=2, ypos=4),\n",
       " Row(appearance=u'silvery white', atomic_mass=44.9559085, boil=3109.0, category=u'transition metal', color=None, density=2.985, discovered_by=u'Lars Fredrik Nilson', melt=1814.0, molar_heat=25.52, name=u'Scandium', named_by=None, number=u'21', period=4, phase=u'Solid', source=u'https://en.wikipedia.org/wiki/Scandium', spectral_img=None, summary=u'Scandium is a chemical element with symbol Sc and atomic number 21. A silvery-white metallic d-block element, it has historically been sometimes classified as a rare earth element, together with yttrium and the lanthanoids. It was discovered in 1879 by spectral analysis of the minerals euxenite and gadolinite from Scandinavia.', symbol=u'Sc', xpos=3, ypos=4),\n",
       " Row(appearance=u'silvery grey-white metallic', atomic_mass=47.8671, boil=3560.0, category=u'transition metal', color=None, density=4.506, discovered_by=u'William Gregor', melt=1941.0, molar_heat=25.06, name=u'Titanium', named_by=u'Martin Heinrich Klaproth', number=u'22', period=4, phase=u'Solid', source=u'https://en.wikipedia.org/wiki/Titanium', spectral_img=None, summary=u'Titanium is a chemical element with symbol Ti and atomic number 22. It is a lustrous transition metal with a silver color, low density and high strength. It is highly resistant to corrosion in sea water, aqua regia and chlorine.', symbol=u'Ti', xpos=4, ypos=4),\n",
       " Row(appearance=u'blue-silver-grey metal', atomic_mass=50.94151, boil=3680.0, category=u'transition metal', color=None, density=6.0, discovered_by=u'Andr\\xe9s Manuel del R\\xedo', melt=2183.0, molar_heat=24.89, name=u'Vanadium', named_by=u'Isotopes of vanadium', number=u'23', period=4, phase=u'Solid', source=u'https://en.wikipedia.org/wiki/Vanadium', spectral_img=None, summary=u'Vanadium is a chemical element with symbol V and atomic number 23. It is a hard, silvery grey, ductile and malleable transition metal. The element is found only in chemically combined form in nature, but once isolated artificially, the formation of an oxide layer stabilizes the free metal somewhat against further oxidation.', symbol=u'V', xpos=5, ypos=4),\n",
       " Row(appearance=u'silvery metallic', atomic_mass=51.99616, boil=2944.0, category=u'transition metal', color=None, density=7.19, discovered_by=u'Louis Nicolas Vauquelin', melt=2180.0, molar_heat=23.35, name=u'Chromium', named_by=None, number=u'24', period=4, phase=u'Solid', source=u'https://en.wikipedia.org/wiki/Chromium', spectral_img=None, summary=u'Chromium is a chemical element with symbol Cr and atomic number 24. It is the first element in Group 6. It is a steely-gray, lustrous, hard and brittle metal which takes a high polish, resists tarnishing, and has a high melting point.', symbol=u'Cr', xpos=6, ypos=4),\n",
       " Row(appearance=u'silvery metallic', atomic_mass=54.9380443, boil=2334.0, category=u'transition metal', color=None, density=7.21, discovered_by=u'Torbern Olof Bergman', melt=1519.0, molar_heat=26.32, name=u'Manganese', named_by=None, number=u'25', period=4, phase=u'Solid', source=u'https://en.wikipedia.org/wiki/Manganese', spectral_img=None, summary=u'Manganese is a chemical element with symbol Mn and atomic number 25. It is not found as a free element in nature; it is often found in combination with iron, and in many minerals. Manganese is a metal with important industrial metal alloy uses, particularly in stainless steels.', symbol=u'Mn', xpos=7, ypos=4),\n",
       " Row(appearance=u'lustrous metallic with a grayish tinge', atomic_mass=55.8452, boil=3134.0, category=u'transition metal', color=None, density=7.874, discovered_by=u'5000 BC', melt=1811.0, molar_heat=25.1, name=u'Iron', named_by=None, number=u'26', period=4, phase=u'Solid', source=u'https://en.wikipedia.org/wiki/Iron', spectral_img=u'https://en.wikipedia.org/wiki/File:Iron_Spectrum.jpg', summary=u\"Iron is a chemical element with symbol Fe (from Latin:ferrum) and atomic number 26. It is a metal in the first transition series. It is by mass the most common element on Earth, forming much of Earth's outer and inner core.\", symbol=u'Fe', xpos=8, ypos=4),\n",
       " Row(appearance=u'hard lustrous gray metal', atomic_mass=58.9331944, boil=3200.0, category=u'transition metal', color=u'metallic gray', density=8.9, discovered_by=u'Georg Brandt', melt=1768.0, molar_heat=24.81, name=u'Cobalt', named_by=None, number=u'27', period=4, phase=u'Solid', source=u'https://en.wikipedia.org/wiki/Cobalt', spectral_img=None, summary=u\"Cobalt is a chemical element with symbol Co and atomic number 27. Like nickel, cobalt in the Earth's crust is found only in chemically combined form, save for small deposits found in alloys of natural meteoric iron. The free element, produced by reductive smelting, is a hard, lustrous, silver-gray metal.\", symbol=u'Co', xpos=9, ypos=4),\n",
       " Row(appearance=u'lustrous, metallic, and silver with a gold tinge', atomic_mass=58.69344, boil=3003.0, category=u'transition metal', color=None, density=8.908, discovered_by=u'Axel Fredrik Cronstedt', melt=1728.0, molar_heat=26.07, name=u'Nickel', named_by=None, number=u'28', period=4, phase=u'Solid', source=u'https://en.wikipedia.org/wiki/Nickel', spectral_img=None, summary=u'Nickel is a chemical element with symbol Ni and atomic number 28. It is a silvery-white lustrous metal with a slight golden tinge. Nickel belongs to the transition metals and is hard and ductile.', symbol=u'Ni', xpos=10, ypos=4),\n",
       " Row(appearance=u'red-orange metallic luster', atomic_mass=63.5463, boil=2835.0, category=u'transition metal', color=None, density=8.96, discovered_by=u'Middle East', melt=1357.77, molar_heat=24.44, name=u'Copper', named_by=None, number=u'29', period=4, phase=u'Solid', source=u'https://en.wikipedia.org/wiki/Copper', spectral_img=None, summary=u'Copper is a chemical element with symbol Cu (from Latin:cuprum) and atomic number 29. It is a soft, malleable and ductile metal with very high thermal and electrical conductivity. A freshly exposed surface of pure copper has a reddish-orange color.', symbol=u'Cu', xpos=11, ypos=4),\n",
       " Row(appearance=u'silver-gray', atomic_mass=65.382, boil=1180.0, category=u'transition metal', color=None, density=7.14, discovered_by=u'India', melt=692.68, molar_heat=25.47, name=u'Zinc', named_by=None, number=u'30', period=4, phase=u'Solid', source=u'https://en.wikipedia.org/wiki/Zinc', spectral_img=None, summary=u'Zinc, in commerce also spelter, is a chemical element with symbol Zn and atomic number 30. It is the first element of group 12 of the periodic table. In some respects zinc is chemically similar to magnesium:its ion is of similar size and its only common oxidation state is +2.', symbol=u'Zn', xpos=12, ypos=4),\n",
       " Row(appearance=u'silver-white', atomic_mass=69.7231, boil=2673.0, category=u'post-transition metal', color=None, density=5.91, discovered_by=u'Lecoq de Boisbaudran', melt=302.9146, molar_heat=25.86, name=u'Gallium', named_by=None, number=u'31', period=4, phase=u'Solid', source=u'https://en.wikipedia.org/wiki/Gallium', spectral_img=None, summary=u'Gallium is a chemical element with symbol Ga and atomic number 31. Elemental gallium does not occur in free form in nature, but as the gallium(III) compounds that are in trace amounts in zinc ores and in bauxite. Gallium is a soft, silvery metal, and elemental gallium is a brittle solid at low temperatures, and melts at 29.76 \\xb0C (85.57 \\xb0F) (slightly above room temperature).', symbol=u'Ga', xpos=13, ypos=4),\n",
       " Row(appearance=u'grayish-white', atomic_mass=72.6308, boil=3106.0, category=u'metalloid', color=None, density=5.323, discovered_by=u'Clemens Winkler', melt=1211.4, molar_heat=23.222, name=u'Germanium', named_by=None, number=u'32', period=4, phase=u'Solid', source=u'https://en.wikipedia.org/wiki/Germanium', spectral_img=None, summary=u'Germanium is a chemical element with symbol Ge and atomic number 32. It is a lustrous, hard, grayish-white metalloid in the carbon group, chemically similar to its group neighbors tin and silicon. Purified germanium is a semiconductor, with an appearance most similar to elemental silicon.', symbol=u'Ge', xpos=14, ypos=4),\n",
       " Row(appearance=u'metallic grey', atomic_mass=74.9215956, boil=None, category=u'metalloid', color=None, density=5.727, discovered_by=u'Bronze Age', melt=None, molar_heat=24.64, name=u'Arsenic', named_by=None, number=u'33', period=4, phase=u'Solid', source=u'https://en.wikipedia.org/wiki/Arsenic', spectral_img=None, summary=u'Arsenic is a chemical element with symbol As and atomic number 33. Arsenic occurs in many minerals, usually in conjunction with sulfur and metals, and also as a pure elemental crystal. Arsenic is a metalloid.', symbol=u'As', xpos=15, ypos=4),\n",
       " Row(appearance=u'black, red, and gray (not pictured) allotropes', atomic_mass=78.9718, boil=958.0, category=u'polyatomic nonmetal', color=None, density=4.81, discovered_by=u'J\\xf6ns Jakob Berzelius', melt=494.0, molar_heat=25.363, name=u'Selenium', named_by=None, number=u'34', period=4, phase=u'Solid', source=u'https://en.wikipedia.org/wiki/Selenium', spectral_img=None, summary=u'Selenium is a chemical element with symbol Se and atomic number 34. It is a nonmetal with properties that are intermediate between those of its periodic table column-adjacent chalcogen elements sulfur and tellurium. It rarely occurs in its elemental state in nature, or as pure ore compounds.', symbol=u'Se', xpos=16, ypos=4),\n",
       " Row(appearance=None, atomic_mass=79.904, boil=332.0, category=u'diatomic nonmetal', color=None, density=23.1028, discovered_by=u'Antoine J\\xe9r\\xf4me Balard', melt=265.8, molar_heat=None, name=u'Bromine', named_by=None, number=u'35', period=4, phase=u'Liquid', source=u'https://en.wikipedia.org/wiki/Bromine', spectral_img=None, summary=u'Bromine (from Ancient Greek:\\u03b2\\u03c1\\u1ff6\\u03bc\\u03bf\\u03c2, br\\xf3mos, meaning \"stench\") is a chemical element with symbol Br, and atomic number 35. It is a halogen. The element was isolated independently by two chemists, Carl Jacob L\\xf6wig and Antoine Jerome Balard, in 1825\\u20131826.', symbol=u'Br', xpos=17, ypos=4),\n",
       " Row(appearance=u'colorless gas, exhibiting a whitish glow in a high electric field', atomic_mass=83.7982, boil=119.93, category=u'noble gas', color=None, density=3.749, discovered_by=u'William Ramsay', melt=115.78, molar_heat=None, name=u'Krypton', named_by=None, number=u'36', period=4, phase=u'Gas', source=u'https://en.wikipedia.org/wiki/Krypton', spectral_img=u'https://en.wikipedia.org/wiki/File:Krypton_Spectrum.jpg', summary=u'Krypton (from Greek:\\u03ba\\u03c1\\u03c5\\u03c0\\u03c4\\u03cc\\u03c2 kryptos \"the hidden one\") is a chemical element with symbol Kr and atomic number 36. It is a member of group 18 (noble gases) elements. A colorless, odorless, tasteless noble gas, krypton occurs in trace amounts in the atmosphere, is isolated by fractionally distilling liquefied air, and is often used with other rare gases in fluorescent lamps.', symbol=u'Kr', xpos=18, ypos=4),\n",
       " Row(appearance=u'grey white', atomic_mass=85.46783, boil=961.0, category=u'alkali metal', color=None, density=1.532, discovered_by=u'Robert Bunsen', melt=312.45, molar_heat=31.06, name=u'Rubidium', named_by=None, number=u'37', period=5, phase=u'Solid', source=u'https://en.wikipedia.org/wiki/Rubidium', spectral_img=None, summary=u'Rubidium is a chemical element with symbol Rb and atomic number 37. Rubidium is a soft, silvery-white metallic element of the alkali metal group, with an atomic mass of 85.4678. Elemental rubidium is highly reactive, with properties similar to those of other alkali metals, such as very rapid oxidation in air.', symbol=u'Rb', xpos=1, ypos=5),\n",
       " Row(appearance=None, atomic_mass=87.621, boil=1650.0, category=u'alkaline earth metal', color=None, density=2.64, discovered_by=u'William Cruickshank (chemist)', melt=1050.0, molar_heat=26.4, name=u'Strontium', named_by=None, number=u'38', period=5, phase=u'Solid', source=u'https://en.wikipedia.org/wiki/Strontium', spectral_img=None, summary=u'Strontium is a chemical element with symbol Sr and atomic number 38. An alkaline earth metal, strontium is a soft silver-white or yellowish metallic element that is highly reactive chemically. The metal turns yellow when it is exposed to air.', symbol=u'Sr', xpos=2, ypos=5),\n",
       " Row(appearance=u'silvery white', atomic_mass=88.905842, boil=3203.0, category=u'transition metal', color=None, density=4.472, discovered_by=u'Johan Gadolin', melt=1799.0, molar_heat=26.53, name=u'Yttrium', named_by=None, number=u'39', period=5, phase=u'Solid', source=u'https://en.wikipedia.org/wiki/Yttrium', spectral_img=None, summary=u'Yttrium is a chemical element with symbol Y and atomic number 39. It is a silvery-metallic transition metal chemically similar to the lanthanides and it has often been classified as a \"rare earth element\". Yttrium is almost always found combined with the lanthanides in rare earth minerals and is never found in nature as a free element.', symbol=u'Y', xpos=3, ypos=5),\n",
       " Row(appearance=u'silvery white', atomic_mass=91.2242, boil=4650.0, category=u'transition metal', color=None, density=6.52, discovered_by=u'Martin Heinrich Klaproth', melt=2128.0, molar_heat=25.36, name=u'Zirconium', named_by=None, number=u'40', period=5, phase=u'Solid', source=u'https://en.wikipedia.org/wiki/Zirconium', spectral_img=None, summary=u'Zirconium is a chemical element with symbol Zr and atomic number 40. The name of zirconium is taken from the name of the mineral zircon, the most important source of zirconium. The word zircon comes from the Persian word zargun \\u0632\\u0631\\u06af\\u0648\\u0646, meaning \"gold-colored\".', symbol=u'Zr', xpos=4, ypos=5),\n",
       " Row(appearance=u'gray metallic, bluish when oxidized', atomic_mass=92.906372, boil=5017.0, category=u'transition metal', color=None, density=8.57, discovered_by=u'Charles Hatchett', melt=2750.0, molar_heat=24.6, name=u'Niobium', named_by=None, number=u'41', period=5, phase=u'Solid', source=u'https://en.wikipedia.org/wiki/Niobium', spectral_img=None, summary=u'Niobium, formerly columbium, is a chemical element with symbol Nb (formerly Cb) and atomic number 41. It is a soft, grey, ductile transition metal, which is often found in the pyrochlore mineral, the main commercial source for niobium, and columbite. The name comes from Greek mythology:Niobe, daughter of Tantalus since it is so similar to tantalum.', symbol=u'Nb', xpos=5, ypos=5),\n",
       " Row(appearance=u'gray metallic', atomic_mass=95.951, boil=4912.0, category=u'transition metal', color=None, density=10.28, discovered_by=u'Carl Wilhelm Scheele', melt=2896.0, molar_heat=24.06, name=u'Molybdenum', named_by=None, number=u'42', period=5, phase=u'Solid', source=u'https://en.wikipedia.org/wiki/Molybdenum', spectral_img=None, summary=u'Molybdenum is a chemical element with symbol Mo and atomic number 42. The name is from Neo-Latin molybdaenum, from Ancient Greek \\u039c\\u03cc\\u03bb\\u03c5\\u03b2\\u03b4\\u03bf\\u03c2 molybdos, meaning lead, since its ores were confused with lead ores. Molybdenum minerals have been known throughout history, but the element was discovered (in the sense of differentiating it as a new entity from the mineral salts of other metals) in 1778 by Carl Wilhelm Scheele.', symbol=u'Mo', xpos=6, ypos=5),\n",
       " Row(appearance=u'shiny gray metal', atomic_mass=98.0, boil=4538.0, category=u'transition metal', color=None, density=11.0, discovered_by=u'Emilio Segr\\xe8', melt=2430.0, molar_heat=24.27, name=u'Technetium', named_by=None, number=u'43', period=5, phase=u'Solid', source=u'https://en.wikipedia.org/wiki/Technetium', spectral_img=None, summary=u'Technetium (/t\\u025bk\\u02c8ni\\u02d0\\u0283i\\u0259m/) is a chemical element with symbol Tc and atomic number 43. It is the element with the lowest atomic number in the periodic table that has no stable isotopes:every form of it is radioactive. Nearly all technetium is produced synthetically, and only minute amounts are found in nature.', symbol=u'Tc', xpos=7, ypos=5),\n",
       " Row(appearance=u'silvery white metallic', atomic_mass=101.072, boil=4423.0, category=u'transition metal', color=None, density=12.45, discovered_by=u'Karl Ernst Claus', melt=2607.0, molar_heat=24.06, name=u'Ruthenium', named_by=None, number=u'44', period=5, phase=u'Solid', source=u'https://en.wikipedia.org/wiki/Ruthenium', spectral_img=None, summary=u'Ruthenium is a chemical element with symbol Ru and atomic number 44. It is a rare transition metal belonging to the platinum group of the periodic table. Like the other metals of the platinum group, ruthenium is inert to most other chemicals.', symbol=u'Ru', xpos=8, ypos=5),\n",
       " Row(appearance=u'silvery white metallic', atomic_mass=102.905502, boil=3968.0, category=u'transition metal', color=None, density=12.41, discovered_by=u'William Hyde Wollaston', melt=2237.0, molar_heat=24.98, name=u'Rhodium', named_by=None, number=u'45', period=5, phase=u'Solid', source=u'https://en.wikipedia.org/wiki/Rhodium', spectral_img=None, summary=u'Rhodium is a chemical element with symbol Rh and atomic number 45. It is a rare, silvery-white, hard, and chemically inert transition metal. It is a member of the platinum group.', symbol=u'Rh', xpos=9, ypos=5),\n",
       " Row(appearance=u'silvery white', atomic_mass=106.421, boil=3236.0, category=u'transition metal', color=None, density=12.023, discovered_by=u'William Hyde Wollaston', melt=1828.05, molar_heat=25.98, name=u'Palladium', named_by=None, number=u'46', period=5, phase=u'Solid', source=u'https://en.wikipedia.org/wiki/Palladium', spectral_img=None, summary=u'Palladium is a chemical element with symbol Pd and atomic number 46. It is a rare and lustrous silvery-white metal discovered in 1803 by William Hyde Wollaston. He named it after the asteroid Pallas, which was itself named after the epithet of the Greek goddess Athena, acquired by her when she slew Pallas.', symbol=u'Pd', xpos=10, ypos=5),\n",
       " Row(appearance=u'lustrous white metal', atomic_mass=107.86822, boil=2435.0, category=u'transition metal', color=None, density=10.49, discovered_by=u'unknown, before 5000 BC', melt=1234.93, molar_heat=25.35, name=u'Silver', named_by=None, number=u'47', period=5, phase=u'Solid', source=u'https://en.wikipedia.org/wiki/Silver', spectral_img=None, summary=u'Silver is a chemical element with symbol Ag (Greek:\\u03ac\\u03c1\\u03b3\\u03c5\\u03c1\\u03bf\\u03c2 \\xe1rguros, Latin:argentum, both from the Indo-European root *h\\u2082er\\u01f5- for \"grey\" or \"shining\") and atomic number 47. A soft, white, lustrous transition metal, it possesses the highest electrical conductivity, thermal conductivity and reflectivity of any metal. The metal occurs naturally in its pure, free form (native silver), as an alloy with gold and other metals, and in minerals such as argentite and chlorargyrite.', symbol=u'Ag', xpos=11, ypos=5),\n",
       " Row(appearance=u'silvery bluish-gray metallic', atomic_mass=112.4144, boil=1040.0, category=u'transition metal', color=None, density=8.65, discovered_by=u'Karl Samuel Leberecht Hermann', melt=594.22, molar_heat=26.02, name=u'Cadmium', named_by=u'Isotopes of cadmium', number=u'48', period=5, phase=u'Solid', source=u'https://en.wikipedia.org/wiki/Cadmium', spectral_img=None, summary=u'Cadmium is a chemical element with symbol Cd and atomic number 48. This soft, bluish-white metal is chemically similar to the two other stable metals in group 12, zinc and mercury. Like zinc, it prefers oxidation state +2 in most of its compounds and like mercury it shows a low melting point compared to transition metals.', symbol=u'Cd', xpos=12, ypos=5),\n",
       " Row(appearance=u'silvery lustrous gray', atomic_mass=114.8181, boil=2345.0, category=u'post-transition metal', color=None, density=7.31, discovered_by=u'Ferdinand Reich', melt=429.7485, molar_heat=26.74, name=u'Indium', named_by=None, number=u'49', period=5, phase=u'Solid', source=u'https://en.wikipedia.org/wiki/Indium', spectral_img=None, summary=u\"Indium is a chemical element with symbol In and atomic number 49. It is a post-transition metallic element that is rare in Earth's crust. The metal is very soft, malleable and easily fusible, with a melting point higher than sodium, but lower than lithium or tin.\", symbol=u'In', xpos=13, ypos=5),\n",
       " Row(appearance=u'silvery-white (beta, \\u03b2) or gray (alpha, \\u03b1)', atomic_mass=118.7107, boil=2875.0, category=u'post-transition metal', color=None, density=7.365, discovered_by=u'unknown, before 3500 BC', melt=505.08, molar_heat=27.112, name=u'Tin', named_by=None, number=u'50', period=5, phase=u'Solid', source=u'https://en.wikipedia.org/wiki/Tin', spectral_img=None, summary=u'Tin is a chemical element with the symbol Sn (for Latin:stannum) and atomic number 50. It is a main group metal in group 14 of the periodic table. Tin shows a chemical similarity to both neighboring group-14 elements, germanium and lead, and has two possible oxidation states, +2 and the slightly more stable +4.', symbol=u'Sn', xpos=14, ypos=5),\n",
       " Row(appearance=u'silvery lustrous gray', atomic_mass=121.7601, boil=1908.0, category=u'metalloid', color=None, density=6.697, discovered_by=u'unknown, before 3000 BC', melt=903.78, molar_heat=25.23, name=u'Antimony', named_by=None, number=u'51', period=5, phase=u'Solid', source=u'https://en.wikipedia.org/wiki/Antimony', spectral_img=None, summary=u'Antimony is a chemical element with symbol Sb (from Latin:stibium) and atomic number 51. A lustrous gray metalloid, it is found in nature mainly as the sulfide mineral stibnite (Sb2S3). Antimony compounds have been known since ancient times and were used for cosmetics; metallic antimony was also known, but it was erroneously identified as lead upon its discovery.', symbol=u'Sb', xpos=15, ypos=5),\n",
       " Row(appearance=None, atomic_mass=127.603, boil=1261.0, category=u'metalloid', color=None, density=6.24, discovered_by=u'Franz-Joseph M\\xfcller von Reichenstein', melt=722.66, molar_heat=25.73, name=u'Tellurium', named_by=None, number=u'52', period=5, phase=u'Solid', source=u'https://en.wikipedia.org/wiki/Tellurium', spectral_img=None, summary=u'Tellurium is a chemical element with symbol Te and atomic number 52. It is a brittle, mildly toxic, rare, silver-white metalloid. Tellurium is chemically related to selenium and sulfur.', symbol=u'Te', xpos=16, ypos=5),\n",
       " Row(appearance=u'lustrous metallic gray, violet as a gas', atomic_mass=126.904473, boil=457.4, category=u'diatomic nonmetal', color=None, density=4.933, discovered_by=u'Bernard Courtois', melt=386.85, molar_heat=None, name=u'Iodine', named_by=None, number=u'53', period=5, phase=u'Solid', source=u'https://en.wikipedia.org/wiki/Iodine', spectral_img=None, summary=u'Iodine is a chemical element with symbol I and atomic number 53. The name is from Greek \\u1f30\\u03bf\\u03b5\\u03b9\\u03b4\\u03ae\\u03c2 ioeid\\u0113s, meaning violet or purple, due to the color of iodine vapor. Iodine and its compounds are primarily used in nutrition, and industrially in the production of acetic acid and certain polymers.', symbol=u'I', xpos=17, ypos=5),\n",
       " Row(appearance=u'colorless gas, exhibiting a blue glow when placed in a high voltage electric field', atomic_mass=131.2936, boil=165.051, category=u'noble gas', color=None, density=5.894, discovered_by=u'William Ramsay', melt=161.4, molar_heat=None, name=u'Xenon', named_by=None, number=u'54', period=5, phase=u'Gas', source=u'https://en.wikipedia.org/wiki/Xenon', spectral_img=u'https://en.wikipedia.org/wiki/File:Xenon_Spectrum.jpg', summary=u\"Xenon is a chemical element with symbol Xe and atomic number 54. It is a colorless, dense, odorless noble gas, that occurs in the Earth's atmosphere in trace amounts. Although generally unreactive, xenon can undergo a few chemical reactions such as the formation of xenon hexafluoroplatinate, the first noble gas compound to be synthesized.\", symbol=u'Xe', xpos=18, ypos=5),\n",
       " Row(appearance=u'silvery gold', atomic_mass=132.905451966, boil=944.0, category=u'alkali metal', color=None, density=1.93, discovered_by=u'Robert Bunsen', melt=301.7, molar_heat=32.21, name=u'Cesium', named_by=None, number=u'55', period=6, phase=u'Solid', source=u'https://en.wikipedia.org/wiki/Cesium', spectral_img=None, summary=u'Caesium or cesium is a chemical element with symbol Cs and atomic number 55. It is a soft, silvery-gold alkali metal with a melting point of 28 \\xb0C (82 \\xb0F), which makes it one of only five elemental metals that are liquid at or near room temperature. Caesium is an alkali metal and has physical and chemical properties similar to those of rubidium and potassium.', symbol=u'Cs', xpos=1, ypos=6),\n",
       " Row(appearance=None, atomic_mass=137.3277, boil=2118.0, category=u'alkaline earth metal', color=None, density=3.51, discovered_by=u'Carl Wilhelm Scheele', melt=1000.0, molar_heat=28.07, name=u'Barium', named_by=None, number=u'56', period=6, phase=u'Solid', source=u'https://en.wikipedia.org/wiki/Barium', spectral_img=None, summary=u'Barium is a chemical element with symbol Ba and atomic number 56. It is the fifth element in Group 2, a soft silvery metallic alkaline earth metal. Because of its high chemical reactivity barium is never found in nature as a free element.', symbol=u'Ba', xpos=2, ypos=6),\n",
       " Row(appearance=u'silvery white', atomic_mass=138.905477, boil=3737.0, category=u'lanthanide', color=None, density=6.162, discovered_by=u'Carl Gustaf Mosander', melt=1193.0, molar_heat=27.11, name=u'Lanthanum', named_by=None, number=u'57', period=6, phase=u'Solid', source=u'https://en.wikipedia.org/wiki/Lanthanum', spectral_img=None, summary=u'Lanthanum is a soft, ductile, silvery-white metallic chemical element with symbol La and atomic number 57. It tarnishes rapidly when exposed to air and is soft enough to be cut with a knife. It gave its name to the lanthanide series, a group of 15 similar elements between lanthanum and lutetium in the periodic table:it is also sometimes considered the first element of the 6th-period transition metals.', symbol=u'La', xpos=3, ypos=9),\n",
       " Row(appearance=u'silvery white', atomic_mass=140.1161, boil=3716.0, category=u'lanthanide', color=None, density=6.77, discovered_by=u'Martin Heinrich Klaproth', melt=1068.0, molar_heat=26.94, name=u'Cerium', named_by=None, number=u'58', period=6, phase=u'Solid', source=u'https://en.wikipedia.org/wiki/Cerium', spectral_img=None, summary=u'Cerium is a chemical element with symbol Ce and atomic number 58. It is a soft, silvery, ductile metal which easily oxidizes in air. Cerium was named after the dwarf planet Ceres (itself named after the Roman goddess of agriculture).', symbol=u'Ce', xpos=4, ypos=9),\n",
       " Row(appearance=u'grayish white', atomic_mass=140.907662, boil=3403.0, category=u'lanthanide', color=None, density=6.77, discovered_by=u'Carl Auer von Welsbach', melt=1208.0, molar_heat=27.2, name=u'Praseodymium', named_by=None, number=u'59', period=6, phase=u'Solid', source=u'https://en.wikipedia.org/wiki/Praseodymium', spectral_img=None, summary=u'Praseodymium is a chemical element with symbol Pr and atomic number 59. Praseodymium is a soft, silvery, malleable and ductile metal in the lanthanide group. It is valued for its magnetic, electrical, chemical, and optical properties.', symbol=u'Pr', xpos=5, ypos=9),\n",
       " Row(appearance=u'silvery white', atomic_mass=144.2423, boil=3347.0, category=u'lanthanide', color=None, density=7.01, discovered_by=u'Carl Auer von Welsbach', melt=1297.0, molar_heat=27.45, name=u'Neodymium', named_by=None, number=u'60', period=6, phase=u'Solid', source=u'https://en.wikipedia.org/wiki/Neodymium', spectral_img=None, summary=u'Neodymium is a chemical element with symbol Nd and atomic number 60. It is a soft silvery metal that tarnishes in air. Neodymium was discovered in 1885 by the Austrian chemist Carl Auer von Welsbach.', symbol=u'Nd', xpos=6, ypos=9),\n",
       " Row(appearance=u'metallic', atomic_mass=145.0, boil=3273.0, category=u'lanthanide', color=None, density=7.26, discovered_by=u'Chien Shiung Wu', melt=1315.0, molar_heat=None, name=u'Promethium', named_by=u'Isotopes of promethium', number=u'61', period=6, phase=u'Solid', source=u'https://en.wikipedia.org/wiki/Promethium', spectral_img=None, summary=u'Promethium, originally prometheum, is a chemical element with the symbol Pm and atomic number 61. All of its isotopes are radioactive; it is one of only two such elements that are followed in the periodic table by elements with stable forms, a distinction shared with technetium. Chemically, promethium is a lanthanide, which forms salts when combined with other elements.', symbol=u'Pm', xpos=7, ypos=9),\n",
       " Row(appearance=u'silvery white', atomic_mass=150.362, boil=2173.0, category=u'lanthanide', color=None, density=7.52, discovered_by=u'Lecoq de Boisbaudran', melt=1345.0, molar_heat=29.54, name=u'Samarium', named_by=None, number=u'62', period=6, phase=u'Solid', source=u'https://en.wikipedia.org/wiki/Samarium', spectral_img=None, summary=u'Samarium is a chemical element with symbol Sm and atomic number 62. It is a moderately hard silvery metal that readily oxidizes in air. Being a typical member of the lanthanide series, samarium usually assumes the oxidation state +3.', symbol=u'Sm', xpos=8, ypos=9),\n",
       " Row(appearance=None, atomic_mass=151.9641, boil=1802.0, category=u'lanthanide', color=None, density=5.264, discovered_by=u'Eug\\xe8ne-Anatole Demar\\xe7ay', melt=1099.0, molar_heat=27.66, name=u'Europium', named_by=None, number=u'63', period=6, phase=u'Solid', source=u'https://en.wikipedia.org/wiki/Europium', spectral_img=None, summary=u'Europium is a chemical element with symbol Eu and atomic number 63. It was isolated in 1901 and is named after the continent of Europe. It is a moderately hard, silvery metal which readily oxidizes in air and water.', symbol=u'Eu', xpos=9, ypos=9),\n",
       " Row(appearance=u'silvery white', atomic_mass=157.253, boil=3273.0, category=u'lanthanide', color=None, density=7.9, discovered_by=u'Jean Charles Galissard de Marignac', melt=1585.0, molar_heat=37.03, name=u'Gadolinium', named_by=None, number=u'64', period=6, phase=u'Solid', source=u'https://en.wikipedia.org/wiki/Gadolinium', spectral_img=None, summary=u'Gadolinium is a chemical element with symbol Gd and atomic number 64. It is a silvery-white, malleable and ductile rare-earth metal. It is found in nature only in combined (salt) form.', symbol=u'Gd', xpos=10, ypos=9),\n",
       " Row(appearance=u'silvery white', atomic_mass=158.925352, boil=3396.0, category=u'lanthanide', color=None, density=8.23, discovered_by=u'Carl Gustaf Mosander', melt=1629.0, molar_heat=28.91, name=u'Terbium', named_by=None, number=u'65', period=6, phase=u'Solid', source=u'https://en.wikipedia.org/wiki/Terbium', spectral_img=None, summary=u'Terbium is a chemical element with symbol Tb and atomic number 65. It is a silvery-white rare earth metal that is malleable, ductile and soft enough to be cut with a knife. Terbium is never found in nature as a free element, but it is contained in many minerals, including cerite, gadolinite, monazite, xenotime and euxenite.', symbol=u'Tb', xpos=11, ypos=9),\n",
       " Row(appearance=u'silvery white', atomic_mass=162.5001, boil=2840.0, category=u'lanthanide', color=None, density=8.54, discovered_by=u'Lecoq de Boisbaudran', melt=1680.0, molar_heat=27.7, name=u'Dysprosium', named_by=None, number=u'66', period=6, phase=u'Solid', source=u'https://en.wikipedia.org/wiki/Dysprosium', spectral_img=None, summary=u'Dysprosium is a chemical element with the symbol Dy and atomic number 66. It is a rare earth element with a metallic silver luster. Dysprosium is never found in nature as a free element, though it is found in various minerals, such as xenotime.', symbol=u'Dy', xpos=12, ypos=9),\n",
       " Row(appearance=u'silvery white', atomic_mass=164.930332, boil=2873.0, category=u'lanthanide', color=None, density=8.79, discovered_by=u'Marc Delafontaine', melt=1734.0, molar_heat=27.15, name=u'Holmium', named_by=None, number=u'67', period=6, phase=u'Solid', source=u'https://en.wikipedia.org/wiki/Holmium', spectral_img=None, summary=u'Holmium is a chemical element with symbol Ho and atomic number 67. Part of the lanthanide series, holmium is a rare earth element. Holmium was discovered by Swedish chemist Per Theodor Cleve.', symbol=u'Ho', xpos=13, ypos=9),\n",
       " Row(appearance=u'silvery white', atomic_mass=167.2593, boil=3141.0, category=u'lanthanide', color=None, density=9.066, discovered_by=u'Carl Gustaf Mosander', melt=1802.0, molar_heat=28.12, name=u'Erbium', named_by=None, number=u'68', period=6, phase=u'Solid', source=u'https://en.wikipedia.org/wiki/Erbium', spectral_img=None, summary=u'Erbium is a chemical element in the lanthanide series, with symbol Er and atomic number 68. A silvery-white solid metal when artificially isolated, natural erbium is always found in chemical combination with other elements on Earth. As such, it is a rare earth element which is associated with several other rare elements in the mineral gadolinite from Ytterby in Sweden, where yttrium, ytterbium, and terbium were discovered.', symbol=u'Er', xpos=14, ypos=9),\n",
       " Row(appearance=u'silvery gray', atomic_mass=168.934222, boil=2223.0, category=u'lanthanide', color=None, density=9.32, discovered_by=u'Per Teodor Cleve', melt=1818.0, molar_heat=27.03, name=u'Thulium', named_by=None, number=u'69', period=6, phase=u'Solid', source=u'https://en.wikipedia.org/wiki/Thulium', spectral_img=None, summary=u'Thulium is a chemical element with symbol Tm and atomic number 69. It is the thirteenth and antepenultimate (third-last) element in the lanthanide series. Like the other lanthanides, the most common oxidation state is +3, seen in its oxide, halides and other compounds.', symbol=u'Tm', xpos=15, ypos=9),\n",
       " Row(appearance=None, atomic_mass=173.0451, boil=1469.0, category=u'lanthanide', color=None, density=6.9, discovered_by=u'Jean Charles Galissard de Marignac', melt=1097.0, molar_heat=26.74, name=u'Ytterbium', named_by=None, number=u'70', period=6, phase=u'Solid', source=u'https://en.wikipedia.org/wiki/Ytterbium', spectral_img=None, summary=u'Ytterbium is a chemical element with symbol Yb and atomic number 70. It is the fourteenth and penultimate element in the lanthanide series, which is the basis of the relative stability of its +2 oxidation state. However, like the other lanthanides, its most common oxidation state is +3, seen in its oxide, halides and other compounds.', symbol=u'Yb', xpos=16, ypos=9),\n",
       " Row(appearance=u'silvery white', atomic_mass=174.96681, boil=3675.0, category=u'lanthanide', color=None, density=9.841, discovered_by=u'Georges Urbain', melt=1925.0, molar_heat=26.86, name=u'Lutetium', named_by=None, number=u'71', period=6, phase=u'Solid', source=u'https://en.wikipedia.org/wiki/Lutetium', spectral_img=None, summary=u'Lutetium is a chemical element with symbol Lu and atomic number 71. It is a silvery white metal, which resists corrosion in dry, but not in moist air. It is considered the first element of the 6th-period transition metals and the last element in the lanthanide series, and is traditionally counted among the rare earths.', symbol=u'Lu', xpos=17, ypos=9),\n",
       " Row(appearance=u'steel gray', atomic_mass=178.492, boil=4876.0, category=u'transition metal', color=None, density=13.31, discovered_by=u'Dirk Coster', melt=2506.0, molar_heat=25.73, name=u'Hafnium', named_by=None, number=u'72', period=6, phase=u'Solid', source=u'https://en.wikipedia.org/wiki/Hafnium', spectral_img=u'https://en.wikipedia.org/wiki/File:Hafnium_spectrum_visible.png', summary=u'Hafnium is a chemical element with symbol Hf and atomic number 72. A lustrous, silvery gray, tetravalent transition metal, hafnium chemically resembles zirconium and is found in zirconium minerals. Its existence was predicted by Dmitri Mendeleev in 1869, though it was not identified until 1923, making it the penultimate stable element to be discovered (rhenium was identified two years later).', symbol=u'Hf', xpos=4, ypos=6),\n",
       " Row(appearance=u'gray blue', atomic_mass=180.947882, boil=5731.0, category=u'transition metal', color=None, density=16.69, discovered_by=u'Anders Gustaf Ekeberg', melt=3290.0, molar_heat=25.36, name=u'Tantalum', named_by=None, number=u'73', period=6, phase=u'Solid', source=u'https://en.wikipedia.org/wiki/Tantalum', spectral_img=u'https://en.wikipedia.org/wiki/File:Tantalum_spectrum_visible.png', summary=u'Tantalum is a chemical element with symbol Ta and atomic number 73. Previously known as tantalium, its name comes from Tantalus, an antihero from Greek mythology. Tantalum is a rare, hard, blue-gray, lustrous transition metal that is highly corrosion-resistant.', symbol=u'Ta', xpos=5, ypos=6),\n",
       " Row(appearance=u'grayish white, lustrous', atomic_mass=183.841, boil=6203.0, category=u'transition metal', color=None, density=19.25, discovered_by=u'Carl Wilhelm Scheele', melt=3695.0, molar_heat=24.27, name=u'Tungsten', named_by=None, number=u'74', period=6, phase=u'Solid', source=u'https://en.wikipedia.org/wiki/Tungsten', spectral_img=None, summary=u'Tungsten, also known as wolfram, is a chemical element with symbol W and atomic number 74. The word tungsten comes from the Swedish language tung sten, which directly translates to heavy stone. Its name in Swedish is volfram, however, in order to distinguish it from scheelite, which in Swedish is alternatively named tungsten.', symbol=u'W', xpos=6, ypos=6),\n",
       " Row(appearance=u'silvery-grayish', atomic_mass=186.2071, boil=5869.0, category=u'transition metal', color=None, density=21.02, discovered_by=u'Masataka Ogawa', melt=3459.0, molar_heat=25.48, name=u'Rhenium', named_by=u'Walter Noddack', number=u'75', period=6, phase=u'Solid', source=u'https://en.wikipedia.org/wiki/Rhenium', spectral_img=None, summary=u\"Rhenium is a chemical element with symbol Re and atomic number 75. It is a silvery-white, heavy, third-row transition metal in group 7 of the periodic table. With an estimated average concentration of 1 part per billion (ppb), rhenium is one of the rarest elements in the Earth's crust.\", symbol=u'Re', xpos=7, ypos=6),\n",
       " Row(appearance=u'silvery, blue cast', atomic_mass=190.233, boil=5285.0, category=u'transition metal', color=None, density=22.59, discovered_by=u'Smithson Tennant', melt=3306.0, molar_heat=24.7, name=u'Osmium', named_by=None, number=u'76', period=6, phase=u'Solid', source=u'https://en.wikipedia.org/wiki/Osmium', spectral_img=None, summary=u'Osmium (from Greek osme (\\u1f40\\u03c3\\u03bc\\u03ae) meaning \"smell\") is a chemical element with symbol Os and atomic number 76. It is a hard, brittle, bluish-white transition metal in the platinum group that is found as a trace element in alloys, mostly in platinum ores. Osmium is the densest naturally occurring element, with a density of 7004225900000000000\\u266022.59 g/cm3.', symbol=u'Os', xpos=8, ypos=6),\n",
       " Row(appearance=u'silvery white', atomic_mass=192.2173, boil=4403.0, category=u'transition metal', color=None, density=22.56, discovered_by=u'Smithson Tennant', melt=2719.0, molar_heat=25.1, name=u'Iridium', named_by=None, number=u'77', period=6, phase=u'Solid', source=u'https://en.wikipedia.org/wiki/Iridium', spectral_img=None, summary=u'Iridium is a chemical element with symbol Ir and atomic number 77. A very hard, brittle, silvery-white transition metal of the platinum group, iridium is generally credited with being the second densest element (after osmium) based on measured density, although calculations involving the space lattices of the elements show that iridium is denser. It is also the most corrosion-resistant metal, even at temperatures as high as 2000 \\xb0C. Although only certain molten salts and halogens are corrosive to solid iridium, finely divided iridium dust is much more reactive and can be flammable.', symbol=u'Ir', xpos=9, ypos=6),\n",
       " Row(appearance=u'silvery white', atomic_mass=195.0849, boil=4098.0, category=u'transition metal', color=None, density=21.45, discovered_by=u'Antonio de Ulloa', melt=2041.4, molar_heat=25.86, name=u'Platinum', named_by=None, number=u'78', period=6, phase=u'Solid', source=u'https://en.wikipedia.org/wiki/Platinum', spectral_img=None, summary=u'Platinum is a chemical element with symbol Pt and atomic number 78. It is a dense, malleable, ductile, highly unreactive, precious, gray-white transition metal. Its name is derived from the Spanish term platina, which is literally translated into \"little silver\".', symbol=u'Pt', xpos=10, ypos=6),\n",
       " Row(appearance=u'metallic yellow', atomic_mass=196.9665695, boil=3243.0, category=u'transition metal', color=None, density=19.3, discovered_by=u'Middle East', melt=1337.33, molar_heat=25.418, name=u'Gold', named_by=None, number=u'79', period=6, phase=u'Solid', source=u'https://en.wikipedia.org/wiki/Gold', spectral_img=None, summary=u'Gold is a chemical element with symbol Au (from Latin:aurum) and atomic number 79. In its purest form, it is a bright, slightly reddish yellow, dense, soft, malleable and ductile metal. Chemically, gold is a transition metal and a group 11 element.', symbol=u'Au', xpos=11, ypos=6),\n",
       " Row(appearance=u'silvery', atomic_mass=200.5923, boil=629.88, category=u'transition metal', color=None, density=13.534, discovered_by=u'unknown, before 2000 BCE', melt=234.321, molar_heat=27.983, name=u'Mercury (element)', named_by=None, number=u'80', period=6, phase=u'Liquid', source=u'https://en.wikipedia.org/wiki/Mercury (Element)', spectral_img=None, summary=u'Mercury is a chemical element with symbol Hg and atomic number 80. It is commonly known as quicksilver and was formerly named hydrargyrum (/ha\\u026a\\u02c8dr\\u0251\\u02d0rd\\u0292\\u0259r\\u0259m/). A heavy, silvery d-block element, mercury is the only metallic element that is liquid at standard conditions for temperature and pressure; the only other element that is liquid under these conditions is bromine, though metals such as caesium, gallium, and rubidium melt just above room temperature.', symbol=u'Hg', xpos=12, ypos=6),\n",
       " Row(appearance=u'silvery white', atomic_mass=204.38, boil=1746.0, category=u'post-transition metal', color=None, density=11.85, discovered_by=u'William Crookes', melt=577.0, molar_heat=26.32, name=u'Thallium', named_by=None, number=u'81', period=6, phase=u'Solid', source=u'https://en.wikipedia.org/wiki/Thallium', spectral_img=None, summary=u'Thallium is a chemical element with symbol Tl and atomic number 81. This soft gray post-transition metal is not found free in nature. When isolated, it resembles tin, but discolors when exposed to air.', symbol=u'Tl', xpos=13, ypos=6),\n",
       " Row(appearance=u'metallic gray', atomic_mass=207.21, boil=2022.0, category=u'post-transition metal', color=None, density=11.34, discovered_by=u'Middle East', melt=600.61, molar_heat=26.65, name=u'Lead', named_by=None, number=u'82', period=6, phase=u'Solid', source=u'https://en.wikipedia.org/wiki/Lead_(element)', spectral_img=None, summary=u'Lead (/l\\u025bd/) is a chemical element in the carbon group with symbol Pb (from Latin:plumbum) and atomic number 82. Lead is a soft, malleable and heavy post-transition metal. Metallic lead has a bluish-white color after being freshly cut, but it soon tarnishes to a dull grayish color when exposed to air.', symbol=u'Pb', xpos=14, ypos=6),\n",
       " Row(appearance=u'lustrous silver', atomic_mass=208.980401, boil=1837.0, category=u'post-transition metal', color=None, density=9.78, discovered_by=u'Claude Fran\\xe7ois Geoffroy', melt=544.7, molar_heat=25.52, name=u'Bismuth', named_by=None, number=u'83', period=6, phase=u'Solid', source=u'https://en.wikipedia.org/wiki/Bismuth', spectral_img=None, summary=u'Bismuth is a chemical element with symbol Bi and atomic number 83. Bismuth, a pentavalent post-transition metal, chemically resembles arsenic and antimony. Elemental bismuth may occur naturally, although its sulfide and oxide form important commercial ores.', symbol=u'Bi', xpos=15, ypos=6),\n",
       " Row(appearance=u'silvery', atomic_mass=209.0, boil=1235.0, category=u'post-transition metal', color=None, density=9.196, discovered_by=u'Pierre Curie', melt=527.0, molar_heat=26.4, name=u'Polonium', named_by=None, number=u'84', period=6, phase=u'Solid', source=u'https://en.wikipedia.org/wiki/Polonium', spectral_img=None, summary=u'Polonium is a chemical element with symbol Po and atomic number 84, discovered in 1898 by Marie Curie and Pierre Curie. A rare and highly radioactive element with no stable isotopes, polonium is chemically similar to bismuth and tellurium, and it occurs in uranium ores. Applications of polonium are few.', symbol=u'Po', xpos=16, ypos=6),\n",
       " Row(appearance=u'unknown, probably metallic', atomic_mass=210.0, boil=610.0, category=u'metalloid', color=None, density=26.35, discovered_by=u'Dale R. Corson', melt=575.0, molar_heat=None, name=u'Astatine', named_by=None, number=u'85', period=6, phase=u'Solid', source=u'https://en.wikipedia.org/wiki/Astatine', spectral_img=None, summary=u'Astatine is a very rare radioactive chemical element with the chemical symbol At and atomic number 85. It occurs on Earth as the decay product of various heavier elements. All its isotopes are short-lived; the most stable is astatine-210, with a half-life of 8.1 hours.', symbol=u'At', xpos=17, ypos=6),\n",
       " Row(appearance=u'colorless gas, occasionally glows green or red in discharge tubes', atomic_mass=222.0, boil=211.5, category=u'noble gas', color=None, density=9.73, discovered_by=u'Friedrich Ernst Dorn', melt=202.0, molar_heat=None, name=u'Radon', named_by=None, number=u'86', period=6, phase=u'Gas', source=u'https://en.wikipedia.org/wiki/Radon', spectral_img=u'https://en.wikipedia.org/wiki/File:Radon_spectrum.png', summary=u'Radon is a chemical element with symbol Rn and atomic number 86. It is a radioactive, colorless, odorless, tasteless noble gas, occurring naturally as a decay product of radium. Its most stable isotope, 222Rn, has a half-life of 3.8 days.', symbol=u'Rn', xpos=18, ypos=6),\n",
       " Row(appearance=None, atomic_mass=223.0, boil=950.0, category=u'alkali metal', color=None, density=1.87, discovered_by=u'Marguerite Perey', melt=300.0, molar_heat=None, name=u'Francium', named_by=None, number=u'87', period=7, phase=u'Solid', source=u'https://en.wikipedia.org/wiki/Francium', spectral_img=None, summary=u'Francium is a chemical element with symbol Fr and atomic number 87. It used to be known as eka-caesium and actinium K. It is the second-least electronegative element, behind only caesium. Francium is a highly radioactive metal that decays into astatine, radium, and radon.', symbol=u'Fr', xpos=1, ypos=7),\n",
       " Row(appearance=u'silvery white metallic', atomic_mass=226.0, boil=2010.0, category=u'alkaline earth metal', color=None, density=5.5, discovered_by=u'Pierre Curie', melt=1233.0, molar_heat=None, name=u'Radium', named_by=None, number=u'88', period=7, phase=u'Solid', source=u'https://en.wikipedia.org/wiki/Radium', spectral_img=None, summary=u'Radium is a chemical element with symbol Ra and atomic number 88. It is the sixth element in group 2 of the periodic table, also known as the alkaline earth metals. Pure radium is almost colorless, but it readily combines with nitrogen (rather than oxygen) on exposure to air, forming a black surface layer of radium nitride (Ra3N2).', symbol=u'Ra', xpos=2, ypos=7),\n",
       " Row(appearance=None, atomic_mass=227.0, boil=3500300.0, category=u'actinide', color=None, density=10.0, discovered_by=u'Friedrich Oskar Giesel', melt=1500.0, molar_heat=27.2, name=u'Actinium', named_by=None, number=u'89', period=7, phase=u'Solid', source=u'https://en.wikipedia.org/wiki/Actinium', spectral_img=None, summary=u'Actinium is a radioactive chemical element with symbol Ac (not to be confused with the abbreviation for an acetyl group) and atomic number 89, which was discovered in 1899. It was the first non-primordial radioactive element to be isolated. Polonium, radium and radon were observed before actinium, but they were not isolated until 1902.', symbol=u'Ac', xpos=3, ypos=10),\n",
       " Row(appearance=u'silvery, often with black tarnish', atomic_mass=232.03774, boil=5061.0, category=u'actinide', color=None, density=11.724, discovered_by=u'J\\xf6ns Jakob Berzelius', melt=2023.0, molar_heat=26.23, name=u'Thorium', named_by=None, number=u'90', period=7, phase=u'Solid', source=u'https://en.wikipedia.org/wiki/Thorium', spectral_img=None, summary=u'Thorium is a chemical element with symbol Th and atomic number 90. A radioactive actinide metal, thorium is one of only two significantly radioactive elements that still occur naturally in large quantities as a primordial element (the other being uranium). It was discovered in 1828 by the Norwegian Reverend and amateur mineralogist Morten Thrane Esmark and identified by the Swedish chemist J\\xf6ns Jakob Berzelius, who named it after Thor, the Norse god of thunder.', symbol=u'Th', xpos=4, ypos=10),\n",
       " Row(appearance=u'bright, silvery metallic luster', atomic_mass=231.035882, boil=4300.0, category=u'actinide', color=None, density=15.37, discovered_by=u'William Crookes', melt=1841.0, molar_heat=None, name=u'Protactinium', named_by=u'Otto Hahn', number=u'91', period=7, phase=u'Solid', source=u'https://en.wikipedia.org/wiki/Protactinium', spectral_img=None, summary=u'Protactinium is a chemical element with symbol Pa and atomic number 91. It is a dense, silvery-gray metal which readily reacts with oxygen, water vapor and inorganic acids. It forms various chemical compounds where protactinium is usually present in the oxidation state +5, but can also assume +4 and even +2 or +3 states.', symbol=u'Pa', xpos=5, ypos=10),\n",
       " Row(appearance=None, atomic_mass=238.028913, boil=4404.0, category=u'actinide', color=None, density=19.1, discovered_by=u'Martin Heinrich Klaproth', melt=1405.3, molar_heat=27.665, name=u'Uranium', named_by=None, number=u'92', period=7, phase=u'Solid', source=u'https://en.wikipedia.org/wiki/Uranium', spectral_img=None, summary=u'Uranium is a chemical element with symbol U and atomic number 92. It is a silvery-white metal in the actinide series of the periodic table. A uranium atom has 92 protons and 92 electrons, of which 6 are valence electrons.', symbol=u'U', xpos=6, ypos=10),\n",
       " Row(appearance=u'silvery metallic', atomic_mass=237.0, boil=4447.0, category=u'actinide', color=None, density=20.45, discovered_by=u'Edwin McMillan', melt=9123.0, molar_heat=29.46, name=u'Neptunium', named_by=None, number=u'93', period=7, phase=u'Solid', source=u'https://en.wikipedia.org/wiki/Neptunium', spectral_img=None, summary=u'Neptunium is a chemical element with symbol Np and atomic number 93. A radioactive actinide metal, neptunium is the first transuranic element. Its position in the periodic table just after uranium, named after the planet Uranus, led to it being named after Neptune, the next planet beyond Uranus.', symbol=u'Np', xpos=7, ypos=10),\n",
       " Row(appearance=u'silvery white, tarnishing to dark gray in air', atomic_mass=244.0, boil=3505.0, category=u'actinide', color=None, density=19.816, discovered_by=u'Glenn T. Seaborg', melt=912.5, molar_heat=35.5, name=u'Plutonium', named_by=None, number=u'94', period=7, phase=u'Solid', source=u'https://en.wikipedia.org/wiki/Plutonium', spectral_img=None, summary=u'Plutonium is a transuranic radioactive chemical element with symbol Pu and atomic number 94. It is an actinide metal of silvery-gray appearance that tarnishes when exposed to air, and forms a dull coating when oxidized. The element normally exhibits six allotropes and four oxidation states.', symbol=u'Pu', xpos=8, ypos=10),\n",
       " Row(appearance=u'silvery white', atomic_mass=243.0, boil=2880.0, category=u'actinide', color=None, density=12.0, discovered_by=u'Glenn T. Seaborg', melt=1449.0, molar_heat=62.7, name=u'Americium', named_by=None, number=u'95', period=7, phase=u'Solid', source=u'https://en.wikipedia.org/wiki/Americium', spectral_img=u'https://en.wikipedia.org/wiki/File:Americium_spectrum_visible.png', summary=u'Americium is a radioactive transuranic chemical element with symbol Am and atomic number 95. This member of the actinide series is located in the periodic table under the lanthanide element europium, and thus by analogy was named after the Americas. Americium was first produced in 1944 by the group of Glenn T.Seaborg from Berkeley, California, at the metallurgical laboratory of University of Chicago.', symbol=u'Am', xpos=9, ypos=10),\n",
       " Row(appearance=u'silvery metallic, glows purple in the dark', atomic_mass=247.0, boil=3383.0, category=u'actinide', color=None, density=13.51, discovered_by=u'Glenn T. Seaborg', melt=1613.0, molar_heat=None, name=u'Curium', named_by=None, number=u'96', period=7, phase=u'Solid', source=u'https://en.wikipedia.org/wiki/Curium', spectral_img=None, summary=u'Curium is a transuranic radioactive chemical element with symbol Cm and atomic number 96. This element of the actinide series was named after Marie and Pierre Curie \\u2013 both were known for their research on radioactivity. Curium was first intentionally produced and identified in July 1944 by the group of Glenn T. Seaborg at the University of California, Berkeley.', symbol=u'Cm', xpos=10, ypos=10),\n",
       " Row(appearance=u'silvery', atomic_mass=247.0, boil=2900.0, category=u'actinide', color=None, density=14.78, discovered_by=u'Lawrence Berkeley National Laboratory', melt=1259.0, molar_heat=None, name=u'Berkelium', named_by=None, number=u'97', period=7, phase=u'Solid', source=u'https://en.wikipedia.org/wiki/Berkelium', spectral_img=None, summary=u'Berkelium is a transuranic radioactive chemical element with symbol Bk and atomic number 97. It is a member of the actinide and transuranium element series. It is named after the city of Berkeley, California, the location of the University of California Radiation Laboratory where it was discovered in December 1949.', symbol=u'Bk', xpos=11, ypos=10),\n",
       " Row(appearance=u'silvery', atomic_mass=251.0, boil=1743.0, category=u'actinide', color=None, density=15.1, discovered_by=u'Lawrence Berkeley National Laboratory', melt=1173.0, molar_heat=None, name=u'Californium', named_by=None, number=u'98', period=7, phase=u'Solid', source=u'https://en.wikipedia.org/wiki/Californium', spectral_img=None, summary=u'Californium is a radioactive metallic chemical element with symbol Cf and atomic number 98. The element was first made in 1950 at the University of California Radiation Laboratory in Berkeley, by bombarding curium with alpha particles (helium-4 ions). It is an actinide element, the sixth transuranium element to be synthesized, and has the second-highest atomic mass of all the elements that have been produced in amounts large enough to see with the unaided eye (after einsteinium).', symbol=u'Cf', xpos=12, ypos=10),\n",
       " Row(appearance=u'silver-colored', atomic_mass=252.0, boil=1269.0, category=u'actinide', color=None, density=8.84, discovered_by=u'Lawrence Berkeley National Laboratory', melt=1133.0, molar_heat=None, name=u'Einsteinium', named_by=None, number=u'99', period=7, phase=u'Solid', source=u'https://en.wikipedia.org/wiki/Einsteinium', spectral_img=None, summary=u'Einsteinium is a synthetic element with symbol Es and atomic number 99. It is the seventh transuranic element, and an actinide. Einsteinium was discovered as a component of the debris of the first hydrogen bomb explosion in 1952, and named after Albert Einstein.', symbol=u'Es', xpos=13, ypos=10),\n",
       " Row(appearance=None, atomic_mass=257.0, boil=None, category=u'actinide', color=None, density=None, discovered_by=u'Lawrence Berkeley National Laboratory', melt=1800.0, molar_heat=None, name=u'Fermium', named_by=None, number=u'100', period=7, phase=u'Solid', source=u'https://en.wikipedia.org/wiki/Fermium', spectral_img=None, summary=u'Fermium is a synthetic element with symbol Fm and atomic number 100. It is a member of the actinide series. It is the heaviest element that can be formed by neutron bombardment of lighter elements, and hence the last element that can be prepared in macroscopic quantities, although pure fermium metal has not yet been prepared.', symbol=u'Fm', xpos=14, ypos=10),\n",
       " Row(appearance=None, atomic_mass=258.0, boil=None, category=u'actinide', color=None, density=None, discovered_by=u'Lawrence Berkeley National Laboratory', melt=1100.0, molar_heat=None, name=u'Mendelevium', named_by=None, number=u'101', period=7, phase=u'Solid', source=u'https://en.wikipedia.org/wiki/Mendelevium', spectral_img=None, summary=u'Mendelevium is a synthetic element with chemical symbol Md (formerly Mv) and atomic number 101. A metallic radioactive transuranic element in the actinide series, it is the first element that currently cannot be produced in macroscopic quantities through neutron bombardment of lighter elements. It is the antepenultimate actinide and the ninth transuranic element.', symbol=u'Md', xpos=15, ypos=10),\n",
       " Row(appearance=None, atomic_mass=259.0, boil=None, category=u'actinide', color=None, density=None, discovered_by=u'Joint Institute for Nuclear Research', melt=1100.0, molar_heat=None, name=u'Nobelium', named_by=None, number=u'102', period=7, phase=u'Solid', source=u'https://en.wikipedia.org/wiki/Nobelium', spectral_img=None, summary=u'Nobelium is a synthetic chemical element with symbol No and atomic number 102. It is named in honor of Alfred Nobel, the inventor of dynamite and benefactor of science. A radioactive metal, it is the tenth transuranic element and is the penultimate member of the actinide series.', symbol=u'No', xpos=16, ypos=10),\n",
       " Row(appearance=None, atomic_mass=266.0, boil=None, category=u'actinide', color=None, density=None, discovered_by=u'Lawrence Berkeley National Laboratory', melt=1900.0, molar_heat=None, name=u'Lawrencium', named_by=None, number=u'103', period=7, phase=u'Solid', source=u'https://en.wikipedia.org/wiki/Lawrencium', spectral_img=None, summary=u'Lawrencium is a synthetic chemical element with chemical symbol Lr (formerly Lw) and atomic number 103. It is named in honor of Ernest Lawrence, inventor of the cyclotron, a device that was used to discover many artificial radioactive elements. A radioactive metal, lawrencium is the eleventh transuranic element and is also the final member of the actinide series.', symbol=u'Lr', xpos=17, ypos=10),\n",
       " Row(appearance=None, atomic_mass=267.0, boil=5800.0, category=u'transition metal', color=None, density=23.2, discovered_by=u'Joint Institute for Nuclear Research', melt=2400.0, molar_heat=None, name=u'Rutherfordium', named_by=None, number=u'104', period=7, phase=u'Solid', source=u'https://en.wikipedia.org/wiki/Rutherfordium', spectral_img=None, summary=u'Rutherfordium is a chemical element with symbol Rf and atomic number 104, named in honor of physicist Ernest Rutherford. It is a synthetic element (an element that can be created in a laboratory but is not found in nature) and radioactive; the most stable known isotope, 267Rf, has a half-life of approximately 1.3 hours. In the periodic table of the elements, it is a d - block element and the second of the fourth - row transition elements.', symbol=u'Rf', xpos=4, ypos=7),\n",
       " Row(appearance=None, atomic_mass=268.0, boil=None, category=u'transition metal', color=None, density=29.3, discovered_by=u'Joint Institute for Nuclear Research', melt=None, molar_heat=None, name=u'Dubnium', named_by=None, number=u'105', period=7, phase=u'Solid', source=u'https://en.wikipedia.org/wiki/Dubnium', spectral_img=None, summary=u'Dubnium is a chemical element with symbol Db and atomic number 105. It is named after the town of Dubna in Russia (north of Moscow), where it was first produced. It is a synthetic element (an element that can be created in a laboratory but is not found in nature) and radioactive; the most stable known isotope, dubnium-268, has a half-life of approximately 28 hours.', symbol=u'Db', xpos=5, ypos=7),\n",
       " Row(appearance=None, atomic_mass=269.0, boil=None, category=u'transition metal', color=None, density=35.0, discovered_by=u'Lawrence Berkeley National Laboratory', melt=None, molar_heat=None, name=u'Seaborgium', named_by=None, number=u'106', period=7, phase=u'Solid', source=u'https://en.wikipedia.org/wiki/Seaborgium', spectral_img=None, summary=u'Seaborgium is a synthetic element with symbol Sg and atomic number 106. Its most stable isotope 271Sg has a half-life of 1.9 minutes. A more recently discovered isotope 269Sg has a potentially slightly longer half-life (ca.', symbol=u'Sg', xpos=6, ypos=7),\n",
       " Row(appearance=None, atomic_mass=270.0, boil=None, category=u'transition metal', color=None, density=37.1, discovered_by=u'Gesellschaft f\\xfcr Schwerionenforschung', melt=None, molar_heat=None, name=u'Bohrium', named_by=None, number=u'107', period=7, phase=u'Solid', source=u'https://en.wikipedia.org/wiki/Bohrium', spectral_img=None, summary=u'Bohrium is a chemical element with symbol Bh and atomic number 107. It is named after Danish physicist Niels Bohr. It is a synthetic element (an element that can be created in a laboratory but is not found in nature) and radioactive; the most stable known isotope, 270Bh, has a half-life of approximately 61 seconds.', symbol=u'Bh', xpos=7, ypos=7),\n",
       " Row(appearance=None, atomic_mass=269.0, boil=None, category=u'transition metal', color=None, density=40.7, discovered_by=u'Gesellschaft f\\xfcr Schwerionenforschung', melt=126.0, molar_heat=None, name=u'Hassium', named_by=None, number=u'108', period=7, phase=u'Solid', source=u'https://en.wikipedia.org/wiki/Hassium', spectral_img=None, summary=u'Hassium is a chemical element with symbol Hs and atomic number 108, named after the German state of Hesse. It is a synthetic element (an element that can be created in a laboratory but is not found in nature) and radioactive; the most stable known isotope, 269Hs, has a half-life of approximately 9.7 seconds, although an unconfirmed metastable state, 277mHs, may have a longer half-life of about 130 seconds. More than 100 atoms of hassium have been synthesized to date.', symbol=u'Hs', xpos=8, ypos=7),\n",
       " Row(appearance=None, atomic_mass=278.0, boil=None, category=u'unknown, probably transition metal', color=None, density=37.4, discovered_by=u'Gesellschaft f\\xfcr Schwerionenforschung', melt=None, molar_heat=None, name=u'Meitnerium', named_by=None, number=u'109', period=7, phase=u'Solid', source=u'https://en.wikipedia.org/wiki/Meitnerium', spectral_img=None, summary=u'Meitnerium is a chemical element with symbol Mt and atomic number 109. It is an extremely radioactive synthetic element (an element not found in nature that can be created in a laboratory). The most stable known isotope, meitnerium-278, has a half-life of 7.6 seconds.', symbol=u'Mt', xpos=9, ypos=7),\n",
       " Row(appearance=None, atomic_mass=281.0, boil=None, category=u'unknown, probably transition metal', color=None, density=34.8, discovered_by=u'Gesellschaft f\\xfcr Schwerionenforschung', melt=None, molar_heat=None, name=u'Darmstadtium', named_by=None, number=u'110', period=7, phase=u'Solid', source=u'https://en.wikipedia.org/wiki/Darmstadtium', spectral_img=None, summary=u'Darmstadtium is a chemical element with symbol Ds and atomic number 110. It is an extremely radioactive synthetic element. The most stable known isotope, darmstadtium-281, has a half-life of approximately 10 seconds.', symbol=u'Ds', xpos=10, ypos=7),\n",
       " Row(appearance=None, atomic_mass=282.0, boil=None, category=u'unknown, probably transition metal', color=None, density=28.7, discovered_by=u'Gesellschaft f\\xfcr Schwerionenforschung', melt=None, molar_heat=None, name=u'Roentgenium', named_by=None, number=u'111', period=7, phase=u'Solid', source=u'https://en.wikipedia.org/wiki/Roentgenium', spectral_img=None, summary=u'Roentgenium is a chemical element with symbol Rg and atomic number 111. It is an extremely radioactive synthetic element (an element that can be created in a laboratory but is not found in nature); the most stable known isotope, roentgenium-282, has a half-life of 2.1 minutes. Roentgenium was first created in 1994 by the GSI Helmholtz Centre for Heavy Ion Research near Darmstadt, Germany.', symbol=u'Rg', xpos=11, ypos=7),\n",
       " Row(appearance=None, atomic_mass=285.0, boil=3570.0, category=u'transition metal', color=None, density=23.7, discovered_by=u'Gesellschaft f\\xfcr Schwerionenforschung', melt=None, molar_heat=None, name=u'Copernicium', named_by=None, number=u'112', period=7, phase=u'Gas', source=u'https://en.wikipedia.org/wiki/Copernicium', spectral_img=None, summary=u'Copernicium is a chemical element with symbol Cn and atomic number 112. It is an extremely radioactive synthetic element that can only be created in a laboratory. The most stable known isotope, copernicium-285, has a half-life of approximately 29 seconds, but it is possible that this copernicium isotope may have a nuclear isomer with a longer half-life, 8.9 min.', symbol=u'Cn', xpos=12, ypos=7),\n",
       " Row(appearance=None, atomic_mass=286.0, boil=1430.0, category=u'unknown, probably transition metal', color=None, density=16.0, discovered_by=u'RIKEN', melt=700.0, molar_heat=None, name=u'Nihonium', named_by=None, number=u'113', period=7, phase=u'Solid', source=u'https://en.wikipedia.org/wiki/Ununtrium', spectral_img=None, summary=u'Nihonium is a chemical element with atomic number 113. It has a symbol Nh. It is a synthetic element (an element that can be created in a laboratory but is not found in nature) and is extremely radioactive; its most stable known isotope, nihonium-286, has a half-life of 20 seconds.', symbol=u'Nh', xpos=13, ypos=7),\n",
       " Row(appearance=None, atomic_mass=289.0, boil=420.0, category=u'post-transition metal', color=None, density=14.0, discovered_by=u'Joint Institute for Nuclear Research', melt=340.0, molar_heat=None, name=u'Flerovium', named_by=None, number=u'114', period=7, phase=u'Solid', source=u'https://en.wikipedia.org/wiki/Flerovium', spectral_img=None, summary=u'Flerovium is a superheavy artificial chemical element with symbol Fl and atomic number 114. It is an extremely radioactive synthetic element. The element is named after the Flerov Laboratory of Nuclear Reactions of the Joint Institute for Nuclear Research in Dubna, Russia, where the element was discovered in 1998.', symbol=u'Fl', xpos=14, ypos=7),\n",
       " Row(appearance=None, atomic_mass=289.0, boil=1400.0, category=u'unknown, probably post transition metal', color=None, density=13.5, discovered_by=u'Joint Institute for Nuclear Research', melt=670.0, molar_heat=None, name=u'Moscovium', named_by=None, number=u'115', period=7, phase=u'Solid', source=u'https://en.wikipedia.org/wiki/Ununpentium', spectral_img=None, summary=u'Moscovium is the name of a synthetic superheavy element in the periodic table that has the symbol Mc and has the atomic number 115. It is an extremely radioactive element; its most stable known isotope, moscovium-289, has a half-life of only 220 milliseconds. It is also known as eka-bismuth or simply element 115.', symbol=u'Mc', xpos=15, ypos=7),\n",
       " Row(appearance=None, atomic_mass=293.0, boil=10351135.0, category=u'unknown, probably post transition metal', color=None, density=12.9, discovered_by=u'Joint Institute for Nuclear Research', melt=637780.0, molar_heat=None, name=u'Livermorium', named_by=None, number=u'116', period=7, phase=u'Solid', source=u'https://en.wikipedia.org/wiki/Livermorium', spectral_img=None, summary=u'Livermorium is a synthetic superheavy element with symbol Lv and atomic number 116. It is an extremely radioactive element that has only been created in the laboratory and has not been observed in nature. The element is named after the Lawrence Livermore National Laboratory in the United States, which collaborated with the Joint Institute for Nuclear Research in Dubna, Russia to discover livermorium in 2000.', symbol=u'Lv', xpos=16, ypos=7),\n",
       " Row(appearance=None, atomic_mass=294.0, boil=883.0, category=u'unknown,probably metalloid', color=None, density=7.17, discovered_by=u'Joint Institute for Nuclear Research', melt=623823.0, molar_heat=None, name=u'Tennessine', named_by=None, number=u'117', period=7, phase=u'Solid', source=u'https://en.wikipedia.org/wiki/Ununseptium', spectral_img=None, summary=u'Tennessine is a superheavy artificial chemical element with an atomic number of 117 and a symbol of Ts. Also known as eka-astatine or element 117, it is the second-heaviest known element and penultimate element of the 7th period of the periodic table. As of 2016, fifteen tennessine atoms have been observed:six when it was first synthesized in 2010, seven in 2012, and two in 2014.', symbol=u'Ts', xpos=17, ypos=7),\n",
       " Row(appearance=None, atomic_mass=294.0, boil=35030.0, category=u'unknown, predicted to be noble gas', color=None, density=4.95, discovered_by=u'Joint Institute for Nuclear Research', melt=None, molar_heat=None, name=u'Oganesson', named_by=None, number=u'118', period=7, phase=u'Solid', source=u'https://en.wikipedia.org/wiki/Ununoctium', spectral_img=None, summary=u\"Ooganesson is IUPAC's name for the transactinide element with the atomic number 118 and element symbol Og. It is also known as eka-radon or element 118, and on the periodic table of the elements it is a p-block element and the last one of the 7th period. Oganesson is currently the only synthetic member of group 18.\", symbol=u'Og', xpos=18, ypos=7)]"
      ]
     },
     "execution_count": 4,
     "metadata": {},
     "output_type": "execute_result"
    }
   ],
   "source": [
    "df.collect()"
   ]
  },
  {
   "cell_type": "code",
   "execution_count": 5,
   "metadata": {
    "collapsed": false,
    "deletable": true,
    "editable": true
   },
   "outputs": [
    {
     "name": "stdout",
     "output_type": "stream",
     "text": [
      "root\n",
      " |-- appearance: string (nullable = true)\n",
      " |-- atomic_mass: double (nullable = true)\n",
      " |-- boil: double (nullable = true)\n",
      " |-- category: string (nullable = true)\n",
      " |-- color: string (nullable = true)\n",
      " |-- density: double (nullable = true)\n",
      " |-- discovered_by: string (nullable = true)\n",
      " |-- melt: double (nullable = true)\n",
      " |-- molar_heat: double (nullable = true)\n",
      " |-- name: string (nullable = true)\n",
      " |-- named_by: string (nullable = true)\n",
      " |-- number: string (nullable = true)\n",
      " |-- period: long (nullable = true)\n",
      " |-- phase: string (nullable = true)\n",
      " |-- source: string (nullable = true)\n",
      " |-- spectral_img: string (nullable = true)\n",
      " |-- summary: string (nullable = true)\n",
      " |-- symbol: string (nullable = true)\n",
      " |-- xpos: long (nullable = true)\n",
      " |-- ypos: long (nullable = true)\n",
      "\n"
     ]
    }
   ],
   "source": [
    "df.printSchema()"
   ]
  },
  {
   "cell_type": "code",
   "execution_count": 6,
   "metadata": {
    "collapsed": false,
    "deletable": true,
    "editable": true
   },
   "outputs": [
    {
     "name": "stdout",
     "output_type": "stream",
     "text": [
      "+--------------------+----------+\n",
      "|            category|      name|\n",
      "+--------------------+----------+\n",
      "|   diatomic nonmetal|  Hydrogen|\n",
      "|           noble gas|    Helium|\n",
      "|        alkali metal|   Lithium|\n",
      "|alkaline earth metal| Beryllium|\n",
      "|           metalloid|     Boron|\n",
      "| polyatomic nonmetal|    Carbon|\n",
      "|   diatomic nonmetal|  Nitrogen|\n",
      "|   diatomic nonmetal|    Oxygen|\n",
      "|   diatomic nonmetal|  Fluorine|\n",
      "|           noble gas|      Neon|\n",
      "|        alkali metal|    Sodium|\n",
      "|alkaline earth metal| Magnesium|\n",
      "|post-transition m...| Aluminium|\n",
      "|           metalloid|   Silicon|\n",
      "| polyatomic nonmetal|Phosphorus|\n",
      "| polyatomic nonmetal|    Sulfur|\n",
      "|   diatomic nonmetal|  Chlorine|\n",
      "|           noble gas|     Argon|\n",
      "|        alkali metal| Potassium|\n",
      "|alkaline earth metal|   Calcium|\n",
      "+--------------------+----------+\n",
      "only showing top 20 rows\n",
      "\n"
     ]
    }
   ],
   "source": [
    "df.select(\"category\",\"name\").show()"
   ]
  },
  {
   "cell_type": "markdown",
   "metadata": {
    "deletable": true,
    "editable": true
   },
   "source": [
    "### Seleccionamos los elementos químicos que tengan la masa atómica menor que 200 y mostramos los 10 primeros."
   ]
  },
  {
   "cell_type": "code",
   "execution_count": 7,
   "metadata": {
    "collapsed": false,
    "deletable": true,
    "editable": true
   },
   "outputs": [
    {
     "name": "stdout",
     "output_type": "stream",
     "text": [
      "+---------+-------------+\n",
      "|     name|  atomic_mass|\n",
      "+---------+-------------+\n",
      "| Hydrogen|        1.008|\n",
      "|   Helium|    4.0026022|\n",
      "|  Lithium|         6.94|\n",
      "|Beryllium|   9.01218315|\n",
      "|    Boron|        10.81|\n",
      "|   Carbon|       12.011|\n",
      "| Nitrogen|       14.007|\n",
      "|   Oxygen|       15.999|\n",
      "| Fluorine|18.9984031636|\n",
      "|     Neon|     20.17976|\n",
      "+---------+-------------+\n",
      "only showing top 10 rows\n",
      "\n"
     ]
    }
   ],
   "source": [
    "df.select(df['name'],df['atomic_mass']).filter(df['atomic_mass']<200).show(10)"
   ]
  },
  {
   "cell_type": "code",
   "execution_count": 8,
   "metadata": {
    "collapsed": false,
    "deletable": true,
    "editable": true
   },
   "outputs": [
    {
     "name": "stdout",
     "output_type": "stream",
     "text": [
      "+--------------------+-----+\n",
      "|            category|count|\n",
      "+--------------------+-----+\n",
      "|unknown, probably...|    4|\n",
      "|unknown,probably ...|    1|\n",
      "|        alkali metal|    6|\n",
      "|          lanthanide|   15|\n",
      "|   diatomic nonmetal|    7|\n",
      "|    transition metal|   35|\n",
      "|unknown, probably...|    2|\n",
      "| polyatomic nonmetal|    4|\n",
      "|            actinide|   15|\n",
      "|           metalloid|    7|\n",
      "|alkaline earth metal|    6|\n",
      "|           noble gas|    6|\n",
      "|unknown, predicte...|    1|\n",
      "|post-transition m...|    9|\n",
      "+--------------------+-----+\n",
      "\n"
     ]
    }
   ],
   "source": [
    "#Agrupar por categoria\n",
    "df.groupBy('category').count().show()"
   ]
  },
  {
   "cell_type": "markdown",
   "metadata": {
    "deletable": true,
    "editable": true
   },
   "source": [
    "### Ahora vamos a ver como a partir de un dataframe podemos generar una tabla temporal sobre la que ejecutaremos sentencias en SQL."
   ]
  },
  {
   "cell_type": "code",
   "execution_count": 9,
   "metadata": {
    "collapsed": true,
    "deletable": true,
    "editable": true
   },
   "outputs": [],
   "source": [
    "df.createGlobalTempView(\"TablaPeriodica\")"
   ]
  },
  {
   "cell_type": "code",
   "execution_count": 10,
   "metadata": {
    "collapsed": false,
    "deletable": true,
    "editable": true
   },
   "outputs": [
    {
     "name": "stdout",
     "output_type": "stream",
     "text": [
      "+--------------------+---------+\n",
      "|            category|     name|\n",
      "+--------------------+---------+\n",
      "|   diatomic nonmetal| Hydrogen|\n",
      "|           noble gas|   Helium|\n",
      "|        alkali metal|  Lithium|\n",
      "|alkaline earth metal|Beryllium|\n",
      "|           metalloid|    Boron|\n",
      "| polyatomic nonmetal|   Carbon|\n",
      "|   diatomic nonmetal| Nitrogen|\n",
      "|   diatomic nonmetal|   Oxygen|\n",
      "|   diatomic nonmetal| Fluorine|\n",
      "|           noble gas|     Neon|\n",
      "+--------------------+---------+\n",
      "only showing top 10 rows\n",
      "\n"
     ]
    }
   ],
   "source": [
    "spark.sql(\"select category,name from global_temp.TablaPeriodica\").show(10)"
   ]
  },
  {
   "cell_type": "markdown",
   "metadata": {
    "deletable": true,
    "editable": true
   },
   "source": [
    "### La creación de dataset se basa en la definición de una clase y permite añadir objetos de esa clase. El resultado es una estructura en formato de tabla como el dataframe mostrado en nuestro caso."
   ]
  },
  {
   "cell_type": "markdown",
   "metadata": {
    "deletable": true,
    "editable": true
   },
   "source": [
    "## Generar el esquema a partir de un fichero de texto"
   ]
  },
  {
   "cell_type": "markdown",
   "metadata": {
    "deletable": true,
    "editable": true
   },
   "source": [
    "En Spark SQL, existen dos formas de generar el esquema de un dataframe. Una es mediante reflexión y la otra es explicitamente con programación. A continuación vamos a ver ambos casos sobre un documento txt que contiene el elemento químico y su masa atómica."
   ]
  },
  {
   "cell_type": "code",
   "execution_count": 19,
   "metadata": {
    "collapsed": false,
    "deletable": true,
    "editable": true
   },
   "outputs": [
    {
     "data": {
      "text/plain": [
       "10"
      ]
     },
     "execution_count": 19,
     "metadata": {},
     "output_type": "execute_result"
    }
   ],
   "source": [
    "from pyspark.sql import Row\n",
    "sc = spark.sparkContext\n",
    "lines=sc.textFile(\"tablaPeriodica.txt\")\n",
    "parts= lines.map(lambda p: p.split(\",\"))\n",
    "\n",
    "elementos= parts.map(lambda e: Row(nombre=e[0],masa_atomica=float(e[1])))\n",
    "elementos.count()"
   ]
  },
  {
   "cell_type": "markdown",
   "metadata": {
    "deletable": true,
    "editable": true
   },
   "source": [
    "### Generar el esquema"
   ]
  },
  {
   "cell_type": "code",
   "execution_count": 20,
   "metadata": {
    "collapsed": false,
    "deletable": true,
    "editable": true
   },
   "outputs": [
    {
     "name": "stdout",
     "output_type": "stream",
     "text": [
      "root\n",
      " |-- masa_atomica: double (nullable = true)\n",
      " |-- nombre: string (nullable = true)\n",
      "\n"
     ]
    }
   ],
   "source": [
    "esquema=spark.createDataFrame(elementos)\n",
    "esquema.createOrReplaceTempView(\"elementos\")\n",
    "esquema.printSchema()"
   ]
  },
  {
   "cell_type": "code",
   "execution_count": 21,
   "metadata": {
    "collapsed": false,
    "deletable": true,
    "editable": true
   },
   "outputs": [],
   "source": [
    "consultaElementos=spark.sql(\"select nombre,masa_atomica from elementos where masa_atomica>0 and masa_atomica<21\")"
   ]
  },
  {
   "cell_type": "code",
   "execution_count": 22,
   "metadata": {
    "collapsed": false,
    "deletable": true,
    "editable": true
   },
   "outputs": [
    {
     "name": "stdout",
     "output_type": "stream",
     "text": [
      "Nombre: Hydrogen\n",
      "Nombre: Helium\n",
      "Nombre: Lithium\n",
      "Nombre: Beryllium\n",
      "Nombre: Boron\n",
      "Nombre: Carbon\n",
      "Nombre: Nitrogen\n",
      "Nombre: Oxygen\n",
      "Nombre: Fluorine\n",
      "Nombre: Neon\n"
     ]
    }
   ],
   "source": [
    "data=consultaElementos.rdd.map(lambda elem: \"Nombre: \"+elem.nombre).collect()\n",
    "for name in data:\n",
    "    print(name)"
   ]
  },
  {
   "cell_type": "markdown",
   "metadata": {
    "deletable": true,
    "editable": true
   },
   "source": [
    "Ahora vamos a ver como se haría programáticamente."
   ]
  },
  {
   "cell_type": "code",
   "execution_count": 29,
   "metadata": {
    "collapsed": false,
    "deletable": true,
    "editable": true
   },
   "outputs": [
    {
     "name": "stdout",
     "output_type": "stream",
     "text": [
      "root\n",
      " |-- nombre: string (nullable = false)\n",
      " |-- masaAtomica: string (nullable = false)\n",
      "\n"
     ]
    }
   ],
   "source": [
    "from pyspark.sql.types import *\n",
    "\n",
    "sc=spark.sparkContext\n",
    "\n",
    "lines=sc.textFile(\"tablaPeriodica.txt\")\n",
    "parts=lines.map(lambda line: line.split(\",\"))\n",
    "elementos= parts.map(lambda p: (p[0],p[1]))\n",
    "\n",
    "campos= [StructField(\"nombre\",StringType(),False),StructField(\"masaAtomica\",StringType(),False)]\n",
    "\n",
    "#crear esquema a partir de la estructura de campos\n",
    "esquema =StructType(campos)\n",
    "\n",
    "esquemaElementos= spark.createDataFrame(elementos,esquema)\n",
    "\n",
    "esquemaElementos.createOrReplaceTempView(\"elementos\")\n",
    "\n",
    "esquemaElementos.printSchema()"
   ]
  },
  {
   "cell_type": "code",
   "execution_count": 30,
   "metadata": {
    "collapsed": false,
    "deletable": true,
    "editable": true
   },
   "outputs": [
    {
     "name": "stdout",
     "output_type": "stream",
     "text": [
      "[Row(nombre=u'Hydrogen', masaAtomica=u'1.008'), Row(nombre=u'Helium', masaAtomica=u'4.0026022'), Row(nombre=u'Lithium', masaAtomica=u'6.94'), Row(nombre=u'Beryllium', masaAtomica=u'9.01218315'), Row(nombre=u'Boron', masaAtomica=u'10.81'), Row(nombre=u'Carbon', masaAtomica=u'12.011'), Row(nombre=u'Nitrogen', masaAtomica=u'14.007'), Row(nombre=u'Oxygen', masaAtomica=u'15.999'), Row(nombre=u'Fluorine', masaAtomica=u'18.9984031636'), Row(nombre=u'Neon', masaAtomica=u'20.17976')]\n"
     ]
    }
   ],
   "source": [
    "print(esquemaElementos.collect())"
   ]
  },
  {
   "cell_type": "code",
   "execution_count": 32,
   "metadata": {
    "collapsed": false,
    "deletable": true,
    "editable": true
   },
   "outputs": [
    {
     "name": "stdout",
     "output_type": "stream",
     "text": [
      "+---------+-------------+\n",
      "|   nombre|  masaAtomica|\n",
      "+---------+-------------+\n",
      "| Hydrogen|        1.008|\n",
      "|   Helium|    4.0026022|\n",
      "|  Lithium|         6.94|\n",
      "|Beryllium|   9.01218315|\n",
      "|    Boron|        10.81|\n",
      "|   Carbon|       12.011|\n",
      "| Nitrogen|       14.007|\n",
      "|   Oxygen|       15.999|\n",
      "| Fluorine|18.9984031636|\n",
      "|     Neon|     20.17976|\n",
      "+---------+-------------+\n",
      "\n"
     ]
    }
   ],
   "source": [
    "spark.sql(\"select nombre,masaAtomica from elementos\").show()"
   ]
  }
 ],
 "metadata": {
  "kernelspec": {
   "display_name": "Python 2",
   "language": "python",
   "name": "python2"
  },
  "language_info": {
   "codemirror_mode": {
    "name": "ipython",
    "version": 2
   },
   "file_extension": ".py",
   "mimetype": "text/x-python",
   "name": "python",
   "nbconvert_exporter": "python",
   "pygments_lexer": "ipython2",
   "version": "2.7.12"
  }
 },
 "nbformat": 4,
 "nbformat_minor": 2
}
