{
 "cells": [
  {
   "cell_type": "markdown",
   "metadata": {
    "collapsed": true,
    "deletable": true,
    "editable": true
   },
   "source": [
    "# Punto de entrada"
   ]
  },
  {
   "cell_type": "markdown",
   "metadata": {
    "deletable": true,
    "editable": true
   },
   "source": [
    "Vamos a crear un punto de entrada al API de dataframes y dataset."
   ]
  },
  {
   "cell_type": "code",
   "execution_count": 1,
   "metadata": {
    "collapsed": true,
    "deletable": true,
    "editable": true
   },
   "outputs": [],
   "source": [
    "from pyspark.sql import SparkSession\n"
   ]
  },
  {
   "cell_type": "code",
   "execution_count": 2,
   "metadata": {
    "collapsed": false,
    "deletable": true,
    "editable": true
   },
   "outputs": [],
   "source": [
    "spark= SparkSession.builder.appName(\"Trabajando con Spark SQL\").getOrCreate()"
   ]
  },
  {
   "cell_type": "markdown",
   "metadata": {
    "deletable": true,
    "editable": true
   },
   "source": [
    "Lo primero que vamos a leer va a ser un fichero json que representa la tabla periodica y lo vamos a almacenar en un dataframe sobre el que vamos a ir realizando diferentes acciones como si se tratara de un RDD.\n",
    "\n",
    "\n",
    "Nota: el formato json en spark SQL es un formato por línea , como si fuera un CSV, por lo tanto, hay que transformar el listado de objetos en un una fila por cada objeto."
   ]
  },
  {
   "cell_type": "code",
   "execution_count": 4,
   "metadata": {
    "collapsed": false,
    "deletable": true,
    "editable": true
   },
   "outputs": [],
   "source": [
    "import json\n",
    "with open('PeriodicTableJSON.json') as data_file:    \n",
    "    data = json.load(data_file)\n",
    "    \n",
    "\n",
    "    with open('PeriodicTableJSON.jsonl', 'w') as outfile:\n",
    "        for entry in data:\n",
    "            json.dump(entry, outfile)\n",
    "            outfile.write('\\n')"
   ]
  },
  {
   "cell_type": "code",
   "execution_count": 6,
   "metadata": {
    "collapsed": false,
    "deletable": true,
    "editable": true
   },
   "outputs": [],
   "source": [
    "df = spark.read.json(\"PeriodicTableJSON.jsonl\")"
   ]
  },
  {
   "cell_type": "code",
   "execution_count": 7,
   "metadata": {
    "collapsed": false,
    "deletable": true,
    "editable": true
   },
   "outputs": [
    {
     "name": "stdout",
     "output_type": "stream",
     "text": [
      "+--------------------+-------------+-------+--------------------+-----+-------+--------------------+-------+----------+----------+--------------------+------+------+-----+--------------------+--------------------+--------------------+------+----+----+\n",
      "|          appearance|  atomic_mass|   boil|            category|color|density|       discovered_by|   melt|molar_heat|      name|            named_by|number|period|phase|              source|        spectral_img|             summary|symbol|xpos|ypos|\n",
      "+--------------------+-------------+-------+--------------------+-----+-------+--------------------+-------+----------+----------+--------------------+------+------+-----+--------------------+--------------------+--------------------+------+----+----+\n",
      "|       colorless gas|        1.008| 20.271|   diatomic nonmetal| null|0.08988|     Henry Cavendish|  13.99|    28.836|  Hydrogen|   Antoine Lavoisier|     1|     1|  Gas|https://en.wikipe...|https://en.wikipe...|Hydrogen is a che...|     H|   1|   1|\n",
      "|colorless gas, ex...|    4.0026022|  4.222|           noble gas| null| 0.1786|      Pierre Janssen|   0.95|      null|    Helium|                null|     2|     1|  Gas|https://en.wikipe...|https://en.wikipe...|Helium is a chemi...|    He|  18|   1|\n",
      "|       silvery-white|         6.94| 1603.0|        alkali metal| null|  0.534|Johan August Arfw...| 453.65|     24.86|   Lithium|                null|     3|     2|Solid|https://en.wikipe...|                null|Lithium (from Gre...|    Li|   1|   2|\n",
      "| white-gray metallic|   9.01218315| 2742.0|alkaline earth metal| null|   1.85|Louis Nicolas Vau...| 1560.0|    16.443| Beryllium|                null|     4|     2|Solid|https://en.wikipe...|                null|Beryllium is a ch...|    Be|   2|   2|\n",
      "|         black-brown|        10.81| 4200.0|           metalloid| null|   2.08|Joseph Louis Gay-...| 2349.0|    11.087|     Boron|                null|     5|     2|Solid|https://en.wikipe...|                null|Boron is a metall...|     B|  13|   2|\n",
      "|                null|       12.011|   null| polyatomic nonmetal| null|  1.821|       Ancient Egypt|   null|     8.517|    Carbon|                null|     6|     2|Solid|https://en.wikipe...|https://en.wikipe...|Carbon (from Lati...|     C|  14|   2|\n",
      "|colorless gas, li...|       14.007| 77.355|   diatomic nonmetal| null|  1.251|   Daniel Rutherford|  63.15|      null|  Nitrogen|Jean-Antoine Chaptal|     7|     2|  Gas|https://en.wikipe...|https://en.wikipe...|Nitrogen is a che...|     N|  15|   2|\n",
      "|                null|       15.999| 90.188|   diatomic nonmetal| null|  1.429|Carl Wilhelm Scheele|  54.36|      null|    Oxygen|   Antoine Lavoisier|     8|     2|  Gas|https://en.wikipe...|https://en.wikipe...|Oxygen is a chemi...|     O|  16|   2|\n",
      "|                null|18.9984031636|  85.03|   diatomic nonmetal| null|  1.696|  André-Marie Ampère|  53.48|      null|  Fluorine|        Humphry Davy|     9|     2|  Gas|https://en.wikipe...|                null|Fluorine is a che...|     F|  17|   2|\n",
      "|colorless gas exh...|     20.17976| 27.104|           noble gas| null| 0.9002|      Morris Travers|  24.56|      null|      Neon|                null|    10|     2|  Gas|https://en.wikipe...|https://en.wikipe...|Neon is a chemica...|    Ne|  18|   2|\n",
      "|silvery white met...| 22.989769282|1156.09|        alkali metal| null|  0.968|        Humphry Davy|370.944|     28.23|    Sodium|                null|    11|     3|Solid|https://en.wikipe...|https://en.wikipe...|Sodium /ˈsoʊdiəm/...|    Na|   1|   3|\n",
      "|    shiny grey solid|       24.305| 1363.0|alkaline earth metal| null|  1.738|        Joseph Black|  923.0|    24.869| Magnesium|                null|    12|     3|Solid|https://en.wikipe...|https://en.wikipe...|Magnesium is a ch...|    Mg|   2|   3|\n",
      "|silvery gray meta...|  26.98153857| 2743.0|post-transition m...| null|    2.7|                null| 933.47|      24.2| Aluminium|        Humphry Davy|    13|     3|Solid|https://en.wikipe...|                null|Aluminium (or alu...|    Al|  13|   3|\n",
      "|crystalline, refl...|       28.085| 3538.0|           metalloid| null|  2.329|Jöns Jacob Berzelius| 1687.0|    19.789|   Silicon|Thomas Thomson (c...|    14|     3|Solid|https://en.wikipe...|https://en.wikipe...|Silicon is a chem...|    Si|  14|   3|\n",
      "|colourless, waxy ...|30.9737619985|   null| polyatomic nonmetal| null|   null|        Hennig Brand|   null|    23.824|Phosphorus|                null|    15|     3|Solid|https://en.wikipe...|                null|Phosphorus is a c...|     P|  15|   3|\n",
      "|lemon yellow sint...|        32.06|  717.8| polyatomic nonmetal| null|   2.07|       Ancient china| 388.36|     22.75|    Sulfur|                null|    16|     3|Solid|https://en.wikipe...|https://en.wikipe...|Sulfur or sulphur...|     S|  16|   3|\n",
      "|pale yellow-green...|        35.45| 239.11|   diatomic nonmetal| null|    3.2|Carl Wilhelm Scheele|  171.6|      null|  Chlorine|                null|    17|     3|  Gas|https://en.wikipe...|https://en.wikipe...|Chlorine is a che...|    Cl|  17|   3|\n",
      "|colorless gas exh...|      39.9481| 87.302|           noble gas| null|  1.784|       Lord Rayleigh|  83.81|      null|     Argon|                null|    18|     3|  Gas|https://en.wikipe...|https://en.wikipe...|Argon is a chemic...|    Ar|  18|   3|\n",
      "|        silvery gray|     39.09831| 1032.0|        alkali metal| null|  0.862|        Humphry Davy|  336.7|      29.6| Potassium|                null|    19|     4|Solid|https://en.wikipe...|https://en.wikipe...|Potassium is a ch...|     K|   1|   4|\n",
      "|                null|      40.0784| 1757.0|alkaline earth metal| null|   1.55|        Humphry Davy| 1115.0|    25.929|   Calcium|                null|    20|     4|Solid|https://en.wikipe...|https://en.wikipe...|Calcium is a chem...|    Ca|   2|   4|\n",
      "+--------------------+-------------+-------+--------------------+-----+-------+--------------------+-------+----------+----------+--------------------+------+------+-----+--------------------+--------------------+--------------------+------+----+----+\n",
      "only showing top 20 rows\n",
      "\n"
     ]
    }
   ],
   "source": [
    "df.show()"
   ]
  },
  {
   "cell_type": "code",
   "execution_count": 8,
   "metadata": {
    "collapsed": false,
    "deletable": true,
    "editable": true
   },
   "outputs": [
    {
     "name": "stdout",
     "output_type": "stream",
     "text": [
      "root\n",
      " |-- appearance: string (nullable = true)\n",
      " |-- atomic_mass: double (nullable = true)\n",
      " |-- boil: double (nullable = true)\n",
      " |-- category: string (nullable = true)\n",
      " |-- color: string (nullable = true)\n",
      " |-- density: double (nullable = true)\n",
      " |-- discovered_by: string (nullable = true)\n",
      " |-- melt: double (nullable = true)\n",
      " |-- molar_heat: double (nullable = true)\n",
      " |-- name: string (nullable = true)\n",
      " |-- named_by: string (nullable = true)\n",
      " |-- number: string (nullable = true)\n",
      " |-- period: long (nullable = true)\n",
      " |-- phase: string (nullable = true)\n",
      " |-- source: string (nullable = true)\n",
      " |-- spectral_img: string (nullable = true)\n",
      " |-- summary: string (nullable = true)\n",
      " |-- symbol: string (nullable = true)\n",
      " |-- xpos: long (nullable = true)\n",
      " |-- ypos: long (nullable = true)\n",
      "\n"
     ]
    }
   ],
   "source": [
    "df.printSchema()"
   ]
  },
  {
   "cell_type": "code",
   "execution_count": 9,
   "metadata": {
    "collapsed": false,
    "deletable": true,
    "editable": true
   },
   "outputs": [
    {
     "name": "stdout",
     "output_type": "stream",
     "text": [
      "+----------+\n",
      "|      name|\n",
      "+----------+\n",
      "|  Hydrogen|\n",
      "|    Helium|\n",
      "|   Lithium|\n",
      "| Beryllium|\n",
      "|     Boron|\n",
      "|    Carbon|\n",
      "|  Nitrogen|\n",
      "|    Oxygen|\n",
      "|  Fluorine|\n",
      "|      Neon|\n",
      "|    Sodium|\n",
      "| Magnesium|\n",
      "| Aluminium|\n",
      "|   Silicon|\n",
      "|Phosphorus|\n",
      "|    Sulfur|\n",
      "|  Chlorine|\n",
      "|     Argon|\n",
      "| Potassium|\n",
      "|   Calcium|\n",
      "+----------+\n",
      "only showing top 20 rows\n",
      "\n"
     ]
    }
   ],
   "source": [
    "df.select(\"name\").show()"
   ]
  },
  {
   "cell_type": "markdown",
   "metadata": {
    "deletable": true,
    "editable": true
   },
   "source": [
    "Seleccionamos los elementos químicos que tengan la masa atómica menor que 200 y mostramos los 10 primeros."
   ]
  },
  {
   "cell_type": "code",
   "execution_count": 10,
   "metadata": {
    "collapsed": false,
    "deletable": true,
    "editable": true
   },
   "outputs": [
    {
     "name": "stdout",
     "output_type": "stream",
     "text": [
      "+---------+-------------+\n",
      "|     name|  atomic_mass|\n",
      "+---------+-------------+\n",
      "| Hydrogen|        1.008|\n",
      "|   Helium|    4.0026022|\n",
      "|  Lithium|         6.94|\n",
      "|Beryllium|   9.01218315|\n",
      "|    Boron|        10.81|\n",
      "|   Carbon|       12.011|\n",
      "| Nitrogen|       14.007|\n",
      "|   Oxygen|       15.999|\n",
      "| Fluorine|18.9984031636|\n",
      "|     Neon|     20.17976|\n",
      "+---------+-------------+\n",
      "only showing top 10 rows\n",
      "\n"
     ]
    }
   ],
   "source": [
    "df.select(df['name'],df['atomic_mass']).filter(df['atomic_mass']<200).show(10)"
   ]
  },
  {
   "cell_type": "code",
   "execution_count": 11,
   "metadata": {
    "collapsed": false,
    "deletable": true,
    "editable": true
   },
   "outputs": [
    {
     "name": "stdout",
     "output_type": "stream",
     "text": [
      "+------+-----+\n",
      "| phase|count|\n",
      "+------+-----+\n",
      "| Solid|  104|\n",
      "|Liquid|    2|\n",
      "|   Gas|   12|\n",
      "+------+-----+\n",
      "\n"
     ]
    }
   ],
   "source": [
    "df.groupBy('phase').count().show()"
   ]
  },
  {
   "cell_type": "markdown",
   "metadata": {
    "deletable": true,
    "editable": true
   },
   "source": [
    "Ahora vamos a ver como a partir de un dataframe podemos generar una tabla temporal sobre la que ejecutaremos sentencias en SQL."
   ]
  },
  {
   "cell_type": "code",
   "execution_count": 12,
   "metadata": {
    "collapsed": true,
    "deletable": true,
    "editable": true
   },
   "outputs": [],
   "source": [
    "df.createGlobalTempView(\"chemistryTable\")"
   ]
  },
  {
   "cell_type": "code",
   "execution_count": 13,
   "metadata": {
    "collapsed": false,
    "deletable": true,
    "editable": true
   },
   "outputs": [
    {
     "name": "stdout",
     "output_type": "stream",
     "text": [
      "+---------+\n",
      "|     name|\n",
      "+---------+\n",
      "| Hydrogen|\n",
      "|   Helium|\n",
      "|  Lithium|\n",
      "|Beryllium|\n",
      "|    Boron|\n",
      "|   Carbon|\n",
      "| Nitrogen|\n",
      "|   Oxygen|\n",
      "| Fluorine|\n",
      "|     Neon|\n",
      "+---------+\n",
      "only showing top 10 rows\n",
      "\n"
     ]
    }
   ],
   "source": [
    "spark.sql(\"select name from global_temp.chemistryTable\").show(10)"
   ]
  },
  {
   "cell_type": "markdown",
   "metadata": {
    "deletable": true,
    "editable": true
   },
   "source": [
    "Como ya hemos comentado en el post, python no permite construir estructuras de dataset. Para que te hagas una idea si vienes del mundo Java o Scala. La creación de dataset se basa en la definición de una clase y permite añadir objetos de esa clase. El resultado es una estructura en formato de tabla como el dataframe mostrado en nuestro caso."
   ]
  },
  {
   "cell_type": "markdown",
   "metadata": {
    "deletable": true,
    "editable": true
   },
   "source": [
    "## Infiriendo el esquema"
   ]
  },
  {
   "cell_type": "markdown",
   "metadata": {
    "deletable": true,
    "editable": true
   },
   "source": [
    "En Spark SQL, existen dos formas de inferir el esquema un dataframe. Una es mediante reflexión y la otra es explicitamente con programación. A continuación vamos a ver ambos casos sobre un documento txt que contiene el elemento químico y su masa atómica."
   ]
  },
  {
   "cell_type": "code",
   "execution_count": 15,
   "metadata": {
    "collapsed": false,
    "deletable": true,
    "editable": true
   },
   "outputs": [
    {
     "data": {
      "text/plain": [
       "10"
      ]
     },
     "execution_count": 15,
     "metadata": {},
     "output_type": "execute_result"
    }
   ],
   "source": [
    "from pyspark.sql import Row\n",
    "sc = spark.sparkContext\n",
    "lines=sc.textFile(\"Periodictable.txt\")\n",
    "parts= lines.map(lambda p: p.split(\",\"))\n",
    "\n",
    "elements= parts.map(lambda e: Row(name=e[0],atomic_mass=float(e[1])))\n",
    "elements.count()"
   ]
  },
  {
   "cell_type": "code",
   "execution_count": 27,
   "metadata": {
    "collapsed": false,
    "deletable": true,
    "editable": true
   },
   "outputs": [],
   "source": [
    "schemeElements=spark.createDataFrame(elements)\n",
    "schemeElements.createOrReplaceTempView(\"elements\")"
   ]
  },
  {
   "cell_type": "code",
   "execution_count": 28,
   "metadata": {
    "collapsed": true,
    "deletable": true,
    "editable": true
   },
   "outputs": [],
   "source": [
    "lightElements=spark.sql(\"select name from elements where atomic_mass>0 and atomic_mass<21\")"
   ]
  },
  {
   "cell_type": "code",
   "execution_count": 33,
   "metadata": {
    "collapsed": false,
    "deletable": true,
    "editable": true
   },
   "outputs": [
    {
     "name": "stdout",
     "output_type": "stream",
     "text": [
      "Name: Hydrogen\n",
      "Name: Helium\n",
      "Name: Lithium\n",
      "Name: Beryllium\n",
      "Name: Boron\n",
      "Name: Carbon\n",
      "Name: Nitrogen\n",
      "Name: Oxygen\n",
      "Name: Fluorine\n",
      "Name: Neon\n"
     ]
    }
   ],
   "source": [
    "lightElemName=lightElements.rdd.map(lambda elem: \"Name: \"+elem.name).collect()\n",
    "for name in lightElemName:\n",
    "    print(name)"
   ]
  },
  {
   "cell_type": "markdown",
   "metadata": {
    "deletable": true,
    "editable": true
   },
   "source": [
    "Ahora vamos a ver como se haría programáticamente."
   ]
  },
  {
   "cell_type": "code",
   "execution_count": 38,
   "metadata": {
    "collapsed": false,
    "deletable": true,
    "editable": true
   },
   "outputs": [
    {
     "name": "stdout",
     "output_type": "stream",
     "text": [
      "+---------+-------------+\n",
      "|     name|   atomicMass|\n",
      "+---------+-------------+\n",
      "| Hydrogen|        1.008|\n",
      "|   Helium|    4.0026022|\n",
      "|  Lithium|         6.94|\n",
      "|Beryllium|   9.01218315|\n",
      "|    Boron|        10.81|\n",
      "|   Carbon|       12.011|\n",
      "| Nitrogen|       14.007|\n",
      "|   Oxygen|       15.999|\n",
      "| Fluorine|18.9984031636|\n",
      "|     Neon|     20.17976|\n",
      "+---------+-------------+\n",
      "\n",
      "root\n",
      " |-- name: string (nullable = true)\n",
      " |-- atomicMass: string (nullable = true)\n",
      "\n"
     ]
    }
   ],
   "source": [
    "from pyspark.sql.types import *\n",
    "\n",
    "sc=spark.sparkContext\n",
    "\n",
    "lines=sc.textFile(\"sql/Periodictable.txt\")\n",
    "parts=lines.map(lambda line: line.split(\",\"))\n",
    "elements= parts.map(lambda p: (p[0],p[1]))\n",
    "\n",
    "schemeString=\"name atomicMass\"\n",
    "\n",
    "fields= [StructField(field_name,StringType(),True) for field_name in schemeString.split()]\n",
    "scheme =StructType(fields)\n",
    "\n",
    "schemeElements= spark.createDataFrame(elements,scheme)\n",
    "\n",
    "schemeElements.createOrReplaceTempView(\"elements\")\n",
    "\n",
    "spark.sql(\"select name,atomicMass from elements\").show()\n",
    "\n",
    "schemeElements.printSchema()"
   ]
  },
  {
   "cell_type": "markdown",
   "metadata": {
    "deletable": true,
    "editable": true
   },
   "source": [
    "## Data Source\n"
   ]
  },
  {
   "cell_type": "markdown",
   "metadata": {
    "deletable": true,
    "editable": true
   },
   "source": [
    "Existen multitud de formatos disponible en Spark SQL (json,parquet,jdbc,orc,libsvm,csv,text,...) aunque el formato por defecto es parquet.\n",
    "En este apartado vamos a ver el manejo de diferentes formatos de datos y la comunicación con Hive, Parquet y JDBC para guardar/recuperar información."
   ]
  }
 ],
 "metadata": {
  "kernelspec": {
   "display_name": "Python 2",
   "language": "python",
   "name": "python2"
  },
  "language_info": {
   "codemirror_mode": {
    "name": "ipython",
    "version": 2
   },
   "file_extension": ".py",
   "mimetype": "text/x-python",
   "name": "python",
   "nbconvert_exporter": "python",
   "pygments_lexer": "ipython2",
   "version": "2.7.12"
  }
 },
 "nbformat": 4,
 "nbformat_minor": 2
}
