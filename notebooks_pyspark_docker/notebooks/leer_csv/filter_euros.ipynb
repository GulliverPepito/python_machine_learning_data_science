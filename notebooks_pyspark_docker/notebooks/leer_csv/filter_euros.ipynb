{
 "cells": [
  {
   "cell_type": "code",
   "execution_count": 1,
   "metadata": {
    "collapsed": true,
    "deletable": true,
    "editable": true
   },
   "outputs": [],
   "source": [
    "from pyspark import SparkContext"
   ]
  },
  {
   "cell_type": "code",
   "execution_count": 2,
   "metadata": {
    "collapsed": false,
    "deletable": true,
    "editable": true
   },
   "outputs": [
    {
     "name": "stdout",
     "output_type": "stream",
     "text": [
      "(2) PythonRDD[2] at RDD at PythonRDD.scala:48 []\n",
      " |  compras.csv MapPartitionsRDD[1] at textFile at NativeMethodAccessorImpl.java:0 []\n",
      " |  compras.csv HadoopRDD[0] at textFile at NativeMethodAccessorImpl.java:0 []\n",
      "243\n",
      "[u'AXNUVSE118|2010-08-18T17:18:03Z|Marvin Schuster|EUR|FORBRUGSFORENINGEN|1926-1037-1080-1564|VI|Clothing|Aerodynamic Marble Shirt|70.41||false', u'OWUXDYH117|2010-10-30T00:00:53Z|Bettie Bauch|EUR|MASTERCARD|1656-1723-1125-1324|SK|Music|Gorgeous Granite Gloves|19.67||defect', u'PECAGZQ178|2010-06-22T21:08:33Z|Miss Otto Cartwright|EUR|JCB|1951-1795-1342-1214|CM|Computers|Durable Wool Lamp|28.45|FDO2|false', u'QGZAFJE115|2010-08-14T01:58:36Z|Noble Gaylord IV|EUR|JCB|1961-1635-1846-1302|WS|Outdoors|Heavy Duty Paper Hat|95.06||false', u'RKGBFIY122|2010-03-01T17:33:28Z|Armani Breitenberg|EUR|MASTERCARD|1039-1831-1053-1384|CL|Music|Rustic Iron Car|20.5|SJC2|defect', u'RKGBFIY122|2010-03-01T17:33:28Z|Armani Breitenberg|EUR|MASTERCARD|1039-1831-1053-1384|CL|Electronics|Rustic Cotton Coat|11.86||false', u'RKGBFIY122|2010-03-01T17:33:28Z|Armani Breitenberg|EUR|MASTERCARD|1039-1831-1053-1384|CL|Garden|Practical Aluminum Watch|1.39||false', u'RKGBFIY122|2010-03-01T17:33:28Z|Armani Breitenberg|EUR|MASTERCARD|1039-1831-1053-1384|CL|Baby|Intelligent Aluminum Shoes|9.94|KJL2|false', u'TCLEBDG195|2010-06-16T08:17:49Z|Willis Windler PhD|EUR|DANKORT|1511-1186-1953-1790|GU|Kids|Rustic Paper Bottle|77.12||false', u'JDSMEGR121|2010-09-10T17:29:31Z|Maribel Christiansen|EUR|MASTERCARD|1187-1367-1332-1732|SX|Baby|Ergonomic Linen Watch|46.74||false']\n"
     ]
    }
   ],
   "source": [
    "#leer csv\n",
    "rdd = sc.textFile('compras.csv')\n",
    "\n",
    "#aplicar filtro de euros\n",
    "solo_en_euros = rdd.filter(lambda fila: 'EUR' in fila)\n",
    "\n",
    "print(solo_en_euros.toDebugString())\n",
    "print(solo_en_euros.count())\n",
    "print(solo_en_euros.take(10))"
   ]
  }
 ],
 "metadata": {
  "kernelspec": {
   "display_name": "Python 2",
   "language": "python",
   "name": "python2"
  },
  "language_info": {
   "codemirror_mode": {
    "name": "ipython",
    "version": 2
   },
   "file_extension": ".py",
   "mimetype": "text/x-python",
   "name": "python",
   "nbconvert_exporter": "python",
   "pygments_lexer": "ipython2",
   "version": "2.7.12"
  }
 },
 "nbformat": 4,
 "nbformat_minor": 2
}
